{
 "cells": [
  {
   "cell_type": "markdown",
   "metadata": {},
   "source": [
    "# Global Imports\n",
    "\n",
    "In order to run the code in this notebook, you need to have TensorFlow and Keras (with TensorFlow backend) installed.\n",
    "\n",
    "Below are the necessary imports, as well as some helper functions used throughout. Execute these each time you open the notebook."
   ]
  },
  {
   "cell_type": "code",
   "execution_count": 2,
   "metadata": {
    "ExecuteTime": {
     "end_time": "2018-08-27T20:54:55.123428Z",
     "start_time": "2018-08-27T20:54:52.696561Z"
    }
   },
   "outputs": [
    {
     "data": {
      "text/plain": [
       "[name: \"/device:CPU:0\"\n",
       " device_type: \"CPU\"\n",
       " memory_limit: 268435456\n",
       " locality {\n",
       " }\n",
       " incarnation: 10984888153349276392, name: \"/device:GPU:0\"\n",
       " device_type: \"GPU\"\n",
       " memory_limit: 3175455129\n",
       " locality {\n",
       "   bus_id: 1\n",
       "   links {\n",
       "   }\n",
       " }\n",
       " incarnation: 14569614373269169213\n",
       " physical_device_desc: \"device: 0, name: GeForce GTX 1050, pci bus id: 0000:01:00.0, compute capability: 6.1\"]"
      ]
     },
     "execution_count": 2,
     "metadata": {},
     "output_type": "execute_result"
    }
   ],
   "source": [
    "# To support both python 2 and python 3\n",
    "from __future__ import division, print_function, unicode_literals\n",
    "\n",
    "%matplotlib inline\n",
    "import matplotlib\n",
    "import matplotlib.image as mpimg\n",
    "import matplotlib.pyplot as plt\n",
    "import numpy as np\n",
    "import os\n",
    "import tensorflow as tf\n",
    "import sys\n",
    "\n",
    "from tensorflow.python.client import device_lib\n",
    "device_lib.list_local_devices()"
   ]
  },
  {
   "cell_type": "code",
   "execution_count": 673,
   "metadata": {
    "ExecuteTime": {
     "end_time": "2018-08-28T21:31:27.704633Z",
     "start_time": "2018-08-28T21:31:27.694660Z"
    }
   },
   "outputs": [],
   "source": [
    "# Needed for resetting a tensorflow graph\n",
    "def reset_graph(seed=42):\n",
    "    tf.reset_default_graph()\n",
    "    tf.set_random_seed(seed)\n",
    "    np.random.seed(seed)\n",
    "\n",
    "\n",
    "def random_batch(X_train, y_train, batch_size):\n",
    "    index_set = np.random.randint(0, X_train.shape[0], batch_size)\n",
    "    X_batch = X_train[index_set]\n",
    "    y_batch = y_train[index_set]\n",
    "    return X_batch, y_batch\n",
    "\n",
    "\n",
    "def plot_image(image, pad=2):\n",
    "    image = image - image.min()\n",
    "    \n",
    "    if len(image.shape) == 3:\n",
    "        channels = image.shape[2]\n",
    "    else:\n",
    "        channels = 1\n",
    "        \n",
    "    if channels == 1:\n",
    "        plt.imshow(image.reshape([height,width]), cmap=\"Greys\", interpolation=\"nearest\")\n",
    "    else:\n",
    "        plt.imshow(image)\n",
    "    plt.axis(\"off\")\n",
    "    \n",
    "\n",
    "def combine_images(images, rows=None, cols=None):\n",
    "    n_images = images.shape[0]\n",
    "    shape = images.shape[1:]\n",
    "    \n",
    "    if rows == None or cols == None:\n",
    "        cols = int(math.sqrt(n_images))\n",
    "        rows = int(math.floor(float(n_images)/cols))\n",
    "    \n",
    "    if len(shape) == 3:\n",
    "        channels = shape[2]\n",
    "    else:\n",
    "        channels = 1\n",
    "    \n",
    "    if channels == 1:\n",
    "        image = np.zeros((rows*shape[0], cols*shape[1]), dtype=images.dtype)\n",
    "    else:\n",
    "        image = np.zeros((rows*shape[0], cols*shape[1], shape[2]), dtype=images.dtype)\n",
    "    #print(generated_images.shape, shape, image.shape)\n",
    "    \n",
    "    for row in range(rows):\n",
    "        for col in range(cols):\n",
    "            img_index = row * cols + col\n",
    "            img = images[img_index]\n",
    "            if channels == 1:\n",
    "                image[\n",
    "                    row*shape[0]:(row+1)*shape[0], \n",
    "                    col*shape[1]:(col+1)*shape[1]\n",
    "                ] = img.reshape((shape[0], shape[1]))\n",
    "            else:\n",
    "                image[\n",
    "                    row*shape[0]:(row+1)*shape[0], \n",
    "                    col*shape[1]:(col+1)*shape[1],\n",
    "                    :\n",
    "                ] = img.reshape((shape[0], shape[1], shape[2]))\n",
    "    return image"
   ]
  },
  {
   "cell_type": "markdown",
   "metadata": {},
   "source": [
    "# Stacked Autoencoders\n",
    "\n",
    "An autoencoder is a type of neural network that can learn efficient representations of the data (called *codings*). It is comprised of stacking two neural networks together: an *encoder* followed by a *decoder*.\n",
    "\n",
    "For example, the MNIST dataset contains images of size $28\\times28\\times1$, a total of $784$ features which could be decreased to a vector of size at least 10 (since there are 10 labels), but to add variation in the reconstruction."
   ]
  },
  {
   "cell_type": "markdown",
   "metadata": {},
   "source": [
    "## Data Import (MNIST)"
   ]
  },
  {
   "cell_type": "code",
   "execution_count": 4,
   "metadata": {
    "ExecuteTime": {
     "end_time": "2018-08-27T16:35:03.182723Z",
     "start_time": "2018-08-27T16:35:02.631199Z"
    }
   },
   "outputs": [
    {
     "name": "stdout",
     "output_type": "stream",
     "text": [
      "(60000, 28, 28) (60000,)\n",
      "(60000, 28, 28, 1) (10000, 28, 28, 1)\n"
     ]
    }
   ],
   "source": [
    "from keras.datasets import mnist\n",
    "\n",
    "(X_train, y_train), (X_test, y_test) = mnist.load_data()\n",
    "print(X_train.shape, y_train.shape)\n",
    "\n",
    "height = X_train.shape[1]\n",
    "width = X_train.shape[2]\n",
    "channels = 1\n",
    "\n",
    "X_train = X_train.astype(np.float32) / 255.0 #ensure pixel values are between 0 and 1\n",
    "X_train = X_train.reshape((X_train.shape[0], height, width, channels))\n",
    "X_test = X_test.astype(np.float32) / 255.0 #ensure pixel values are between 0 and 1\n",
    "X_test = X_test.reshape((X_test.shape[0], height, width, channels))\n",
    "\n",
    "# Run this if you don't use the whole training set\n",
    "if False:\n",
    "    m = 10000\n",
    "    random_indeces = np.random.randint(0, X_train.shape[0], np.min(m, X_train.shape[0]))\n",
    "    X_train = X_train[random_indeces]\n",
    "\n",
    "print(X_train.shape, X_test.shape)"
   ]
  },
  {
   "cell_type": "markdown",
   "metadata": {},
   "source": [
    "## Dense Model `k_auto0`\n",
    "\n",
    "A dense autoencoder for MNIST consists of a dense neural network with a layout similar to this:\n",
    "<img src=\"./images/autoencoder_dense.png\" style=\"width:50%\">\n",
    "\n",
    "The hidden layers 1 and 3 are not necessary. For instance, one can also use a simpler architecture such as inputs -> codings -> outputs. In this case, we can think of the codings as a projection of the input space onto a smaller dimensional subspace. \n",
    "\n",
    "In fact, if we don't use any nonlinear activations, training will result in the model trying to create codings (projections) that maximize the distance between the projected training instances, essentially performing PCA."
   ]
  },
  {
   "cell_type": "code",
   "execution_count": 5,
   "metadata": {
    "ExecuteTime": {
     "end_time": "2018-08-27T16:35:07.388624Z",
     "start_time": "2018-08-27T16:35:07.382297Z"
    }
   },
   "outputs": [],
   "source": [
    "from keras import backend as K\n",
    "from keras.models import Model, Sequential\n",
    "from keras.layers.core import Activation, Dense, Flatten, Reshape\n",
    "from keras.layers import Dropout, LeakyReLU\n",
    "from keras.layers.normalization import BatchNormalization\n",
    "\n",
    "# For saving images if you use a custom training algorithm\n",
    "save_path = \"images/auto/mnist/k_auto0_\"\n",
    "save_path0 = \"images/auto/mnist/zero/k_auto0_\"\n",
    "\n",
    "# For saving/restoring model\n",
    "encoder_file = 'models/auto/mnist/k_auto0-enc'\n",
    "decoder_file = 'models/auto/mnist/k_auto0-dec'\n",
    "model_file = 'models/auto/mnist/k_auto0-model'"
   ]
  },
  {
   "cell_type": "code",
   "execution_count": 14,
   "metadata": {
    "ExecuteTime": {
     "end_time": "2018-08-27T16:38:01.885675Z",
     "start_time": "2018-08-27T16:38:01.847776Z"
    }
   },
   "outputs": [
    {
     "name": "stdout",
     "output_type": "stream",
     "text": [
      "_________________________________________________________________\n",
      "Layer (type)                 Output Shape              Param #   \n",
      "=================================================================\n",
      "input (Flatten)              (None, 784)               0         \n",
      "_________________________________________________________________\n",
      "hidden_1 (Dense)             (None, 250)               196250    \n",
      "_________________________________________________________________\n",
      "codings (Dense)              (None, 40)                10040     \n",
      "=================================================================\n",
      "Total params: 206,290\n",
      "Trainable params: 206,290\n",
      "Non-trainable params: 0\n",
      "_________________________________________________________________\n"
     ]
    }
   ],
   "source": [
    "# Build the encoder part of the model\n",
    "#\n",
    "n_inputs = height * width * channels\n",
    "n_codings = 40\n",
    "\n",
    "encoder = Sequential(name=\"encoder\")\n",
    "\n",
    "encoder.add(Flatten(input_shape=(height, width, channels, ), name=\"input\"))\n",
    "\n",
    "encoder.add(Dense(units=250, activation='relu', name='hidden_1'))\n",
    "\n",
    "# Codings layer - I choose the codings to be between 0 and 1, but you don't have to\n",
    "encoder.add(Dense(units=n_codings, activation='sigmoid', name='codings'))\n",
    "\n",
    "encoder.summary()"
   ]
  },
  {
   "cell_type": "code",
   "execution_count": 15,
   "metadata": {
    "ExecuteTime": {
     "end_time": "2018-08-27T16:38:03.679173Z",
     "start_time": "2018-08-27T16:38:03.644285Z"
    }
   },
   "outputs": [
    {
     "name": "stdout",
     "output_type": "stream",
     "text": [
      "_________________________________________________________________\n",
      "Layer (type)                 Output Shape              Param #   \n",
      "=================================================================\n",
      "hidden_3 (Dense)             (None, 320)               13120     \n",
      "_________________________________________________________________\n",
      "output_flat (Dense)          (None, 784)               251664    \n",
      "_________________________________________________________________\n",
      "output (Reshape)             (None, 28, 28, 1)         0         \n",
      "=================================================================\n",
      "Total params: 264,784\n",
      "Trainable params: 264,784\n",
      "Non-trainable params: 0\n",
      "_________________________________________________________________\n"
     ]
    }
   ],
   "source": [
    "# Build the decoder part of the model\n",
    "#\n",
    "n_outputs = n_inputs\n",
    "\n",
    "decoder = Sequential(name=\"decoder\")\n",
    "\n",
    "decoder.add(Dense(units=320, activation='relu', input_shape=(n_codings,), name='hidden_3'))\n",
    "decoder.add(Dense(units=n_outputs, activation='sigmoid', name='output_flat'))\n",
    "decoder.add(Reshape(target_shape=(height,width,channels), name='output'))\n",
    "\n",
    "decoder.summary()"
   ]
  },
  {
   "cell_type": "code",
   "execution_count": 16,
   "metadata": {
    "ExecuteTime": {
     "end_time": "2018-08-27T16:38:04.068900Z",
     "start_time": "2018-08-27T16:38:04.039977Z"
    }
   },
   "outputs": [
    {
     "name": "stdout",
     "output_type": "stream",
     "text": [
      "_________________________________________________________________\n",
      "Layer (type)                 Output Shape              Param #   \n",
      "=================================================================\n",
      "encoder (Sequential)         (None, 40)                206290    \n",
      "_________________________________________________________________\n",
      "decoder (Sequential)         (None, 28, 28, 1)         264784    \n",
      "=================================================================\n",
      "Total params: 471,074\n",
      "Trainable params: 471,074\n",
      "Non-trainable params: 0\n",
      "_________________________________________________________________\n"
     ]
    }
   ],
   "source": [
    "# Stack the two together\n",
    "#\n",
    "# NOTE: this could have all been done in a single sequential model, but I chose\n",
    "# this approach to be able to feed random values into the decoder and see what happens\n",
    "#\n",
    "model = Sequential()\n",
    "model.add(encoder)\n",
    "model.add(decoder)\n",
    "model.summary()"
   ]
  },
  {
   "cell_type": "markdown",
   "metadata": {},
   "source": [
    "### Optimizer"
   ]
  },
  {
   "cell_type": "code",
   "execution_count": 17,
   "metadata": {
    "ExecuteTime": {
     "end_time": "2018-08-27T16:38:05.827268Z",
     "start_time": "2018-08-27T16:38:05.689633Z"
    }
   },
   "outputs": [],
   "source": [
    "from keras.optimizers import SGD, RMSprop, Adam, Adagrad, Adadelta\n",
    "\n",
    "#optimizer = SGD()\n",
    "#optimizer = SGD(lr=0.003, momentum=0.7, nesterov=True)\n",
    "optimizer = Adam()\n",
    "#optimizer = Adam(lr=0.001)\n",
    "#optimizer = RMSprop()\n",
    "#optimizer = RMSprop(lr=0.001)\n",
    "#optimizer = Adagrad()\n",
    "#optimizer = Adagrad(lr=0.001)\n",
    "#optimizer = Adadelta(lr=0.15)\n",
    "\n",
    "\n",
    "encoder.compile(loss='binary_crossentropy', optimizer=\"adam\")\n",
    "decoder.compile(loss='binary_crossentropy', optimizer=\"adam\")\n",
    "model.compile(loss='mean_squared_error', optimizer=optimizer)"
   ]
  },
  {
   "cell_type": "markdown",
   "metadata": {},
   "source": [
    "### Train"
   ]
  },
  {
   "cell_type": "code",
   "execution_count": 18,
   "metadata": {
    "ExecuteTime": {
     "end_time": "2018-08-27T16:38:46.835283Z",
     "start_time": "2018-08-27T16:38:06.797197Z"
    },
    "scrolled": true
   },
   "outputs": [
    {
     "name": "stdout",
     "output_type": "stream",
     "text": [
      "Train on 51000 samples, validate on 9000 samples\n",
      "Epoch 1/30\n",
      "51000/51000 [==============================] - 2s 38us/step - loss: 0.0735 - val_loss: 0.0601\n",
      "Epoch 2/30\n",
      "51000/51000 [==============================] - 1s 25us/step - loss: 0.0559 - val_loss: 0.0503\n",
      "Epoch 3/30\n",
      "51000/51000 [==============================] - 1s 24us/step - loss: 0.0458 - val_loss: 0.0414\n",
      "Epoch 4/30\n",
      "51000/51000 [==============================] - 1s 24us/step - loss: 0.0385 - val_loss: 0.0362\n",
      "Epoch 5/30\n",
      "51000/51000 [==============================] - 1s 24us/step - loss: 0.0346 - val_loss: 0.0319\n",
      "Epoch 6/30\n",
      "51000/51000 [==============================] - 1s 24us/step - loss: 0.0301 - val_loss: 0.0279\n",
      "Epoch 7/30\n",
      "51000/51000 [==============================] - 1s 25us/step - loss: 0.0266 - val_loss: 0.0244\n",
      "Epoch 8/30\n",
      "51000/51000 [==============================] - 1s 25us/step - loss: 0.0230 - val_loss: 0.0216\n",
      "Epoch 9/30\n",
      "51000/51000 [==============================] - 1s 26us/step - loss: 0.0207 - val_loss: 0.0198\n",
      "Epoch 10/30\n",
      "51000/51000 [==============================] - 1s 25us/step - loss: 0.0191 - val_loss: 0.0184\n",
      "Epoch 11/30\n",
      "51000/51000 [==============================] - 1s 26us/step - loss: 0.0179 - val_loss: 0.0175\n",
      "Epoch 12/30\n",
      "51000/51000 [==============================] - 1s 25us/step - loss: 0.0169 - val_loss: 0.0164\n",
      "Epoch 13/30\n",
      "51000/51000 [==============================] - 1s 25us/step - loss: 0.0158 - val_loss: 0.0153\n",
      "Epoch 14/30\n",
      "51000/51000 [==============================] - 1s 25us/step - loss: 0.0149 - val_loss: 0.0145\n",
      "Epoch 15/30\n",
      "51000/51000 [==============================] - 1s 26us/step - loss: 0.0142 - val_loss: 0.0138\n",
      "Epoch 16/30\n",
      "51000/51000 [==============================] - 1s 25us/step - loss: 0.0135 - val_loss: 0.0132\n",
      "Epoch 17/30\n",
      "51000/51000 [==============================] - 1s 25us/step - loss: 0.0130 - val_loss: 0.0128\n",
      "Epoch 18/30\n",
      "51000/51000 [==============================] - 1s 25us/step - loss: 0.0126 - val_loss: 0.0124\n",
      "Epoch 19/30\n",
      "51000/51000 [==============================] - 1s 25us/step - loss: 0.0121 - val_loss: 0.0119\n",
      "Epoch 20/30\n",
      "51000/51000 [==============================] - 1s 25us/step - loss: 0.0117 - val_loss: 0.0115\n",
      "Epoch 21/30\n",
      "51000/51000 [==============================] - 1s 26us/step - loss: 0.0112 - val_loss: 0.0111\n",
      "Epoch 22/30\n",
      "51000/51000 [==============================] - 1s 26us/step - loss: 0.0109 - val_loss: 0.0109\n",
      "Epoch 23/30\n",
      "51000/51000 [==============================] - 1s 25us/step - loss: 0.0106 - val_loss: 0.0107\n",
      "Epoch 24/30\n",
      "51000/51000 [==============================] - 1s 25us/step - loss: 0.0103 - val_loss: 0.0102\n",
      "Epoch 25/30\n",
      "51000/51000 [==============================] - 1s 25us/step - loss: 0.0101 - val_loss: 0.0100\n",
      "Epoch 26/30\n",
      "51000/51000 [==============================] - 1s 25us/step - loss: 0.0098 - val_loss: 0.0099\n",
      "Epoch 27/30\n",
      "51000/51000 [==============================] - 1s 25us/step - loss: 0.0096 - val_loss: 0.0096\n",
      "Epoch 28/30\n",
      "51000/51000 [==============================] - 1s 26us/step - loss: 0.0094 - val_loss: 0.0094\n",
      "Epoch 29/30\n",
      "51000/51000 [==============================] - 1s 25us/step - loss: 0.0092 - val_loss: 0.0094\n",
      "Epoch 30/30\n",
      "51000/51000 [==============================] - 1s 25us/step - loss: 0.0091 - val_loss: 0.0091\n",
      "10000/10000 [==============================] - 1s 52us/step\n",
      "Test score: 0.008815027479827405\n"
     ]
    }
   ],
   "source": [
    "epochs = 30\n",
    "batch_size = 250\n",
    "val_split=0.15 # how much TRAIN is reserved for VALIDATION\n",
    "\n",
    "history = model.fit(\n",
    "    X_train, X_train, batch_size=batch_size, epochs=epochs, verbose=1, validation_split=val_split\n",
    ")\n",
    "\n",
    "score = model.evaluate(X_test, X_test, verbose=1)\n",
    "print(\"Test score:\", score)"
   ]
  },
  {
   "cell_type": "code",
   "execution_count": 20,
   "metadata": {
    "ExecuteTime": {
     "end_time": "2018-08-27T16:39:03.833513Z",
     "start_time": "2018-08-27T16:39:03.782620Z"
    }
   },
   "outputs": [],
   "source": [
    "# Save the encoder, decoder, and stacked models\n",
    "#\n",
    "encoder.save(encoder_file + '.h5')\n",
    "decoder.save(decoder_file + '.h5')\n",
    "model.save(model_file + '.h5')"
   ]
  },
  {
   "cell_type": "markdown",
   "metadata": {},
   "source": [
    "### Reconstruction Output"
   ]
  },
  {
   "cell_type": "markdown",
   "metadata": {},
   "source": [
    "Let's take a look at how well the reconstructions look:"
   ]
  },
  {
   "cell_type": "code",
   "execution_count": 21,
   "metadata": {
    "ExecuteTime": {
     "end_time": "2018-08-27T16:39:07.446222Z",
     "start_time": "2018-08-27T16:39:05.961536Z"
    },
    "scrolled": false
   },
   "outputs": [
    {
     "data": {
      "image/png": "[encoded data removed]",
      "text/plain": [
       "<Figure size 864x180 with 20 Axes>"
      ]
     },
     "metadata": {},
     "output_type": "display_data"
    }
   ],
   "source": [
    "from keras.models import load_model\n",
    "\n",
    "n_digits = 10\n",
    "n_codings = 40\n",
    "\n",
    "model_file = 'models/auto/mnist/k_auto0-model'\n",
    "model = load_model(model_file + '.h5')\n",
    "\n",
    "images_in, _ = random_batch(X_test, y_test, batch_size=n_digits)\n",
    "images_out = model.predict(images_in)\n",
    "\n",
    "fig = plt.figure(figsize=(12, 2.5))\n",
    "for digit_index in range(n_digits):\n",
    "    plt.subplot(2, n_digits, digit_index + 1)\n",
    "    plot_image(images_in[digit_index].reshape(28,28))\n",
    "    \n",
    "    plt.subplot(2, n_digits, n_digits + digit_index + 1)\n",
    "    plot_image(images_out[digit_index].reshape(28,28))\n",
    "plt.show()"
   ]
  },
  {
   "cell_type": "markdown",
   "metadata": {},
   "source": [
    "The reconstructions look slightly blurry, but overall very good! We might be able to get away with encodings of smaller dimension."
   ]
  },
  {
   "cell_type": "markdown",
   "metadata": {},
   "source": [
    "### Random Encodings\n",
    "\n",
    "One thing to try is to feed a randomly generated encoding vector into the decoder. Let's see what we get if we use the model `k_auto0`:"
   ]
  },
  {
   "cell_type": "code",
   "execution_count": 509,
   "metadata": {
    "ExecuteTime": {
     "end_time": "2018-08-28T17:04:12.112889Z",
     "start_time": "2018-08-28T17:04:03.839253Z"
    }
   },
   "outputs": [
    {
     "data": {
      "image/png": "[encoded data removed]",
      "text/plain": [
       "<Figure size 864x144 with 10 Axes>"
      ]
     },
     "metadata": {},
     "output_type": "display_data"
    }
   ],
   "source": [
    "from keras.models import load_model\n",
    "\n",
    "n_digits = 10\n",
    "n_codings = 40\n",
    "decoder_file = 'models/auto/mnist/k_auto0-dec'\n",
    "decoder = load_model(decoder_file + '.h5')\n",
    "\n",
    "#codings_in = noise = np.random.uniform(0, 1, n_digits * n_codings).reshape((n_digits, n_codings))\n",
    "codings_in = noise = np.random.normal(0, 1, n_digits * n_codings).reshape((n_digits, n_codings))\n",
    "images_out = decoder.predict(codings_in)\n",
    "\n",
    "fig = plt.figure(figsize=(12, 2))\n",
    "for digit_index in range(n_digits):\n",
    "    plt.subplot(1, n_digits, digit_index + 1)\n",
    "    plot_image(images_out[digit_index].reshape(28,28))\n",
    "plt.show()"
   ]
  },
  {
   "cell_type": "markdown",
   "metadata": {},
   "source": [
    "### Encoding Distributions\n",
    "\n",
    "Decoding a randomly generated encoding vector does NOT result in very clear images that look like those in the MNIST dataset. They have some resemblance, but it's vague.\n",
    "\n",
    "Let's have a look at what actual encodings look like, to see how we can remedy the problem. First we use the encoder model `k_auto0` to encode the entire training set."
   ]
  },
  {
   "cell_type": "code",
   "execution_count": 419,
   "metadata": {
    "ExecuteTime": {
     "end_time": "2018-08-28T16:21:07.574988Z",
     "start_time": "2018-08-28T16:20:54.553414Z"
    },
    "scrolled": true
   },
   "outputs": [
    {
     "name": "stdout",
     "output_type": "stream",
     "text": [
      "60000/60000 [==============================] - 9s 156us/step\n",
      "(60000, 40)\n"
     ]
    }
   ],
   "source": [
    "from keras.models import load_model\n",
    "\n",
    "encoder_file = 'models/auto/mnist/k_auto0-enc'\n",
    "encoder = load_model(encoder_file + '.h5')\n",
    "encoder.compile(loss='binary_crossentropy', optimizer=\"adam\")\n",
    "\n",
    "X_encoded = encoder.predict(X_train, verbose=True)\n",
    "print(X_encoded.shape)"
   ]
  },
  {
   "cell_type": "markdown",
   "metadata": {},
   "source": [
    "Let's plot a few of the encoded vectors' coodinates:"
   ]
  },
  {
   "cell_type": "code",
   "execution_count": 420,
   "metadata": {
    "ExecuteTime": {
     "end_time": "2018-08-28T16:21:23.368923Z",
     "start_time": "2018-08-28T16:21:22.429464Z"
    }
   },
   "outputs": [
    {
     "data": {
      "image/png": "[encoded data removed]",
      "text/plain": [
       "<Figure size 864x288 with 12 Axes>"
      ]
     },
     "metadata": {},
     "output_type": "display_data"
    }
   ],
   "source": [
    "showAll = False\n",
    "\n",
    "coord_indeces = np.array([\n",
    "    [  0,  1,  2,  3,  6, 14],\n",
    "    [ 19, 21, 23, 24, 25, 31]\n",
    "])\n",
    "\n",
    "if showAll:\n",
    "    n_cols = 8\n",
    "    n_rows = X_encoded.shape[1] // n_cols\n",
    "else:\n",
    "    n_cols = coord_indeces.shape[1]\n",
    "    n_rows = coord_indeces.shape[0]\n",
    "\n",
    "plt.figure(figsize=(12, int(12.0/n_cols * n_rows)))\n",
    "for row in range(n_rows):\n",
    "    for col in range(n_cols):\n",
    "        i = row * n_cols + col\n",
    "        plt.subplot(n_rows, n_cols, i + 1)\n",
    "        if showAll:\n",
    "            plt.title(\"Coord \" + str(i))\n",
    "            plt.hist(X_encoded[:, i], bins=20, density=True)\n",
    "        else:\n",
    "            plt.title(\"Coord \" + str(coord_indeces[row, col]))\n",
    "            plt.hist(X_encoded[:, coord_indeces[row, col]], bins=20, density=True)\n",
    "plt.tight_layout()\n",
    "plt.show()"
   ]
  },
  {
   "cell_type": "markdown",
   "metadata": {},
   "source": [
    "The distributions of the coordinates are all different. No wonder feeding in a random encoding vector with coordinates sampled from a gaussian distribution didn't generate anything legible!\n",
    "\n",
    "*Variational autoencoders* solve this problem."
   ]
  },
  {
   "cell_type": "markdown",
   "metadata": {},
   "source": [
    "## Conv Model `k_auto_conv0`\n",
    "\n",
    "Instead of using dense layers, it is common to use convolutional layers when working with images:\n",
    "\n",
    "<img src=\"./images/autoencoder_convolutional.png\" style=\"width:50%\">"
   ]
  },
  {
   "cell_type": "code",
   "execution_count": 92,
   "metadata": {
    "ExecuteTime": {
     "end_time": "2018-08-27T17:02:58.318185Z",
     "start_time": "2018-08-27T17:02:58.312202Z"
    }
   },
   "outputs": [],
   "source": [
    "from keras import backend as K\n",
    "from keras.models import Model, Sequential\n",
    "from keras.layers.core import Activation, Dense, Flatten, Reshape\n",
    "from keras.layers import Dropout, LeakyReLU\n",
    "from keras.layers.normalization import BatchNormalization\n",
    "from keras.layers.convolutional import Conv2D, Conv2DTranspose, UpSampling2D\n",
    "from keras.layers.convolutional import MaxPooling2D, AveragePooling2D\n",
    "\n",
    "# For saving images if you use a custom training algorithm\n",
    "save_path = \"images/auto/mnist/k_auto_conv0_\"\n",
    "save_path0 = \"images/auto/mnist/zero/k_auto_conv0_\"\n",
    "\n",
    "# For saving/restoring model\n",
    "encoder_file = 'models/auto/mnist/k_auto_conv0-enc'\n",
    "decoder_file = 'models/auto/mnist/k_auto_conv0-dec'\n",
    "model_file = 'models/auto/mnist/k_auto_conv0-model'"
   ]
  },
  {
   "cell_type": "code",
   "execution_count": 94,
   "metadata": {
    "ExecuteTime": {
     "end_time": "2018-08-27T17:03:20.208011Z",
     "start_time": "2018-08-27T17:03:20.161108Z"
    },
    "scrolled": false
   },
   "outputs": [
    {
     "name": "stdout",
     "output_type": "stream",
     "text": [
      "_________________________________________________________________\n",
      "Layer (type)                 Output Shape              Param #   \n",
      "=================================================================\n",
      "conv2d_43 (Conv2D)           (None, 28, 28, 6)         156       \n",
      "_________________________________________________________________\n",
      "activation_43 (Activation)   (None, 28, 28, 6)         0         \n",
      "_________________________________________________________________\n",
      "layer_1 (MaxPooling2D)       (None, 14, 14, 6)         0         \n",
      "_________________________________________________________________\n",
      "conv2d_44 (Conv2D)           (None, 14, 14, 12)        1812      \n",
      "_________________________________________________________________\n",
      "activation_44 (Activation)   (None, 14, 14, 12)        0         \n",
      "_________________________________________________________________\n",
      "maxpool_2 (MaxPooling2D)     (None, 7, 7, 12)          0         \n",
      "_________________________________________________________________\n",
      "codings (Flatten)            (None, 588)               0         \n",
      "=================================================================\n",
      "Total params: 1,968\n",
      "Trainable params: 1,968\n",
      "Non-trainable params: 0\n",
      "_________________________________________________________________\n"
     ]
    }
   ],
   "source": [
    "# Build the encoder part of the model\n",
    "#\n",
    "n_inputs = height * width * channels\n",
    "\n",
    "encoder = Sequential(name=\"encoder\")\n",
    "\n",
    "encoder.add(Conv2D(filters=6, kernel_size=5, strides=1, padding='same', \n",
    "                   input_shape=(height,width,channels)))\n",
    "encoder.add(Activation('relu'))\n",
    "encoder.add(MaxPooling2D(pool_size=(2, 2), name=\"layer_1\"))\n",
    "\n",
    "encoder.add(Conv2D(filters=12, kernel_size=5, strides=1, padding='same'))\n",
    "encoder.add(Activation('sigmoid'))\n",
    "encoder.add(MaxPooling2D(pool_size=(2, 2), name=\"maxpool_2\"))\n",
    "\n",
    "encoder.add(Flatten(name=\"codings\"))\n",
    "\n",
    "encoder.summary()"
   ]
  },
  {
   "cell_type": "code",
   "execution_count": 95,
   "metadata": {
    "ExecuteTime": {
     "end_time": "2018-08-27T17:03:29.573168Z",
     "start_time": "2018-08-27T17:03:29.569180Z"
    }
   },
   "outputs": [
    {
     "name": "stdout",
     "output_type": "stream",
     "text": [
      "(7, 7, 12)\n"
     ]
    }
   ],
   "source": [
    "print(encoder.layers[-2].output_shape[1:])"
   ]
  },
  {
   "cell_type": "code",
   "execution_count": 96,
   "metadata": {
    "ExecuteTime": {
     "end_time": "2018-08-27T17:03:46.992732Z",
     "start_time": "2018-08-27T17:03:46.920891Z"
    }
   },
   "outputs": [
    {
     "name": "stdout",
     "output_type": "stream",
     "text": [
      "_________________________________________________________________\n",
      "Layer (type)                 Output Shape              Param #   \n",
      "=================================================================\n",
      "codings_in (Reshape)         (None, 7, 7, 12)          0         \n",
      "_________________________________________________________________\n",
      "up_sampling2d_13 (UpSampling (None, 14, 14, 12)        0         \n",
      "_________________________________________________________________\n",
      "conv2d_45 (Conv2D)           (None, 14, 14, 8)         3464      \n",
      "_________________________________________________________________\n",
      "activation_45 (Activation)   (None, 14, 14, 8)         0         \n",
      "_________________________________________________________________\n",
      "up_sampling2d_14 (UpSampling (None, 28, 28, 8)         0         \n",
      "_________________________________________________________________\n",
      "conv2d_46 (Conv2D)           (None, 28, 28, 4)         2596      \n",
      "_________________________________________________________________\n",
      "activation_46 (Activation)   (None, 28, 28, 4)         0         \n",
      "_________________________________________________________________\n",
      "conv2d_47 (Conv2D)           (None, 28, 28, 1)         101       \n",
      "_________________________________________________________________\n",
      "activation_47 (Activation)   (None, 28, 28, 1)         0         \n",
      "=================================================================\n",
      "Total params: 6,161\n",
      "Trainable params: 6,161\n",
      "Non-trainable params: 0\n",
      "_________________________________________________________________\n"
     ]
    }
   ],
   "source": [
    "# Build the decoder part of the model\n",
    "#\n",
    "n_outputs = n_inputs\n",
    "n_codings = encoder.layers[-1].output_shape[1]\n",
    "reshape = encoder.layers[-2].output_shape[1:]\n",
    "\n",
    "decoder = Sequential(name=\"decoder\")\n",
    "\n",
    "decoder.add(Reshape(input_shape=(n_codings, ), target_shape=reshape, name='codings_in'))\n",
    "\n",
    "decoder.add(UpSampling2D(size=(2,2)))\n",
    "decoder.add(Conv2D(filters=8, kernel_size=6, strides=1, padding='same'))\n",
    "decoder.add(Activation('relu'))\n",
    "\n",
    "decoder.add(UpSampling2D(size=(2,2)))\n",
    "decoder.add(Conv2D(filters=4, kernel_size=9, strides=1, padding='same'))\n",
    "decoder.add(Activation('relu'))\n",
    "\n",
    "decoder.add(Conv2D(filters=1, kernel_size=5, strides=1, padding='same'))\n",
    "decoder.add(Activation('sigmoid'))\n",
    "\n",
    "decoder.summary()"
   ]
  },
  {
   "cell_type": "code",
   "execution_count": 97,
   "metadata": {
    "ExecuteTime": {
     "end_time": "2018-08-27T17:03:49.777512Z",
     "start_time": "2018-08-27T17:03:49.724654Z"
    }
   },
   "outputs": [
    {
     "name": "stdout",
     "output_type": "stream",
     "text": [
      "_________________________________________________________________\n",
      "Layer (type)                 Output Shape              Param #   \n",
      "=================================================================\n",
      "encoder (Sequential)         (None, 588)               1968      \n",
      "_________________________________________________________________\n",
      "decoder (Sequential)         (None, 28, 28, 1)         6161      \n",
      "=================================================================\n",
      "Total params: 8,129\n",
      "Trainable params: 8,129\n",
      "Non-trainable params: 0\n",
      "_________________________________________________________________\n"
     ]
    }
   ],
   "source": [
    "# Stack the two together\n",
    "#\n",
    "# NOTE: this could have all been done in a single sequential model, but I chose\n",
    "# this approach to be able to feed random values into the decoder and see what happens\n",
    "#\n",
    "model = Sequential()\n",
    "model.add(encoder)\n",
    "model.add(decoder)\n",
    "model.summary()"
   ]
  },
  {
   "cell_type": "markdown",
   "metadata": {},
   "source": [
    "### Optimizer"
   ]
  },
  {
   "cell_type": "code",
   "execution_count": 98,
   "metadata": {
    "ExecuteTime": {
     "end_time": "2018-08-27T17:03:54.933216Z",
     "start_time": "2018-08-27T17:03:54.841340Z"
    }
   },
   "outputs": [],
   "source": [
    "from keras.optimizers import SGD, RMSprop, Adam, Adagrad, Adadelta\n",
    "\n",
    "optimizer = SGD()\n",
    "#optimizer = SGD(lr=0.003, momentum=0.7, nesterov=True)\n",
    "#optimizer = Adam()\n",
    "#optimizer = Adam(lr=0.001)\n",
    "#optimizer = RMSprop()\n",
    "#optimizer = RMSprop(lr=0.001)\n",
    "#optimizer = Adagrad()\n",
    "#optimizer = Adagrad(lr=0.001)\n",
    "#optimizer = Adadelta(lr=0.15)\n",
    "\n",
    "\n",
    "encoder.compile(loss='binary_crossentropy', optimizer=\"adam\")\n",
    "decoder.compile(loss='binary_crossentropy', optimizer=\"adam\")\n",
    "model.compile(loss='mean_squared_error', optimizer=optimizer)"
   ]
  },
  {
   "cell_type": "markdown",
   "metadata": {},
   "source": [
    "### Train"
   ]
  },
  {
   "cell_type": "code",
   "execution_count": 99,
   "metadata": {
    "ExecuteTime": {
     "end_time": "2018-08-27T17:05:09.273963Z",
     "start_time": "2018-08-27T17:03:56.133792Z"
    },
    "scrolled": true
   },
   "outputs": [
    {
     "name": "stdout",
     "output_type": "stream",
     "text": [
      "Train on 54000 samples, validate on 6000 samples\n",
      "Epoch 1/10\n",
      "54000/54000 [==============================] - 9s 165us/step - loss: 0.1131 - val_loss: 0.0885\n",
      "Epoch 2/10\n",
      "54000/54000 [==============================] - 7s 134us/step - loss: 0.0771 - val_loss: 0.0710\n",
      "Epoch 3/10\n",
      "54000/54000 [==============================] - 7s 130us/step - loss: 0.0682 - val_loss: 0.0660\n",
      "Epoch 4/10\n",
      "54000/54000 [==============================] - 7s 128us/step - loss: 0.0641 - val_loss: 0.0625\n",
      "Epoch 5/10\n",
      "54000/54000 [==============================] - 7s 129us/step - loss: 0.0608 - val_loss: 0.0594\n",
      "Epoch 6/10\n",
      "54000/54000 [==============================] - 7s 127us/step - loss: 0.0577 - val_loss: 0.0564\n",
      "Epoch 7/10\n",
      "54000/54000 [==============================] - 7s 129us/step - loss: 0.0548 - val_loss: 0.0537\n",
      "Epoch 8/10\n",
      "54000/54000 [==============================] - 7s 128us/step - loss: 0.0524 - val_loss: 0.0514\n",
      "Epoch 9/10\n",
      "54000/54000 [==============================] - 7s 132us/step - loss: 0.0503 - val_loss: 0.0494\n",
      "Epoch 10/10\n",
      "54000/54000 [==============================] - 7s 129us/step - loss: 0.0484 - val_loss: 0.0476\n",
      "10000/10000 [==============================] - 1s 104us/step\n",
      "Test score: 0.04777730257511139\n"
     ]
    }
   ],
   "source": [
    "epochs = 10\n",
    "batch_size = 200\n",
    "val_split=0.10 # how much TRAIN is reserved for VALIDATION\n",
    "\n",
    "history = model.fit(\n",
    "    X_train, X_train, batch_size=batch_size, epochs=epochs, verbose=1, validation_split=val_split\n",
    ")\n",
    "\n",
    "score = model.evaluate(X_test, X_test, verbose=1)\n",
    "print(\"Test score:\", score)"
   ]
  },
  {
   "cell_type": "code",
   "execution_count": 100,
   "metadata": {
    "ExecuteTime": {
     "end_time": "2018-08-27T17:05:14.035070Z",
     "start_time": "2018-08-27T17:05:12.998446Z"
    }
   },
   "outputs": [],
   "source": [
    "# Save the encoder, decoder, and stacked models\n",
    "#\n",
    "encoder.save(encoder_file + '.h5')\n",
    "decoder.save(decoder_file + '.h5')\n",
    "model.save(model_file + '.h5')"
   ]
  },
  {
   "cell_type": "markdown",
   "metadata": {},
   "source": [
    "### Reconstruction Output"
   ]
  },
  {
   "cell_type": "markdown",
   "metadata": {},
   "source": [
    "Let's take a look at how well the reconstructions look:"
   ]
  },
  {
   "cell_type": "code",
   "execution_count": 110,
   "metadata": {
    "ExecuteTime": {
     "end_time": "2018-08-27T18:47:37.012669Z",
     "start_time": "2018-08-27T18:47:36.255410Z"
    },
    "scrolled": false
   },
   "outputs": [
    {
     "data": {
      "image/png": "[encoded data removed]",
      "text/plain": [
       "<Figure size 864x180 with 20 Axes>"
      ]
     },
     "metadata": {},
     "output_type": "display_data"
    }
   ],
   "source": [
    "from keras.models import load_model\n",
    "\n",
    "n_digits = 10\n",
    "n_codings = 588 #from the encoder number\n",
    "\n",
    "#model_file = 'models/auto/mnist/k_auto_conv0-model'\n",
    "#model = load_model(model_file + '.h5')\n",
    "\n",
    "images_in, _ = random_batch(X_test, y_test, batch_size=n_digits)\n",
    "images_out = model.predict(images_in)\n",
    "\n",
    "fig = plt.figure(figsize=(12, 2.5))\n",
    "for digit_index in range(n_digits):\n",
    "    plt.subplot(2, n_digits, digit_index + 1)\n",
    "    plot_image(images_in[digit_index].reshape(28,28))\n",
    "    \n",
    "    plt.subplot(2, n_digits, n_digits + digit_index + 1)\n",
    "    plot_image(images_out[digit_index].reshape(28,28))\n",
    "plt.show()"
   ]
  },
  {
   "cell_type": "markdown",
   "metadata": {},
   "source": [
    "As an exercise, try to improve this model. Some things you can try:\n",
    "* add more feature maps\n",
    "* add a dense layer before/after the codings (similar to the Dense model)"
   ]
  },
  {
   "cell_type": "markdown",
   "metadata": {},
   "source": [
    "## Dense Model `k_auto1`\n",
    "\n",
    "What happens if we don't apply the sigmoid activation to the model?"
   ]
  },
  {
   "cell_type": "code",
   "execution_count": 421,
   "metadata": {
    "ExecuteTime": {
     "end_time": "2018-08-28T16:22:02.681174Z",
     "start_time": "2018-08-28T16:22:02.676157Z"
    }
   },
   "outputs": [],
   "source": [
    "from keras import backend as K\n",
    "from keras.models import Model, Sequential\n",
    "from keras.layers.core import Activation, Dense, Flatten, Reshape\n",
    "from keras.layers import Dropout, LeakyReLU\n",
    "from keras.layers.normalization import BatchNormalization\n",
    "\n",
    "# For saving images if you use a custom training algorithm\n",
    "save_path = \"images/auto/mnist/k_auto1_\"\n",
    "save_path0 = \"images/auto/mnist/zero/k_auto1_\"\n",
    "\n",
    "# For saving/restoring model\n",
    "encoder_file = 'models/auto/mnist/k_auto1-enc'\n",
    "decoder_file = 'models/auto/mnist/k_auto1-dec'\n",
    "model_file = 'models/auto/mnist/k_auto1-model'"
   ]
  },
  {
   "cell_type": "code",
   "execution_count": 422,
   "metadata": {
    "ExecuteTime": {
     "end_time": "2018-08-28T16:22:03.429741Z",
     "start_time": "2018-08-28T16:22:03.388851Z"
    }
   },
   "outputs": [
    {
     "name": "stdout",
     "output_type": "stream",
     "text": [
      "_________________________________________________________________\n",
      "Layer (type)                 Output Shape              Param #   \n",
      "=================================================================\n",
      "input (Flatten)              (None, 784)               0         \n",
      "_________________________________________________________________\n",
      "hidden_1 (Dense)             (None, 250)               196250    \n",
      "_________________________________________________________________\n",
      "codings (Dense)              (None, 40)                10040     \n",
      "=================================================================\n",
      "Total params: 206,290\n",
      "Trainable params: 206,290\n",
      "Non-trainable params: 0\n",
      "_________________________________________________________________\n"
     ]
    }
   ],
   "source": [
    "# Build the encoder part of the model\n",
    "#\n",
    "n_inputs = height * width * channels\n",
    "n_codings = 40\n",
    "\n",
    "encoder = Sequential(name=\"encoder\")\n",
    "\n",
    "encoder.add(Flatten(input_shape=(height, width, channels, ), name=\"input\"))\n",
    "\n",
    "encoder.add(Dense(units=250, activation='relu', name='hidden_1'))\n",
    "\n",
    "# Codings layer - no activation\n",
    "encoder.add(Dense(units=n_codings, name='codings'))\n",
    "\n",
    "encoder.summary()"
   ]
  },
  {
   "cell_type": "code",
   "execution_count": 423,
   "metadata": {
    "ExecuteTime": {
     "end_time": "2018-08-28T16:22:04.847355Z",
     "start_time": "2018-08-28T16:22:04.810426Z"
    }
   },
   "outputs": [
    {
     "name": "stdout",
     "output_type": "stream",
     "text": [
      "_________________________________________________________________\n",
      "Layer (type)                 Output Shape              Param #   \n",
      "=================================================================\n",
      "hidden_3 (Dense)             (None, 320)               13120     \n",
      "_________________________________________________________________\n",
      "output_flat (Dense)          (None, 784)               251664    \n",
      "_________________________________________________________________\n",
      "output (Reshape)             (None, 28, 28, 1)         0         \n",
      "=================================================================\n",
      "Total params: 264,784\n",
      "Trainable params: 264,784\n",
      "Non-trainable params: 0\n",
      "_________________________________________________________________\n"
     ]
    }
   ],
   "source": [
    "# Build the decoder part of the model\n",
    "#\n",
    "n_outputs = n_inputs\n",
    "\n",
    "decoder = Sequential(name=\"decoder\")\n",
    "\n",
    "decoder.add(Dense(units=320, activation='relu', input_shape=(n_codings,), name='hidden_3'))\n",
    "decoder.add(Dense(units=n_outputs, activation='sigmoid', name='output_flat'))\n",
    "decoder.add(Reshape(target_shape=(height,width,channels), name='output'))\n",
    "\n",
    "decoder.summary()"
   ]
  },
  {
   "cell_type": "code",
   "execution_count": 424,
   "metadata": {
    "ExecuteTime": {
     "end_time": "2018-08-28T16:22:10.178723Z",
     "start_time": "2018-08-28T16:22:10.148832Z"
    }
   },
   "outputs": [
    {
     "name": "stdout",
     "output_type": "stream",
     "text": [
      "_________________________________________________________________\n",
      "Layer (type)                 Output Shape              Param #   \n",
      "=================================================================\n",
      "encoder (Sequential)         (None, 40)                206290    \n",
      "_________________________________________________________________\n",
      "decoder (Sequential)         (None, 28, 28, 1)         264784    \n",
      "=================================================================\n",
      "Total params: 471,074\n",
      "Trainable params: 471,074\n",
      "Non-trainable params: 0\n",
      "_________________________________________________________________\n"
     ]
    }
   ],
   "source": [
    "# Stack the two together\n",
    "#\n",
    "# NOTE: this could have all been done in a single sequential model, but I chose\n",
    "# this approach to be able to feed random values into the decoder and see what happens\n",
    "#\n",
    "model = Sequential()\n",
    "model.add(encoder)\n",
    "model.add(decoder)\n",
    "model.summary()"
   ]
  },
  {
   "cell_type": "markdown",
   "metadata": {},
   "source": [
    "### Optimizer"
   ]
  },
  {
   "cell_type": "code",
   "execution_count": 425,
   "metadata": {
    "ExecuteTime": {
     "end_time": "2018-08-28T16:22:15.692162Z",
     "start_time": "2018-08-28T16:22:15.595443Z"
    }
   },
   "outputs": [],
   "source": [
    "from keras.optimizers import SGD, RMSprop, Adam, Adagrad, Adadelta\n",
    "\n",
    "#optimizer = SGD()\n",
    "#optimizer = SGD(lr=0.003, momentum=0.7, nesterov=True)\n",
    "optimizer = Adam()\n",
    "#optimizer = Adam(lr=0.001)\n",
    "#optimizer = RMSprop()\n",
    "#optimizer = RMSprop(lr=0.001)\n",
    "#optimizer = Adagrad()\n",
    "#optimizer = Adagrad(lr=0.001)\n",
    "#optimizer = Adadelta(lr=0.15)\n",
    "\n",
    "\n",
    "encoder.compile(loss='binary_crossentropy', optimizer=\"adam\")\n",
    "decoder.compile(loss='binary_crossentropy', optimizer=\"adam\")\n",
    "model.compile(loss='mean_squared_error', optimizer=optimizer)"
   ]
  },
  {
   "cell_type": "markdown",
   "metadata": {},
   "source": [
    "### Train"
   ]
  },
  {
   "cell_type": "code",
   "execution_count": 426,
   "metadata": {
    "ExecuteTime": {
     "end_time": "2018-08-28T16:23:23.956968Z",
     "start_time": "2018-08-28T16:22:19.332764Z"
    },
    "scrolled": true
   },
   "outputs": [
    {
     "name": "stdout",
     "output_type": "stream",
     "text": [
      "Train on 51000 samples, validate on 9000 samples\n",
      "Epoch 1/30\n",
      "51000/51000 [==============================] - 7s 128us/step - loss: 0.0532 - val_loss: 0.0279\n",
      "Epoch 2/30\n",
      "51000/51000 [==============================] - 2s 37us/step - loss: 0.0215 - val_loss: 0.0170\n",
      "Epoch 3/30\n",
      "51000/51000 [==============================] - 2s 38us/step - loss: 0.0149 - val_loss: 0.0131\n",
      "Epoch 4/30\n",
      "51000/51000 [==============================] - 2s 37us/step - loss: 0.0120 - val_loss: 0.0110\n",
      "Epoch 5/30\n",
      "51000/51000 [==============================] - 2s 37us/step - loss: 0.0103 - val_loss: 0.0098\n",
      "Epoch 6/30\n",
      "51000/51000 [==============================] - 2s 37us/step - loss: 0.0093 - val_loss: 0.0091\n",
      "Epoch 7/30\n",
      "51000/51000 [==============================] - 2s 38us/step - loss: 0.0085 - val_loss: 0.0083\n",
      "Epoch 8/30\n",
      "51000/51000 [==============================] - 2s 39us/step - loss: 0.0080 - val_loss: 0.0078\n",
      "Epoch 9/30\n",
      "51000/51000 [==============================] - 2s 38us/step - loss: 0.0076 - val_loss: 0.0075\n",
      "Epoch 10/30\n",
      "51000/51000 [==============================] - 2s 37us/step - loss: 0.0071 - val_loss: 0.0071\n",
      "Epoch 11/30\n",
      "51000/51000 [==============================] - 2s 39us/step - loss: 0.0068 - val_loss: 0.0069\n",
      "Epoch 12/30\n",
      "51000/51000 [==============================] - 2s 39us/step - loss: 0.0065 - val_loss: 0.0066\n",
      "Epoch 13/30\n",
      "51000/51000 [==============================] - 2s 38us/step - loss: 0.0063 - val_loss: 0.0063\n",
      "Epoch 14/30\n",
      "51000/51000 [==============================] - 2s 39us/step - loss: 0.0061 - val_loss: 0.0061\n",
      "Epoch 15/30\n",
      "51000/51000 [==============================] - 2s 37us/step - loss: 0.0059 - val_loss: 0.0060\n",
      "Epoch 16/30\n",
      "51000/51000 [==============================] - 2s 37us/step - loss: 0.0057 - val_loss: 0.0059\n",
      "Epoch 17/30\n",
      "51000/51000 [==============================] - 2s 38us/step - loss: 0.0056 - val_loss: 0.0057\n",
      "Epoch 18/30\n",
      "51000/51000 [==============================] - 2s 38us/step - loss: 0.0055 - val_loss: 0.0056\n",
      "Epoch 19/30\n",
      "51000/51000 [==============================] - 2s 40us/step - loss: 0.0054 - val_loss: 0.0055\n",
      "Epoch 20/30\n",
      "51000/51000 [==============================] - 2s 42us/step - loss: 0.0053 - val_loss: 0.0054\n",
      "Epoch 21/30\n",
      "51000/51000 [==============================] - 2s 38us/step - loss: 0.0051 - val_loss: 0.0053\n",
      "Epoch 22/30\n",
      "51000/51000 [==============================] - 2s 37us/step - loss: 0.0051 - val_loss: 0.0052\n",
      "Epoch 23/30\n",
      "51000/51000 [==============================] - 2s 41us/step - loss: 0.0050 - val_loss: 0.0052\n",
      "Epoch 24/30\n",
      "51000/51000 [==============================] - 2s 39us/step - loss: 0.0049 - val_loss: 0.0051\n",
      "Epoch 25/30\n",
      "51000/51000 [==============================] - 2s 39us/step - loss: 0.0048 - val_loss: 0.0050\n",
      "Epoch 26/30\n",
      "51000/51000 [==============================] - 2s 37us/step - loss: 0.0048 - val_loss: 0.0050\n",
      "Epoch 27/30\n",
      "51000/51000 [==============================] - 2s 37us/step - loss: 0.0047 - val_loss: 0.0049\n",
      "Epoch 28/30\n",
      "51000/51000 [==============================] - 2s 40us/step - loss: 0.0047 - val_loss: 0.0049\n",
      "Epoch 29/30\n",
      "51000/51000 [==============================] - 2s 39us/step - loss: 0.0046 - val_loss: 0.0048\n",
      "Epoch 30/30\n",
      "51000/51000 [==============================] - 2s 38us/step - loss: 0.0046 - val_loss: 0.0049\n",
      "10000/10000 [==============================] - 1s 118us/step\n",
      "Test score: 0.0047070802062749864\n"
     ]
    }
   ],
   "source": [
    "epochs = 30\n",
    "batch_size = 250\n",
    "val_split=0.15 # how much TRAIN is reserved for VALIDATION\n",
    "\n",
    "history = model.fit(\n",
    "    X_train, X_train, batch_size=batch_size, epochs=epochs, verbose=1, validation_split=val_split\n",
    ")\n",
    "\n",
    "score = model.evaluate(X_test, X_test, verbose=1)\n",
    "print(\"Test score:\", score)"
   ]
  },
  {
   "cell_type": "code",
   "execution_count": 414,
   "metadata": {
    "ExecuteTime": {
     "end_time": "2018-08-28T16:18:23.836793Z",
     "start_time": "2018-08-28T16:18:17.969406Z"
    }
   },
   "outputs": [],
   "source": [
    "# Save the encoder, decoder, and stacked models\n",
    "#\n",
    "encoder.save(encoder_file + '.h5')\n",
    "decoder.save(decoder_file + '.h5')\n",
    "model.save(model_file + '.h5')"
   ]
  },
  {
   "cell_type": "markdown",
   "metadata": {},
   "source": [
    "### Reconstruction Output"
   ]
  },
  {
   "cell_type": "markdown",
   "metadata": {},
   "source": [
    "Let's take a look at how well the reconstructions look:"
   ]
  },
  {
   "cell_type": "code",
   "execution_count": 427,
   "metadata": {
    "ExecuteTime": {
     "end_time": "2018-08-28T16:24:21.587560Z",
     "start_time": "2018-08-28T16:24:09.621407Z"
    },
    "scrolled": false
   },
   "outputs": [
    {
     "data": {
      "image/png": "[encoded data removed]",
      "text/plain": [
       "<Figure size 864x180 with 20 Axes>"
      ]
     },
     "metadata": {},
     "output_type": "display_data"
    }
   ],
   "source": [
    "from keras.models import load_model\n",
    "\n",
    "n_digits = 10\n",
    "n_codings = 40\n",
    "\n",
    "model_file = 'models/auto/mnist/k_auto1-model'\n",
    "model = load_model(model_file + '.h5')\n",
    "\n",
    "images_in, _ = random_batch(X_test, y_test, batch_size=n_digits)\n",
    "images_out = model.predict(images_in)\n",
    "\n",
    "fig = plt.figure(figsize=(12, 2.5))\n",
    "for digit_index in range(n_digits):\n",
    "    plt.subplot(2, n_digits, digit_index + 1)\n",
    "    plot_image(images_in[digit_index].reshape(28,28))\n",
    "    \n",
    "    plt.subplot(2, n_digits, n_digits + digit_index + 1)\n",
    "    plot_image(images_out[digit_index].reshape(28,28))\n",
    "plt.show()"
   ]
  },
  {
   "cell_type": "markdown",
   "metadata": {},
   "source": [
    "### Random Encodings"
   ]
  },
  {
   "cell_type": "code",
   "execution_count": 511,
   "metadata": {
    "ExecuteTime": {
     "end_time": "2018-08-28T17:05:06.402489Z",
     "start_time": "2018-08-28T17:04:58.135264Z"
    }
   },
   "outputs": [
    {
     "data": {
      "image/png": "[encoded data removed]",
      "text/plain": [
       "<Figure size 864x144 with 10 Axes>"
      ]
     },
     "metadata": {},
     "output_type": "display_data"
    }
   ],
   "source": [
    "from keras.models import load_model\n",
    "\n",
    "n_digits = 10\n",
    "n_codings = 40\n",
    "decoder_file = 'models/auto/mnist/k_auto1-dec'\n",
    "decoder = load_model(decoder_file + '.h5')\n",
    "\n",
    "#codings_in = noise = np.random.uniform(-3, 3, n_digits * n_codings).reshape((n_digits, n_codings))\n",
    "codings_in = noise = np.random.normal(0, 1, n_digits * n_codings).reshape((n_digits, n_codings))\n",
    "images_out = decoder.predict(codings_in)\n",
    "\n",
    "fig = plt.figure(figsize=(12, 2))\n",
    "for digit_index in range(n_digits):\n",
    "    plt.subplot(1, n_digits, digit_index + 1)\n",
    "    plot_image(images_out[digit_index].reshape(28,28))\n",
    "plt.show()"
   ]
  },
  {
   "cell_type": "markdown",
   "metadata": {},
   "source": [
    "### Encoding Distributions"
   ]
  },
  {
   "cell_type": "code",
   "execution_count": 512,
   "metadata": {
    "ExecuteTime": {
     "end_time": "2018-08-28T17:05:30.561240Z",
     "start_time": "2018-08-28T17:05:16.379498Z"
    },
    "scrolled": true
   },
   "outputs": [
    {
     "name": "stdout",
     "output_type": "stream",
     "text": [
      "60000/60000 [==============================] - 10s 167us/step\n",
      "(60000, 40)\n"
     ]
    }
   ],
   "source": [
    "from keras.models import load_model\n",
    "\n",
    "encoder_file = 'models/auto/mnist/k_auto1-enc'\n",
    "encoder = load_model(encoder_file + '.h5')\n",
    "encoder.compile(loss='binary_crossentropy', optimizer=\"adam\")\n",
    "\n",
    "X_encoded = encoder.predict(X_train, verbose=True)\n",
    "print(X_encoded.shape)"
   ]
  },
  {
   "cell_type": "code",
   "execution_count": 513,
   "metadata": {
    "ExecuteTime": {
     "end_time": "2018-08-28T17:05:32.432267Z",
     "start_time": "2018-08-28T17:05:30.563234Z"
    }
   },
   "outputs": [
    {
     "data": {
      "image/png": "[encoded data removed]",
      "text/plain": [
       "<Figure size 864x288 with 12 Axes>"
      ]
     },
     "metadata": {},
     "output_type": "display_data"
    }
   ],
   "source": [
    "showAll = False\n",
    "\n",
    "coord_indeces = np.array([\n",
    "    [  0,  1,  2,  3,  6, 14],\n",
    "    [ 19, 21, 23, 24, 25, 31]\n",
    "])\n",
    "\n",
    "if showAll:\n",
    "    n_cols = 8\n",
    "    n_rows = X_encoded.shape[1] // n_cols\n",
    "else:\n",
    "    n_cols = coord_indeces.shape[1]\n",
    "    n_rows = coord_indeces.shape[0]\n",
    "\n",
    "plt.figure(figsize=(12, int(12.0/n_cols * n_rows)))\n",
    "for row in range(n_rows):\n",
    "    for col in range(n_cols):\n",
    "        i = row * n_cols + col\n",
    "        plt.subplot(n_rows, n_cols, i + 1)\n",
    "        if showAll:\n",
    "            plt.title(\"Coord \" + str(i))\n",
    "            plt.hist(X_encoded[:, i], bins=20, density=True)\n",
    "        else:\n",
    "            plt.title(\"Coord \" + str(coord_indeces[row, col]))\n",
    "            plt.hist(X_encoded[:, coord_indeces[row, col]], bins=20, density=True)\n",
    "plt.tight_layout()\n",
    "plt.show()"
   ]
  },
  {
   "cell_type": "markdown",
   "metadata": {},
   "source": [
    "# Variational Autoencoders"
   ]
  },
  {
   "cell_type": "code",
   "execution_count": null,
   "metadata": {},
   "outputs": [],
   "source": []
  },
  {
   "cell_type": "markdown",
   "metadata": {},
   "source": [
    "## Data Import (MNIST)"
   ]
  },
  {
   "cell_type": "code",
   "execution_count": 514,
   "metadata": {
    "ExecuteTime": {
     "end_time": "2018-08-28T17:06:39.831689Z",
     "start_time": "2018-08-28T17:06:39.096664Z"
    }
   },
   "outputs": [
    {
     "name": "stdout",
     "output_type": "stream",
     "text": [
      "(60000, 28, 28) (60000,)\n",
      "(60000, 28, 28, 1) (10000, 28, 28, 1)\n"
     ]
    }
   ],
   "source": [
    "from keras.datasets import mnist\n",
    "from keras.utils import np_utils, plot_model\n",
    "\n",
    "\n",
    "(X_train, y_train), (X_test, y_test) = mnist.load_data()\n",
    "print(X_train.shape, y_train.shape)\n",
    "\n",
    "height = X_train.shape[1]\n",
    "width = X_train.shape[2]\n",
    "channels = 1\n",
    "\n",
    "X_train = X_train.astype(np.float32) / 255.0 #ensure pixel values are between 0 and 1\n",
    "X_train = X_train.reshape((X_train.shape[0], height, width, channels))\n",
    "X_test = X_test.astype(np.float32) / 255.0 #ensure pixel values are between 0 and 1\n",
    "X_test = X_test.reshape((X_test.shape[0], height, width, channels))\n",
    "\n",
    "# Run this if you don't use the whole training set\n",
    "if False:\n",
    "    m = 10000\n",
    "    random_indeces = np.random.randint(0, X_train.shape[0], np.min(m, X_train.shape[0]))\n",
    "    X_train = X_train[random_indeces]\n",
    "\n",
    "print(X_train.shape, X_test.shape)"
   ]
  },
  {
   "cell_type": "markdown",
   "metadata": {},
   "source": [
    "## Model `k_auto_var0`"
   ]
  },
  {
   "cell_type": "code",
   "execution_count": 703,
   "metadata": {
    "ExecuteTime": {
     "end_time": "2018-08-28T23:04:20.935052Z",
     "start_time": "2018-08-28T23:04:20.930065Z"
    }
   },
   "outputs": [],
   "source": [
    "from keras import backend as K\n",
    "from keras.models import Model, Sequential\n",
    "from keras.engine.input_layer import Input\n",
    "from keras.layers.core import Activation, Dense, Flatten, Reshape, Lambda\n",
    "from keras.layers import Dropout, LeakyReLU\n",
    "from keras.layers.normalization import BatchNormalization\n",
    "from keras.layers.convolutional import Conv2D, Conv2DTranspose, UpSampling2D\n",
    "from keras.layers.convolutional import MaxPooling2D, AveragePooling2D\n",
    "\n",
    "# For saving images if you use a custom training algorithm\n",
    "save_path = \"images/auto/mnist/k_auto_var0_\"\n",
    "save_path0 = \"images/auto/mnist/zero/k_auto_var0_\"\n",
    "\n",
    "# For saving/restoring model\n",
    "encoder_file = 'models/auto/mnist/k_auto_var0-enc'\n",
    "decoder_file = 'models/auto/mnist/k_auto_var0-dec'\n",
    "model_file = 'models/auto/mnist/k_auto_var0-model'"
   ]
  },
  {
   "cell_type": "code",
   "execution_count": 704,
   "metadata": {
    "ExecuteTime": {
     "end_time": "2018-08-28T23:04:21.428411Z",
     "start_time": "2018-08-28T23:04:21.365552Z"
    },
    "scrolled": false
   },
   "outputs": [
    {
     "name": "stdout",
     "output_type": "stream",
     "text": [
      "__________________________________________________________________________________________________\n",
      "Layer (type)                    Output Shape         Param #     Connected to                     \n",
      "==================================================================================================\n",
      "inputs (InputLayer)             (None, 28, 28, 1)    0                                            \n",
      "__________________________________________________________________________________________________\n",
      "inputs_flat (Flatten)           (None, 784)          0           inputs[0][0]                     \n",
      "__________________________________________________________________________________________________\n",
      "hidden_1 (Dense)                (None, 250)          196250      inputs_flat[0][0]                \n",
      "__________________________________________________________________________________________________\n",
      "param_0 (Dense)                 (None, 24)           6024        hidden_1[0][0]                   \n",
      "__________________________________________________________________________________________________\n",
      "param_1 (Dense)                 (None, 24)           6024        hidden_1[0][0]                   \n",
      "__________________________________________________________________________________________________\n",
      "codings (Lambda)                (None, 24)           0           param_0[0][0]                    \n",
      "                                                                 param_1[0][0]                    \n",
      "==================================================================================================\n",
      "Total params: 208,298\n",
      "Trainable params: 208,298\n",
      "Non-trainable params: 0\n",
      "__________________________________________________________________________________________________\n"
     ]
    }
   ],
   "source": [
    "def sampling(args):\n",
    "    param_0, param_1 = args\n",
    "    batch_size = K.shape(param_0)[0]\n",
    "    dim = K.int_shape(param_0)[1]\n",
    "    \n",
    "    #unif_01 = K.random_uniform(shape=(batch_size, dim))\n",
    "    normal_01 = K.random_normal(shape=(batch_size, dim))\n",
    "    \n",
    "    return param_0 + param_1 * normal_01\n",
    "    #return param_0 + K.exp(0.5 * param_1) * normal_01\n",
    "\n",
    "\n",
    "# Build the encoder part of the model\n",
    "#\n",
    "n_inputs = height * width * channels\n",
    "n_codings = 24\n",
    "\n",
    "inputs = Input(shape=(height, width, channels,), name='inputs')\n",
    "inputs_flat = Flatten(name=\"inputs_flat\")(inputs)\n",
    "hidden1 = Dense(units=250, activation='relu', name='hidden_1')(inputs_flat)\n",
    "\n",
    "param_0 = Dense(n_codings, name='param_0')(hidden1)\n",
    "param_1 = Dense(n_codings, name='param_1')(hidden1)\n",
    "#param_2 = Dense(n_codings, name='param_2')(hidden1) #to play around with\n",
    "\n",
    "# We feed the param_0 and param_1 into the Lambda layer, whose function is to \n",
    "# tranform a random uniform(0,1) variable by applying the parameters\n",
    "codings = Lambda(sampling, output_shape=(n_codings,), name='codings')([param_0, param_1])\n",
    "\n",
    "encoder = Model(inputs, [codings, param_0, param_1], name='encoder')\n",
    "encoder.summary()"
   ]
  },
  {
   "cell_type": "code",
   "execution_count": 705,
   "metadata": {
    "ExecuteTime": {
     "end_time": "2018-08-28T23:04:21.816571Z",
     "start_time": "2018-08-28T23:04:21.758365Z"
    }
   },
   "outputs": [
    {
     "name": "stdout",
     "output_type": "stream",
     "text": [
      "_________________________________________________________________\n",
      "Layer (type)                 Output Shape              Param #   \n",
      "=================================================================\n",
      "latent_inputs (InputLayer)   (None, 24)                0         \n",
      "_________________________________________________________________\n",
      "hidden_2 (Dense)             (None, 320)               8000      \n",
      "_________________________________________________________________\n",
      "output_flat (Dense)          (None, 784)               251664    \n",
      "_________________________________________________________________\n",
      "output (Reshape)             (None, 28, 28, 1)         0         \n",
      "=================================================================\n",
      "Total params: 259,664\n",
      "Trainable params: 259,664\n",
      "Non-trainable params: 0\n",
      "_________________________________________________________________\n"
     ]
    }
   ],
   "source": [
    "# Build the decoder part of the model\n",
    "#\n",
    "n_codings = encoder.layers[-1].output_shape[1]\n",
    "n_outputs = n_inputs\n",
    "\n",
    "latent_inputs = Input(shape=(n_codings,), name='latent_inputs')\n",
    "hidden2 = Dense(320, activation='relu', name=\"hidden_2\")(latent_inputs)\n",
    "output_flat = Dense(units=n_outputs, activation='sigmoid', name='output_flat')(hidden2)\n",
    "output = Reshape(target_shape=(height,width,channels,), name='output')(output_flat)\n",
    "\n",
    "decoder = Model(latent_inputs, output, name='decoder')\n",
    "decoder.summary()"
   ]
  },
  {
   "cell_type": "code",
   "execution_count": 706,
   "metadata": {
    "ExecuteTime": {
     "end_time": "2018-08-28T23:04:22.403476Z",
     "start_time": "2018-08-28T23:04:22.361561Z"
    },
    "scrolled": true
   },
   "outputs": [
    {
     "name": "stdout",
     "output_type": "stream",
     "text": [
      "_________________________________________________________________\n",
      "Layer (type)                 Output Shape              Param #   \n",
      "=================================================================\n",
      "inputs (InputLayer)          (None, 28, 28, 1)         0         \n",
      "_________________________________________________________________\n",
      "encoder (Model)              [(None, 24), (None, 24),  208298    \n",
      "_________________________________________________________________\n",
      "decoder (Model)              (None, 28, 28, 1)         259664    \n",
      "=================================================================\n",
      "Total params: 467,962\n",
      "Trainable params: 467,962\n",
      "Non-trainable params: 0\n",
      "_________________________________________________________________\n"
     ]
    }
   ],
   "source": [
    "# Stack the two together\n",
    "#\n",
    "outputs = decoder(  encoder(inputs)[0]  )\n",
    "model = Model(inputs, outputs, name='vae')\n",
    "model.summary()"
   ]
  },
  {
   "cell_type": "markdown",
   "metadata": {},
   "source": [
    "### Loss and Optimizer"
   ]
  },
  {
   "cell_type": "code",
   "execution_count": 716,
   "metadata": {
    "ExecuteTime": {
     "end_time": "2018-08-28T23:09:54.631762Z",
     "start_time": "2018-08-28T23:09:54.587880Z"
    }
   },
   "outputs": [
    {
     "name": "stdout",
     "output_type": "stream",
     "text": [
      "inputs/outputs shapes: (?, 28, 28, 1) (?, 28, 28, 1)\n",
      "rec_loss: (?,)\n",
      "dist_loss: (?,)\n",
      "loss: ()\n",
      "_________________________________________________________________\n",
      "Layer (type)                 Output Shape              Param #   \n",
      "=================================================================\n",
      "inputs (InputLayer)          (None, 28, 28, 1)         0         \n",
      "_________________________________________________________________\n",
      "encoder (Model)              [(None, 24), (None, 24),  208298    \n",
      "_________________________________________________________________\n",
      "decoder (Model)              (None, 28, 28, 1)         259664    \n",
      "=================================================================\n",
      "Total params: 467,962\n",
      "Trainable params: 467,962\n",
      "Non-trainable params: 0\n",
      "_________________________________________________________________\n"
     ]
    }
   ],
   "source": [
    "from keras.optimizers import SGD, RMSprop, Adam, Adagrad, Adadelta\n",
    "from keras.losses import mse, binary_crossentropy\n",
    "\n",
    "# Calculate the reconstruction loss. We use MSE. Note that since inputs/outputs are of\n",
    "# shape (?, 28, 28, 1), we cannot simply call mse(inputs, outputs) as this would result\n",
    "# in the MSE being calculated only along the last axis=-1, instead of over the entire image\n",
    "#\n",
    "# Fix: we use the backend to write the MSE explicitly\n",
    "#\n",
    "print(\"inputs/outputs shapes:\", inputs.shape, outputs.shape)\n",
    "reconstruction_loss = K.sum(K.square(outputs - inputs), axis=[1, 2, 3])\n",
    "#reconstruction_loss = binary_crossentropy(inputs, outputs)\n",
    "#reconstruction_loss *= np.sqrt(n_inputs)\n",
    "#reconstruction_loss *= n_inputs\n",
    "print(\"rec_loss:\", reconstruction_loss.shape)\n",
    "\n",
    "\n",
    "# Calculate the distribution loss (KL-div for Gaussian has a closed form)\n",
    "#\n",
    "epsilon = 1e-10\n",
    "#dist_loss = 1 + param_1 - K.square(param_0) - K.exp(param_1)\n",
    "dist_loss = K.square(param_0) + K.square(param_1) - 1 - K.log( epsilon + K.square(param_1) )\n",
    "dist_loss = 0.5 * K.sum(dist_loss, axis=-1)\n",
    "print(\"dist_loss:\", dist_loss.shape)\n",
    "\n",
    "loss = K.mean(reconstruction_loss + dist_loss)\n",
    "#loss = K.mean(reconstruction_loss)\n",
    "#loss = K.mean(dist_loss)\n",
    "print(\"loss:\", loss.shape)\n",
    "\n",
    "#optimizer = SGD()\n",
    "#optimizer = SGD(lr=0.003, momentum=0.7, nesterov=True)\n",
    "optimizer = Adam()\n",
    "#optimizer = Adam(lr=0.001)\n",
    "#optimizer = RMSprop()\n",
    "#optimizer = RMSprop(lr=0.001)\n",
    "#optimizer = Adagrad()\n",
    "#optimizer = Adagrad(lr=0.001)\n",
    "#optimizer = Adadelta()\n",
    "#optimizer = Adadelta(lr=0.15)\n",
    "\n",
    "#encoder.compile(loss='binary_crossentropy', optimizer=\"adam\")\n",
    "#decoder.compile(loss='binary_crossentropy', optimizer=\"adam\")\n",
    "model.add_loss(loss)\n",
    "model.compile(optimizer=optimizer)\n",
    "model.summary()"
   ]
  },
  {
   "cell_type": "markdown",
   "metadata": {},
   "source": [
    "### Train"
   ]
  },
  {
   "cell_type": "code",
   "execution_count": 717,
   "metadata": {
    "ExecuteTime": {
     "end_time": "2018-08-28T23:12:42.516366Z",
     "start_time": "2018-08-28T23:09:55.693162Z"
    },
    "scrolled": true
   },
   "outputs": [
    {
     "name": "stdout",
     "output_type": "stream",
     "text": [
      "Epoch 1/50\n",
      "60000/60000 [==============================] - 8s 139us/step - loss: 203.2690\n",
      "Epoch 2/50\n",
      "60000/60000 [==============================] - 3s 51us/step - loss: 181.3509\n",
      "Epoch 3/50\n",
      "60000/60000 [==============================] - 3s 52us/step - loss: 159.7399\n",
      "Epoch 4/50\n",
      "60000/60000 [==============================] - 3s 51us/step - loss: 147.6678\n",
      "Epoch 5/50\n",
      "60000/60000 [==============================] - 3s 52us/step - loss: 142.5872\n",
      "Epoch 6/50\n",
      "60000/60000 [==============================] - 3s 52us/step - loss: 140.2626\n",
      "Epoch 7/50\n",
      "60000/60000 [==============================] - 3s 52us/step - loss: 138.8454\n",
      "Epoch 8/50\n",
      "60000/60000 [==============================] - 3s 54us/step - loss: 137.8469\n",
      "Epoch 9/50\n",
      "60000/60000 [==============================] - 3s 52us/step - loss: 137.0364\n",
      "Epoch 10/50\n",
      "60000/60000 [==============================] - 3s 51us/step - loss: 136.3432\n",
      "Epoch 11/50\n",
      "60000/60000 [==============================] - 3s 52us/step - loss: 135.7388\n",
      "Epoch 12/50\n",
      "60000/60000 [==============================] - 3s 52us/step - loss: 135.3192\n",
      "Epoch 13/50\n",
      "60000/60000 [==============================] - 3s 52us/step - loss: 134.8411\n",
      "Epoch 14/50\n",
      "60000/60000 [==============================] - 3s 53us/step - loss: 134.3149\n",
      "Epoch 15/50\n",
      "60000/60000 [==============================] - 3s 52us/step - loss: 133.9485\n",
      "Epoch 16/50\n",
      "60000/60000 [==============================] - 3s 50us/step - loss: 133.4502: 0s - loss: 133.\n",
      "Epoch 17/50\n",
      "60000/60000 [==============================] - 3s 51us/step - loss: 133.1354\n",
      "Epoch 18/50\n",
      "60000/60000 [==============================] - 4s 66us/step - loss: 132.8621\n",
      "Epoch 19/50\n",
      "60000/60000 [==============================] - 4s 60us/step - loss: 132.4814\n",
      "Epoch 20/50\n",
      "60000/60000 [==============================] - 3s 51us/step - loss: 131.9755\n",
      "Epoch 21/50\n",
      "60000/60000 [==============================] - 3s 50us/step - loss: 131.5380: 0s - loss: 131.5 - ETA: 0s - loss: 131.538\n",
      "Epoch 22/50\n",
      "60000/60000 [==============================] - 3s 52us/step - loss: 131.1906\n",
      "Epoch 23/50\n",
      "60000/60000 [==============================] - 3s 51us/step - loss: 130.7610\n",
      "Epoch 24/50\n",
      "60000/60000 [==============================] - 3s 51us/step - loss: 130.6373\n",
      "Epoch 25/50\n",
      "60000/60000 [==============================] - 3s 55us/step - loss: 130.2682\n",
      "Epoch 26/50\n",
      "60000/60000 [==============================] - 3s 53us/step - loss: 130.1194\n",
      "Epoch 27/50\n",
      "60000/60000 [==============================] - 3s 55us/step - loss: 129.9413\n",
      "Epoch 28/50\n",
      "60000/60000 [==============================] - 3s 54us/step - loss: 129.7692\n",
      "Epoch 29/50\n",
      "60000/60000 [==============================] - 3s 54us/step - loss: 129.6545\n",
      "Epoch 30/50\n",
      "60000/60000 [==============================] - 3s 54us/step - loss: 129.4952\n",
      "Epoch 31/50\n",
      "60000/60000 [==============================] - 4s 62us/step - loss: 129.4265\n",
      "Epoch 32/50\n",
      "60000/60000 [==============================] - 4s 59us/step - loss: 129.2938\n",
      "Epoch 33/50\n",
      "60000/60000 [==============================] - 3s 53us/step - loss: 129.2084\n",
      "Epoch 34/50\n",
      "60000/60000 [==============================] - 3s 53us/step - loss: 129.1338\n",
      "Epoch 35/50\n",
      "60000/60000 [==============================] - 4s 61us/step - loss: 129.0073\n",
      "Epoch 36/50\n",
      "60000/60000 [==============================] - 3s 54us/step - loss: 128.9192\n",
      "Epoch 37/50\n",
      "60000/60000 [==============================] - 3s 55us/step - loss: 128.8283\n",
      "Epoch 38/50\n",
      "60000/60000 [==============================] - 3s 55us/step - loss: 128.6989\n",
      "Epoch 39/50\n",
      "60000/60000 [==============================] - 4s 59us/step - loss: 128.6318\n",
      "Epoch 40/50\n",
      "60000/60000 [==============================] - 3s 51us/step - loss: 128.5681\n",
      "Epoch 41/50\n",
      "60000/60000 [==============================] - 3s 51us/step - loss: 128.5296\n",
      "Epoch 42/50\n",
      "60000/60000 [==============================] - 3s 51us/step - loss: 128.4720\n",
      "Epoch 43/50\n",
      "60000/60000 [==============================] - 4s 59us/step - loss: 128.3355\n",
      "Epoch 44/50\n",
      "60000/60000 [==============================] - 3s 55us/step - loss: 128.3195\n",
      "Epoch 45/50\n",
      "60000/60000 [==============================] - 3s 54us/step - loss: 128.3397\n",
      "Epoch 46/50\n",
      "60000/60000 [==============================] - 3s 52us/step - loss: 128.2498\n",
      "Epoch 47/50\n",
      "60000/60000 [==============================] - 3s 52us/step - loss: 128.1005: 0s \n",
      "Epoch 48/50\n",
      "60000/60000 [==============================] - 3s 51us/step - loss: 128.0696\n",
      "Epoch 49/50\n",
      "60000/60000 [==============================] - 3s 52us/step - loss: 127.9951\n",
      "Epoch 50/50\n",
      "60000/60000 [==============================] - 3s 56us/step - loss: 127.9973\n"
     ]
    }
   ],
   "source": [
    "epochs = 50\n",
    "batch_size = 200\n",
    "val_split=0.05 # how much TRAIN is reserved for VALIDATION\n",
    "\n",
    "history = model.fit(\n",
    "    X_train, batch_size=batch_size, epochs=epochs, verbose=1\n",
    ")"
   ]
  },
  {
   "cell_type": "code",
   "execution_count": 718,
   "metadata": {
    "ExecuteTime": {
     "end_time": "2018-08-28T23:16:14.338859Z",
     "start_time": "2018-08-28T23:16:12.041434Z"
    }
   },
   "outputs": [],
   "source": [
    "# Save the encoder, decoder, and stacked models\n",
    "#\n",
    "encoder.save(encoder_file + '.h5')\n",
    "decoder.save(decoder_file + '.h5')\n",
    "model.save(model_file + '.h5')"
   ]
  },
  {
   "cell_type": "markdown",
   "metadata": {},
   "source": [
    "### Reconstruction Output"
   ]
  },
  {
   "cell_type": "markdown",
   "metadata": {},
   "source": [
    "Let's take a look at how well the reconstructions look:"
   ]
  },
  {
   "cell_type": "code",
   "execution_count": 719,
   "metadata": {
    "ExecuteTime": {
     "end_time": "2018-08-28T23:16:17.211957Z",
     "start_time": "2018-08-28T23:16:14.340761Z"
    },
    "scrolled": true
   },
   "outputs": [
    {
     "data": {
      "image/png": "[encoded data removed]",
      "text/plain": [
       "<Figure size 864x180 with 20 Axes>"
      ]
     },
     "metadata": {},
     "output_type": "display_data"
    }
   ],
   "source": [
    "from keras.models import load_model\n",
    "\n",
    "n_digits = 10\n",
    "n_codings = 20 #from the encoder number\n",
    "\n",
    "#model_file = 'models/auto/mnist/k_auto_var0-model'\n",
    "#model = load_model(model_file + '.h5')\n",
    "\n",
    "images_in, _ = random_batch(X_test, y_test, batch_size=n_digits)\n",
    "images_out = model.predict(images_in)\n",
    "\n",
    "fig = plt.figure(figsize=(12, 2.5))\n",
    "for digit_index in range(n_digits):\n",
    "    plt.subplot(2, n_digits, digit_index + 1)\n",
    "    plot_image(images_in[digit_index].reshape(28,28))\n",
    "    \n",
    "    plt.subplot(2, n_digits, n_digits + digit_index + 1)\n",
    "    plot_image(images_out[digit_index].reshape(28,28))\n",
    "plt.show()"
   ]
  },
  {
   "cell_type": "markdown",
   "metadata": {},
   "source": [
    "### Encoding Distributions"
   ]
  },
  {
   "cell_type": "code",
   "execution_count": 720,
   "metadata": {
    "ExecuteTime": {
     "end_time": "2018-08-28T23:16:26.224645Z",
     "start_time": "2018-08-28T23:16:22.537509Z"
    }
   },
   "outputs": [
    {
     "name": "stdout",
     "output_type": "stream",
     "text": [
      "10000/10000 [==============================] - 4s 368us/step\n",
      "(10000, 24)\n"
     ]
    }
   ],
   "source": [
    "from keras.models import load_model\n",
    "\n",
    "#encoder_file = 'models/auto/mnist/k_auto_var0-enc'\n",
    "#encoder = load_model(encoder_file + '.h5')\n",
    "#encoder.compile(loss='binary_crossentropy', optimizer=\"adam\")\n",
    "\n",
    "# encoder_output contains 3 variables: [ codings, param_0, param_1 ]\n",
    "encoder_output = encoder.predict(X_test, verbose=True)\n",
    "print(encoder_output[0].shape)"
   ]
  },
  {
   "cell_type": "code",
   "execution_count": 721,
   "metadata": {
    "ExecuteTime": {
     "end_time": "2018-08-28T23:16:28.050777Z",
     "start_time": "2018-08-28T23:16:26.226640Z"
    }
   },
   "outputs": [
    {
     "data": {
      "image/png": "[encoded data removed]",
      "text/plain": [
       "<Figure size 864x576 with 24 Axes>"
      ]
     },
     "metadata": {},
     "output_type": "display_data"
    }
   ],
   "source": [
    "X_encoded = encoder_output[0]\n",
    "showAll = True\n",
    "\n",
    "coord_indeces = np.array([\n",
    "    [ 0, 1, 2, 3, 4],\n",
    "    [ 5, 6, 7, 8, 9]\n",
    "])\n",
    "\n",
    "if showAll:\n",
    "    n_cols = 6\n",
    "    n_rows = X_encoded.shape[1] // n_cols\n",
    "else:\n",
    "    n_cols = coord_indeces.shape[1]\n",
    "    n_rows = coord_indeces.shape[0]\n",
    "\n",
    "plt.figure(figsize=(12, int(12.0/n_cols * n_rows)))\n",
    "for row in range(n_rows):\n",
    "    for col in range(n_cols):\n",
    "        i = row * n_cols + col\n",
    "        plt.subplot(n_rows, n_cols, i + 1)\n",
    "        if showAll:\n",
    "            plt.title(\"Coord \" + str(i))\n",
    "            plt.hist(X_encoded[:, i], bins=20, density=True)\n",
    "        else:\n",
    "            plt.title(\"Coord \" + str(coord_indeces[row, col]))\n",
    "            plt.hist(X_encoded[:, coord_indeces[row, col]], bins=20, density=True)\n",
    "plt.tight_layout()\n",
    "plt.show()"
   ]
  },
  {
   "cell_type": "markdown",
   "metadata": {},
   "source": [
    "### Generative"
   ]
  },
  {
   "cell_type": "code",
   "execution_count": 723,
   "metadata": {
    "ExecuteTime": {
     "end_time": "2018-08-28T23:17:00.627739Z",
     "start_time": "2018-08-28T23:17:00.236837Z"
    },
    "scrolled": true
   },
   "outputs": [
    {
     "data": {
      "image/png": "[encoded data removed]",
      "text/plain": [
       "<Figure size 864x360 with 1 Axes>"
      ]
     },
     "metadata": {},
     "output_type": "display_data"
    }
   ],
   "source": [
    "from keras.models import load_model\n",
    "\n",
    "rows = 5\n",
    "cols = 12\n",
    "n_digits = rows * cols\n",
    "\n",
    "#decoder_file = 'models/auto/mnist/k_auto_var0-dec'\n",
    "#decoder = load_model(decoder_file + '.h5')\n",
    "#decoder.compile(loss='binary_crossentropy', optimizer=\"adam\")\n",
    "n_codings = decoder.layers[0].input_shape[1]\n",
    "\n",
    "#codings_in = noise = np.random.uniform(-2, 2, n_digits * n_codings).reshape((n_digits, n_codings))\n",
    "codings_in = noise = np.random.normal(0, 1.0, n_digits * n_codings).reshape((n_digits, n_codings))\n",
    "images_out = decoder.predict(codings_in)\n",
    "\n",
    "image = combine_images(images_out, rows, cols)\n",
    "\n",
    "fig = plt.figure(figsize=(cols, rows))\n",
    "plt.imshow(image, cmap=\"Greys\", interpolation='nearest')\n",
    "plt.axis(\"off\")\n",
    "plt.show()"
   ]
  },
  {
   "cell_type": "markdown",
   "metadata": {},
   "source": [
    "## Model `k_auto_var1`"
   ]
  },
  {
   "cell_type": "code",
   "execution_count": 724,
   "metadata": {
    "ExecuteTime": {
     "end_time": "2018-08-28T23:17:15.092028Z",
     "start_time": "2018-08-28T23:17:15.087041Z"
    }
   },
   "outputs": [],
   "source": [
    "from keras import backend as K\n",
    "from keras.models import Model, Sequential\n",
    "from keras.engine.input_layer import Input\n",
    "from keras.layers.core import Activation, Dense, Flatten, Reshape, Lambda\n",
    "from keras.layers import Dropout, LeakyReLU\n",
    "from keras.layers.normalization import BatchNormalization\n",
    "from keras.layers.convolutional import Conv2D, Conv2DTranspose, UpSampling2D\n",
    "from keras.layers.convolutional import MaxPooling2D, AveragePooling2D\n",
    "\n",
    "# For saving images if you use a custom training algorithm\n",
    "save_path = \"images/auto/mnist/k_auto_var1_\"\n",
    "save_path0 = \"images/auto/mnist/zero/k_auto_var1_\"\n",
    "\n",
    "# For saving/restoring model\n",
    "encoder_file = 'models/auto/mnist/k_auto_var1-enc'\n",
    "decoder_file = 'models/auto/mnist/k_auto_var1-dec'\n",
    "model_file = 'models/auto/mnist/k_auto_var1-model'"
   ]
  },
  {
   "cell_type": "code",
   "execution_count": 725,
   "metadata": {
    "ExecuteTime": {
     "end_time": "2018-08-28T23:17:20.372959Z",
     "start_time": "2018-08-28T23:17:20.310155Z"
    },
    "scrolled": false
   },
   "outputs": [
    {
     "name": "stdout",
     "output_type": "stream",
     "text": [
      "__________________________________________________________________________________________________\n",
      "Layer (type)                    Output Shape         Param #     Connected to                     \n",
      "==================================================================================================\n",
      "inputs (InputLayer)             (None, 28, 28, 1)    0                                            \n",
      "__________________________________________________________________________________________________\n",
      "inputs_flat (Flatten)           (None, 784)          0           inputs[0][0]                     \n",
      "__________________________________________________________________________________________________\n",
      "hidden_1 (Dense)                (None, 250)          196250      inputs_flat[0][0]                \n",
      "__________________________________________________________________________________________________\n",
      "param_0 (Dense)                 (None, 24)           6024        hidden_1[0][0]                   \n",
      "__________________________________________________________________________________________________\n",
      "param_1 (Dense)                 (None, 24)           6024        hidden_1[0][0]                   \n",
      "__________________________________________________________________________________________________\n",
      "codings (Lambda)                (None, 24)           0           param_0[0][0]                    \n",
      "                                                                 param_1[0][0]                    \n",
      "==================================================================================================\n",
      "Total params: 208,298\n",
      "Trainable params: 208,298\n",
      "Non-trainable params: 0\n",
      "__________________________________________________________________________________________________\n"
     ]
    }
   ],
   "source": [
    "def sampling(args):\n",
    "    param_0, param_1 = args\n",
    "    batch_size = K.shape(param_0)[0]\n",
    "    dim = K.int_shape(param_0)[1]\n",
    "    \n",
    "    #unif_01 = K.random_uniform(shape=(batch_size, dim))\n",
    "    normal_01 = K.random_normal(shape=(batch_size, dim))\n",
    "    \n",
    "    #return param_0 + param_1 * normal_01\n",
    "    return param_0 + K.exp(0.5 * param_1) * normal_01\n",
    "\n",
    "\n",
    "# Build the encoder part of the model\n",
    "#\n",
    "n_inputs = height * width * channels\n",
    "n_codings = 24\n",
    "\n",
    "inputs = Input(shape=(height, width, channels,), name='inputs')\n",
    "inputs_flat = Flatten(name=\"inputs_flat\")(inputs)\n",
    "hidden1 = Dense(units=250, activation='relu', name='hidden_1')(inputs_flat)\n",
    "\n",
    "param_0 = Dense(n_codings, name='param_0')(hidden1)\n",
    "param_1 = Dense(n_codings, name='param_1')(hidden1)\n",
    "#param_2 = Dense(n_codings, name='param_2')(hidden1) #to play around with\n",
    "\n",
    "# We feed the param_0 and param_1 into the Lambda layer, whose function is to \n",
    "# tranform a random uniform(0,1) variable by applying the parameters\n",
    "codings = Lambda(sampling, output_shape=(n_codings,), name='codings')([param_0, param_1])\n",
    "\n",
    "encoder = Model(inputs, [codings, param_0, param_1], name='encoder')\n",
    "encoder.summary()"
   ]
  },
  {
   "cell_type": "code",
   "execution_count": 726,
   "metadata": {
    "ExecuteTime": {
     "end_time": "2018-08-28T23:17:21.827404Z",
     "start_time": "2018-08-28T23:17:21.789506Z"
    }
   },
   "outputs": [
    {
     "name": "stdout",
     "output_type": "stream",
     "text": [
      "_________________________________________________________________\n",
      "Layer (type)                 Output Shape              Param #   \n",
      "=================================================================\n",
      "latent_inputs (InputLayer)   (None, 24)                0         \n",
      "_________________________________________________________________\n",
      "hidden_2 (Dense)             (None, 320)               8000      \n",
      "_________________________________________________________________\n",
      "output_flat (Dense)          (None, 784)               251664    \n",
      "_________________________________________________________________\n",
      "output (Reshape)             (None, 28, 28, 1)         0         \n",
      "=================================================================\n",
      "Total params: 259,664\n",
      "Trainable params: 259,664\n",
      "Non-trainable params: 0\n",
      "_________________________________________________________________\n"
     ]
    }
   ],
   "source": [
    "# Build the decoder part of the model\n",
    "#\n",
    "n_codings = encoder.layers[-1].output_shape[1]\n",
    "n_outputs = n_inputs\n",
    "\n",
    "latent_inputs = Input(shape=(n_codings,), name='latent_inputs')\n",
    "hidden2 = Dense(320, activation='relu', name=\"hidden_2\")(latent_inputs)\n",
    "output_flat = Dense(units=n_outputs, activation='sigmoid', name='output_flat')(hidden2)\n",
    "output = Reshape(target_shape=(height,width,channels,), name='output')(output_flat)\n",
    "\n",
    "decoder = Model(latent_inputs, output, name='decoder')\n",
    "decoder.summary()"
   ]
  },
  {
   "cell_type": "code",
   "execution_count": 727,
   "metadata": {
    "ExecuteTime": {
     "end_time": "2018-08-28T23:17:25.850115Z",
     "start_time": "2018-08-28T23:17:25.800249Z"
    },
    "scrolled": true
   },
   "outputs": [
    {
     "name": "stdout",
     "output_type": "stream",
     "text": [
      "_________________________________________________________________\n",
      "Layer (type)                 Output Shape              Param #   \n",
      "=================================================================\n",
      "inputs (InputLayer)          (None, 28, 28, 1)         0         \n",
      "_________________________________________________________________\n",
      "encoder (Model)              [(None, 24), (None, 24),  208298    \n",
      "_________________________________________________________________\n",
      "decoder (Model)              (None, 28, 28, 1)         259664    \n",
      "=================================================================\n",
      "Total params: 467,962\n",
      "Trainable params: 467,962\n",
      "Non-trainable params: 0\n",
      "_________________________________________________________________\n"
     ]
    }
   ],
   "source": [
    "# Stack the two together\n",
    "#\n",
    "outputs = decoder(  encoder(inputs)[0]  )\n",
    "model = Model(inputs, outputs, name='vae')\n",
    "model.summary()"
   ]
  },
  {
   "cell_type": "markdown",
   "metadata": {},
   "source": [
    "### Loss and Optimizer"
   ]
  },
  {
   "cell_type": "code",
   "execution_count": 729,
   "metadata": {
    "ExecuteTime": {
     "end_time": "2018-08-28T23:17:40.159253Z",
     "start_time": "2018-08-28T23:17:40.103431Z"
    }
   },
   "outputs": [
    {
     "name": "stdout",
     "output_type": "stream",
     "text": [
      "inputs/outputs shapes: (?, 28, 28, 1) (?, 28, 28, 1)\n",
      "rec_loss: (?,)\n",
      "dist_loss: (?,)\n",
      "loss: ()\n",
      "_________________________________________________________________\n",
      "Layer (type)                 Output Shape              Param #   \n",
      "=================================================================\n",
      "inputs (InputLayer)          (None, 28, 28, 1)         0         \n",
      "_________________________________________________________________\n",
      "encoder (Model)              [(None, 24), (None, 24),  208298    \n",
      "_________________________________________________________________\n",
      "decoder (Model)              (None, 28, 28, 1)         259664    \n",
      "=================================================================\n",
      "Total params: 467,962\n",
      "Trainable params: 467,962\n",
      "Non-trainable params: 0\n",
      "_________________________________________________________________\n"
     ]
    }
   ],
   "source": [
    "from keras.optimizers import SGD, RMSprop, Adam, Adagrad, Adadelta\n",
    "from keras.losses import mse, binary_crossentropy\n",
    "\n",
    "# Calculate the reconstruction loss. We use MSE. Note that since inputs/outputs are of\n",
    "# shape (?, 28, 28, 1), we cannot simply call mse(inputs, outputs) as this would result\n",
    "# in the MSE being calculated only along the last axis=-1, instead of over the entire image\n",
    "#\n",
    "# Fix: we use the backend to write the MSE explicitly\n",
    "#\n",
    "print(\"inputs/outputs shapes:\", inputs.shape, outputs.shape)\n",
    "reconstruction_loss = K.sum(K.square(outputs - inputs), axis=[1, 2, 3])\n",
    "#reconstruction_loss = binary_crossentropy(inputs, outputs)\n",
    "#reconstruction_loss *= np.sqrt(n_inputs)\n",
    "#reconstruction_loss *= n_inputs\n",
    "print(\"rec_loss:\", reconstruction_loss.shape)\n",
    "\n",
    "\n",
    "# Calculate the distribution loss (KL-div for Gaussian has a closed form)\n",
    "#\n",
    "epsilon = 1e-10\n",
    "dist_loss = K.square(param_0) + K.exp(param_1) - 1 - param_1\n",
    "#dist_loss = K.square(param_0) + K.square(param_1) - 1 - K.log( epsilon + K.square(param_1) )\n",
    "dist_loss = 0.5 * K.sum(dist_loss, axis=-1)\n",
    "print(\"dist_loss:\", dist_loss.shape)\n",
    "\n",
    "loss = K.mean(reconstruction_loss + dist_loss)\n",
    "#loss = K.mean(reconstruction_loss)\n",
    "#loss = K.mean(dist_loss)\n",
    "print(\"loss:\", loss.shape)\n",
    "\n",
    "#optimizer = SGD()\n",
    "#optimizer = SGD(lr=0.003, momentum=0.7, nesterov=True)\n",
    "optimizer = Adam()\n",
    "#optimizer = Adam(lr=0.001)\n",
    "#optimizer = RMSprop()\n",
    "#optimizer = RMSprop(lr=0.001)\n",
    "#optimizer = Adagrad()\n",
    "#optimizer = Adagrad(lr=0.001)\n",
    "#optimizer = Adadelta()\n",
    "#optimizer = Adadelta(lr=0.15)\n",
    "\n",
    "#encoder.compile(loss='binary_crossentropy', optimizer=\"adam\")\n",
    "#decoder.compile(loss='binary_crossentropy', optimizer=\"adam\")\n",
    "model.add_loss(loss)\n",
    "model.compile(optimizer=optimizer)\n",
    "model.summary()"
   ]
  },
  {
   "cell_type": "markdown",
   "metadata": {},
   "source": [
    "### Train"
   ]
  },
  {
   "cell_type": "code",
   "execution_count": 730,
   "metadata": {
    "ExecuteTime": {
     "end_time": "2018-08-28T23:20:56.628506Z",
     "start_time": "2018-08-28T23:17:44.629194Z"
    },
    "scrolled": true
   },
   "outputs": [
    {
     "name": "stdout",
     "output_type": "stream",
     "text": [
      "Epoch 1/50\n",
      "60000/60000 [==============================] - 9s 154us/step - loss: 100.1704\n",
      "Epoch 2/50\n",
      "60000/60000 [==============================] - 4s 64us/step - loss: 73.5708\n",
      "Epoch 3/50\n",
      "60000/60000 [==============================] - 4s 62us/step - loss: 68.5926\n",
      "Epoch 4/50\n",
      "60000/60000 [==============================] - 4s 64us/step - loss: 66.3163\n",
      "Epoch 5/50\n",
      "60000/60000 [==============================] - 4s 64us/step - loss: 65.0017\n",
      "Epoch 6/50\n",
      "60000/60000 [==============================] - 4s 63us/step - loss: 64.0395\n",
      "Epoch 7/50\n",
      "60000/60000 [==============================] - 4s 63us/step - loss: 63.3858\n",
      "Epoch 8/50\n",
      "60000/60000 [==============================] - 4s 61us/step - loss: 62.9071\n",
      "Epoch 9/50\n",
      "60000/60000 [==============================] - 4s 62us/step - loss: 62.5372\n",
      "Epoch 10/50\n",
      "60000/60000 [==============================] - 4s 61us/step - loss: 62.2166\n",
      "Epoch 11/50\n",
      "60000/60000 [==============================] - 4s 61us/step - loss: 61.9478\n",
      "Epoch 12/50\n",
      "60000/60000 [==============================] - 4s 63us/step - loss: 61.6994\n",
      "Epoch 13/50\n",
      "60000/60000 [==============================] - 4s 63us/step - loss: 61.4899\n",
      "Epoch 14/50\n",
      "60000/60000 [==============================] - 4s 63us/step - loss: 61.3233\n",
      "Epoch 15/50\n",
      "60000/60000 [==============================] - 4s 62us/step - loss: 61.0846\n",
      "Epoch 16/50\n",
      "60000/60000 [==============================] - 4s 62us/step - loss: 61.0369\n",
      "Epoch 17/50\n",
      "60000/60000 [==============================] - 4s 62us/step - loss: 60.8589\n",
      "Epoch 18/50\n",
      "60000/60000 [==============================] - 4s 61us/step - loss: 60.6889\n",
      "Epoch 19/50\n",
      "60000/60000 [==============================] - 4s 61us/step - loss: 60.5528\n",
      "Epoch 20/50\n",
      "60000/60000 [==============================] - 4s 63us/step - loss: 60.4250\n",
      "Epoch 21/50\n",
      "60000/60000 [==============================] - 4s 62us/step - loss: 60.3177\n",
      "Epoch 22/50\n",
      "60000/60000 [==============================] - 4s 62us/step - loss: 60.1926\n",
      "Epoch 23/50\n",
      "60000/60000 [==============================] - 4s 62us/step - loss: 60.0857\n",
      "Epoch 24/50\n",
      "60000/60000 [==============================] - 4s 62us/step - loss: 60.0049\n",
      "Epoch 25/50\n",
      "60000/60000 [==============================] - 4s 61us/step - loss: 59.8396\n",
      "Epoch 26/50\n",
      "60000/60000 [==============================] - 4s 62us/step - loss: 59.7670\n",
      "Epoch 27/50\n",
      "60000/60000 [==============================] - 4s 62us/step - loss: 59.6770\n",
      "Epoch 28/50\n",
      "60000/60000 [==============================] - 4s 62us/step - loss: 59.5665\n",
      "Epoch 29/50\n",
      "60000/60000 [==============================] - 4s 63us/step - loss: 59.5150\n",
      "Epoch 30/50\n",
      "60000/60000 [==============================] - 4s 63us/step - loss: 59.4639\n",
      "Epoch 31/50\n",
      "60000/60000 [==============================] - 4s 63us/step - loss: 59.3897\n",
      "Epoch 32/50\n",
      "60000/60000 [==============================] - 4s 62us/step - loss: 59.2158\n",
      "Epoch 33/50\n",
      "60000/60000 [==============================] - 4s 62us/step - loss: 59.1944\n",
      "Epoch 34/50\n",
      "60000/60000 [==============================] - 4s 61us/step - loss: 59.1649\n",
      "Epoch 35/50\n",
      "60000/60000 [==============================] - 4s 61us/step - loss: 59.0581\n",
      "Epoch 36/50\n",
      "60000/60000 [==============================] - 4s 62us/step - loss: 58.9644\n",
      "Epoch 37/50\n",
      "60000/60000 [==============================] - 4s 61us/step - loss: 58.9494\n",
      "Epoch 38/50\n",
      "60000/60000 [==============================] - 4s 62us/step - loss: 58.8573\n",
      "Epoch 39/50\n",
      "60000/60000 [==============================] - 4s 62us/step - loss: 58.7875\n",
      "Epoch 40/50\n",
      "60000/60000 [==============================] - 4s 61us/step - loss: 58.7789\n",
      "Epoch 41/50\n",
      "60000/60000 [==============================] - 4s 61us/step - loss: 58.7221\n",
      "Epoch 42/50\n",
      "60000/60000 [==============================] - 4s 62us/step - loss: 58.6658\n",
      "Epoch 43/50\n",
      "60000/60000 [==============================] - 4s 61us/step - loss: 58.6430\n",
      "Epoch 44/50\n",
      "60000/60000 [==============================] - 4s 61us/step - loss: 58.5774\n",
      "Epoch 45/50\n",
      "60000/60000 [==============================] - 4s 62us/step - loss: 58.5346\n",
      "Epoch 46/50\n",
      "60000/60000 [==============================] - 4s 62us/step - loss: 58.4652\n",
      "Epoch 47/50\n",
      "60000/60000 [==============================] - 4s 61us/step - loss: 58.4052\n",
      "Epoch 48/50\n",
      "60000/60000 [==============================] - 4s 62us/step - loss: 58.4458\n",
      "Epoch 49/50\n",
      "60000/60000 [==============================] - 4s 61us/step - loss: 58.3525\n",
      "Epoch 50/50\n",
      "60000/60000 [==============================] - 4s 61us/step - loss: 58.2888\n"
     ]
    }
   ],
   "source": [
    "epochs = 50\n",
    "batch_size = 150\n",
    "val_split=0.05 # how much TRAIN is reserved for VALIDATION\n",
    "\n",
    "history = model.fit(\n",
    "    X_train, batch_size=batch_size, epochs=epochs, verbose=1\n",
    ")"
   ]
  },
  {
   "cell_type": "code",
   "execution_count": 731,
   "metadata": {
    "ExecuteTime": {
     "end_time": "2018-08-28T23:21:01.339128Z",
     "start_time": "2018-08-28T23:20:56.631498Z"
    }
   },
   "outputs": [],
   "source": [
    "# Save the encoder, decoder, and stacked models\n",
    "#\n",
    "encoder.save(encoder_file + '.h5')\n",
    "decoder.save(decoder_file + '.h5')\n",
    "model.save(model_file + '.h5')"
   ]
  },
  {
   "cell_type": "markdown",
   "metadata": {},
   "source": [
    "### Reconstruction Output"
   ]
  },
  {
   "cell_type": "code",
   "execution_count": 736,
   "metadata": {
    "ExecuteTime": {
     "end_time": "2018-08-28T23:21:56.541843Z",
     "start_time": "2018-08-28T23:21:56.078068Z"
    },
    "scrolled": true
   },
   "outputs": [
    {
     "data": {
      "image/png": "[encoded data removed]",
      "text/plain": [
       "<Figure size 864x180 with 20 Axes>"
      ]
     },
     "metadata": {},
     "output_type": "display_data"
    }
   ],
   "source": [
    "from keras.models import load_model\n",
    "\n",
    "n_digits = 10\n",
    "n_codings = 20 #from the encoder number\n",
    "\n",
    "#model_file = 'models/auto/mnist/k_auto_var1-model'\n",
    "#model = load_model(model_file + '.h5')\n",
    "\n",
    "images_in, _ = random_batch(X_test, y_test, batch_size=n_digits)\n",
    "images_out = model.predict(images_in)\n",
    "\n",
    "fig = plt.figure(figsize=(12, 2.5))\n",
    "for digit_index in range(n_digits):\n",
    "    plt.subplot(2, n_digits, digit_index + 1)\n",
    "    plot_image(images_in[digit_index].reshape(28,28))\n",
    "    \n",
    "    plt.subplot(2, n_digits, n_digits + digit_index + 1)\n",
    "    plot_image(images_out[digit_index].reshape(28,28))\n",
    "plt.show()"
   ]
  },
  {
   "cell_type": "markdown",
   "metadata": {},
   "source": [
    "### Encoding Distributions"
   ]
  },
  {
   "cell_type": "code",
   "execution_count": 737,
   "metadata": {
    "ExecuteTime": {
     "end_time": "2018-08-28T23:22:01.702633Z",
     "start_time": "2018-08-28T23:22:00.292406Z"
    }
   },
   "outputs": [
    {
     "name": "stdout",
     "output_type": "stream",
     "text": [
      "10000/10000 [==============================] - 1s 140us/step\n",
      "(10000, 24)\n"
     ]
    }
   ],
   "source": [
    "from keras.models import load_model\n",
    "\n",
    "#encoder_file = 'models/auto/mnist/k_auto_var1-enc'\n",
    "#encoder = load_model(encoder_file + '.h5')\n",
    "#encoder.compile(loss='binary_crossentropy', optimizer=\"adam\")\n",
    "\n",
    "# encoder_output contains 3 variables: [ codings, param_0, param_1 ]\n",
    "encoder_output = encoder.predict(X_test, verbose=True)\n",
    "print(encoder_output[0].shape)"
   ]
  },
  {
   "cell_type": "code",
   "execution_count": 738,
   "metadata": {
    "ExecuteTime": {
     "end_time": "2018-08-28T23:22:03.614545Z",
     "start_time": "2018-08-28T23:22:01.704628Z"
    }
   },
   "outputs": [
    {
     "data": {
      "image/png": "[encoded data removed]",
      "text/plain": [
       "<Figure size 864x576 with 24 Axes>"
      ]
     },
     "metadata": {},
     "output_type": "display_data"
    }
   ],
   "source": [
    "X_encoded = encoder_output[0]\n",
    "showAll = True\n",
    "\n",
    "coord_indeces = np.array([\n",
    "    [ 0, 1, 2, 3, 4],\n",
    "    [ 5, 6, 7, 8, 9]\n",
    "])\n",
    "\n",
    "if showAll:\n",
    "    n_cols = 6\n",
    "    n_rows = X_encoded.shape[1] // n_cols\n",
    "else:\n",
    "    n_cols = coord_indeces.shape[1]\n",
    "    n_rows = coord_indeces.shape[0]\n",
    "\n",
    "plt.figure(figsize=(12, int(12.0/n_cols * n_rows)))\n",
    "for row in range(n_rows):\n",
    "    for col in range(n_cols):\n",
    "        i = row * n_cols + col\n",
    "        plt.subplot(n_rows, n_cols, i + 1)\n",
    "        if showAll:\n",
    "            plt.title(\"Coord \" + str(i))\n",
    "            plt.hist(X_encoded[:, i], bins=20, density=True)\n",
    "        else:\n",
    "            plt.title(\"Coord \" + str(coord_indeces[row, col]))\n",
    "            plt.hist(X_encoded[:, coord_indeces[row, col]], bins=20, density=True)\n",
    "plt.tight_layout()\n",
    "plt.show()"
   ]
  },
  {
   "cell_type": "markdown",
   "metadata": {},
   "source": [
    "### Generative"
   ]
  },
  {
   "cell_type": "code",
   "execution_count": 739,
   "metadata": {
    "ExecuteTime": {
     "end_time": "2018-08-28T23:22:19.741813Z",
     "start_time": "2018-08-28T23:22:19.362572Z"
    },
    "scrolled": true
   },
   "outputs": [
    {
     "data": {
      "image/png": "[encoded data removed]",
      "text/plain": [
       "<Figure size 864x360 with 1 Axes>"
      ]
     },
     "metadata": {},
     "output_type": "display_data"
    }
   ],
   "source": [
    "from keras.models import load_model\n",
    "\n",
    "rows = 5\n",
    "cols = 12\n",
    "n_digits = rows * cols\n",
    "\n",
    "#decoder_file = 'models/auto/mnist/k_auto_var1-dec'\n",
    "#decoder = load_model(decoder_file + '.h5')\n",
    "#decoder.compile(loss='binary_crossentropy', optimizer=\"adam\")\n",
    "n_codings = decoder.layers[0].input_shape[1]\n",
    "\n",
    "#codings_in = noise = np.random.uniform(-2, 2, n_digits * n_codings).reshape((n_digits, n_codings))\n",
    "codings_in = noise = np.random.normal(0, 1.0, n_digits * n_codings).reshape((n_digits, n_codings))\n",
    "images_out = decoder.predict(codings_in)\n",
    "\n",
    "image = combine_images(images_out, rows, cols)\n",
    "\n",
    "fig = plt.figure(figsize=(cols, rows))\n",
    "plt.imshow(image, cmap=\"Greys\", interpolation='nearest')\n",
    "plt.axis(\"off\")\n",
    "plt.show()"
   ]
  },
  {
   "cell_type": "markdown",
   "metadata": {},
   "source": [
    "## Model `k_auto_var2`\n",
    "\n",
    "A deeper model than `k_auto_var1`"
   ]
  },
  {
   "cell_type": "code",
   "execution_count": 740,
   "metadata": {
    "ExecuteTime": {
     "end_time": "2018-08-28T23:22:26.647109Z",
     "start_time": "2018-08-28T23:22:26.641094Z"
    }
   },
   "outputs": [],
   "source": [
    "from keras import backend as K\n",
    "from keras.models import Model, Sequential\n",
    "from keras.engine.input_layer import Input\n",
    "from keras.layers.core import Activation, Dense, Flatten, Reshape, Lambda\n",
    "from keras.layers import Dropout, LeakyReLU\n",
    "from keras.layers.normalization import BatchNormalization\n",
    "from keras.layers.convolutional import Conv2D, Conv2DTranspose, UpSampling2D\n",
    "from keras.layers.convolutional import MaxPooling2D, AveragePooling2D\n",
    "\n",
    "# For saving images if you use a custom training algorithm\n",
    "save_path = \"images/auto/mnist/k_auto_var2_\"\n",
    "save_path0 = \"images/auto/mnist/zero/k_auto_var2_\"\n",
    "\n",
    "# For saving/restoring model\n",
    "encoder_file = 'models/auto/mnist/k_auto_var2-enc'\n",
    "decoder_file = 'models/auto/mnist/k_auto_var2-dec'\n",
    "model_file = 'models/auto/mnist/k_auto_var2-model'"
   ]
  },
  {
   "cell_type": "code",
   "execution_count": 741,
   "metadata": {
    "ExecuteTime": {
     "end_time": "2018-08-28T23:22:30.976791Z",
     "start_time": "2018-08-28T23:22:30.898003Z"
    },
    "scrolled": false
   },
   "outputs": [
    {
     "name": "stdout",
     "output_type": "stream",
     "text": [
      "__________________________________________________________________________________________________\n",
      "Layer (type)                    Output Shape         Param #     Connected to                     \n",
      "==================================================================================================\n",
      "inputs (InputLayer)             (None, 28, 28, 1)    0                                            \n",
      "__________________________________________________________________________________________________\n",
      "inputs_flat (Flatten)           (None, 784)          0           inputs[0][0]                     \n",
      "__________________________________________________________________________________________________\n",
      "hidden_1 (Dense)                (None, 360)          282600      inputs_flat[0][0]                \n",
      "__________________________________________________________________________________________________\n",
      "hidden_2 (Dense)                (None, 180)          64980       hidden_1[0][0]                   \n",
      "__________________________________________________________________________________________________\n",
      "param_0 (Dense)                 (None, 24)           4344        hidden_2[0][0]                   \n",
      "__________________________________________________________________________________________________\n",
      "param_1 (Dense)                 (None, 24)           4344        hidden_2[0][0]                   \n",
      "__________________________________________________________________________________________________\n",
      "codings (Lambda)                (None, 24)           0           param_0[0][0]                    \n",
      "                                                                 param_1[0][0]                    \n",
      "==================================================================================================\n",
      "Total params: 356,268\n",
      "Trainable params: 356,268\n",
      "Non-trainable params: 0\n",
      "__________________________________________________________________________________________________\n"
     ]
    }
   ],
   "source": [
    "def sampling(args):\n",
    "    param_0, param_1 = args\n",
    "    batch_size = K.shape(param_0)[0]\n",
    "    dim = K.int_shape(param_0)[1]\n",
    "    \n",
    "    #unif_01 = K.random_uniform(shape=(batch_size, dim))\n",
    "    normal_01 = K.random_normal(shape=(batch_size, dim))\n",
    "    \n",
    "    #return param_0 + param_1 * normal_01\n",
    "    return param_0 + K.exp(0.5 * param_1) * normal_01\n",
    "\n",
    "\n",
    "# Build the encoder part of the model\n",
    "#\n",
    "n_inputs = height * width * channels\n",
    "n_codings = 24\n",
    "\n",
    "inputs = Input(shape=(height, width, channels,), name='inputs')\n",
    "inputs_flat = Flatten(name=\"inputs_flat\")(inputs)\n",
    "hidden1 = Dense(units=360, activation='relu', name='hidden_1')(inputs_flat)\n",
    "hidden2 = Dense(units=180, activation='relu', name='hidden_2')(hidden1)\n",
    "\n",
    "param_0 = Dense(n_codings, name='param_0')(hidden2)\n",
    "param_1 = Dense(n_codings, name='param_1')(hidden2)\n",
    "#param_2 = Dense(n_codings, name='param_2')(hidden1) #to play around with\n",
    "\n",
    "# We feed the param_0 and param_1 into the Lambda layer, whose function is to \n",
    "# tranform a random uniform(0,1) variable by applying the parameters\n",
    "codings = Lambda(sampling, output_shape=(n_codings,), name='codings')([param_0, param_1])\n",
    "\n",
    "encoder = Model(inputs, [codings, param_0, param_1], name='encoder')\n",
    "encoder.summary()"
   ]
  },
  {
   "cell_type": "code",
   "execution_count": 742,
   "metadata": {
    "ExecuteTime": {
     "end_time": "2018-08-28T23:22:34.378482Z",
     "start_time": "2018-08-28T23:22:34.314679Z"
    }
   },
   "outputs": [
    {
     "name": "stdout",
     "output_type": "stream",
     "text": [
      "_________________________________________________________________\n",
      "Layer (type)                 Output Shape              Param #   \n",
      "=================================================================\n",
      "latent_inputs (InputLayer)   (None, 24)                0         \n",
      "_________________________________________________________________\n",
      "hidden_3 (Dense)             (None, 120)               3000      \n",
      "_________________________________________________________________\n",
      "hidden_4 (Dense)             (None, 250)               30250     \n",
      "_________________________________________________________________\n",
      "hidden_5 (Dense)             (None, 450)               112950    \n",
      "_________________________________________________________________\n",
      "output_flat (Dense)          (None, 784)               353584    \n",
      "_________________________________________________________________\n",
      "output (Reshape)             (None, 28, 28, 1)         0         \n",
      "=================================================================\n",
      "Total params: 499,784\n",
      "Trainable params: 499,784\n",
      "Non-trainable params: 0\n",
      "_________________________________________________________________\n"
     ]
    }
   ],
   "source": [
    "# Build the decoder part of the model\n",
    "#\n",
    "n_codings = encoder.layers[-1].output_shape[1]\n",
    "n_outputs = n_inputs\n",
    "\n",
    "latent_inputs = Input(shape=(n_codings,), name='latent_inputs')\n",
    "hidden3 = Dense(120, activation='relu', name=\"hidden_3\")(latent_inputs)\n",
    "hidden4 = Dense(250, activation='relu', name=\"hidden_4\")(hidden3)\n",
    "hidden5 = Dense(450, activation='relu', name=\"hidden_5\")(hidden4)\n",
    "output_flat = Dense(units=n_outputs, activation='sigmoid', name='output_flat')(hidden5)\n",
    "output = Reshape(target_shape=(height,width,channels,), name='output')(output_flat)\n",
    "\n",
    "decoder = Model(latent_inputs, output, name='decoder')\n",
    "decoder.summary()"
   ]
  },
  {
   "cell_type": "code",
   "execution_count": 743,
   "metadata": {
    "ExecuteTime": {
     "end_time": "2018-08-28T23:22:34.743451Z",
     "start_time": "2018-08-28T23:22:34.692571Z"
    },
    "scrolled": true
   },
   "outputs": [
    {
     "name": "stdout",
     "output_type": "stream",
     "text": [
      "_________________________________________________________________\n",
      "Layer (type)                 Output Shape              Param #   \n",
      "=================================================================\n",
      "inputs (InputLayer)          (None, 28, 28, 1)         0         \n",
      "_________________________________________________________________\n",
      "encoder (Model)              [(None, 24), (None, 24),  356268    \n",
      "_________________________________________________________________\n",
      "decoder (Model)              (None, 28, 28, 1)         499784    \n",
      "=================================================================\n",
      "Total params: 856,052\n",
      "Trainable params: 856,052\n",
      "Non-trainable params: 0\n",
      "_________________________________________________________________\n"
     ]
    }
   ],
   "source": [
    "# Stack the two together\n",
    "#\n",
    "outputs = decoder(  encoder(inputs)[0]  )\n",
    "model = Model(inputs, outputs, name='vae')\n",
    "model.summary()"
   ]
  },
  {
   "cell_type": "markdown",
   "metadata": {},
   "source": [
    "### Loss and Optimizer"
   ]
  },
  {
   "cell_type": "code",
   "execution_count": 744,
   "metadata": {
    "ExecuteTime": {
     "end_time": "2018-08-28T23:22:46.644216Z",
     "start_time": "2018-08-28T23:22:46.600310Z"
    }
   },
   "outputs": [
    {
     "name": "stdout",
     "output_type": "stream",
     "text": [
      "inputs/outputs shapes: (?, 28, 28, 1) (?, 28, 28, 1)\n",
      "rec_loss: (?,)\n",
      "dist_loss: (?,)\n",
      "loss: ()\n",
      "_________________________________________________________________\n",
      "Layer (type)                 Output Shape              Param #   \n",
      "=================================================================\n",
      "inputs (InputLayer)          (None, 28, 28, 1)         0         \n",
      "_________________________________________________________________\n",
      "encoder (Model)              [(None, 24), (None, 24),  356268    \n",
      "_________________________________________________________________\n",
      "decoder (Model)              (None, 28, 28, 1)         499784    \n",
      "=================================================================\n",
      "Total params: 856,052\n",
      "Trainable params: 856,052\n",
      "Non-trainable params: 0\n",
      "_________________________________________________________________\n"
     ]
    }
   ],
   "source": [
    "from keras.optimizers import SGD, RMSprop, Adam, Adagrad, Adadelta\n",
    "from keras.losses import mse, binary_crossentropy\n",
    "\n",
    "# Calculate the reconstruction loss. We use MSE. Note that since inputs/outputs are of\n",
    "# shape (?, 28, 28, 1), we cannot simply call mse(inputs, outputs) as this would result\n",
    "# in the MSE being calculated only along the last axis=-1, instead of over the entire image\n",
    "#\n",
    "# Fix: we use the backend to write the MSE explicitly\n",
    "#\n",
    "print(\"inputs/outputs shapes:\", inputs.shape, outputs.shape)\n",
    "reconstruction_loss = K.sum(K.square(outputs - inputs), axis=[1, 2, 3])\n",
    "#reconstruction_loss = binary_crossentropy(inputs, outputs)\n",
    "#reconstruction_loss *= np.sqrt(n_inputs)\n",
    "#reconstruction_loss *= n_inputs\n",
    "print(\"rec_loss:\", reconstruction_loss.shape)\n",
    "\n",
    "\n",
    "# Calculate the distribution loss (KL-div for Gaussian has a closed form)\n",
    "#\n",
    "epsilon = 1e-10\n",
    "dist_loss = K.square(param_0) + K.exp(param_1) - 1 - param_1\n",
    "#dist_loss = K.square(param_0) + K.square(param_1) - 1 - K.log( epsilon + K.square(param_1) )\n",
    "dist_loss = 0.5 * K.sum(dist_loss, axis=-1)\n",
    "print(\"dist_loss:\", dist_loss.shape)\n",
    "\n",
    "loss = K.mean(reconstruction_loss + dist_loss)\n",
    "#loss = K.mean(reconstruction_loss)\n",
    "#loss = K.mean(dist_loss)\n",
    "print(\"loss:\", loss.shape)\n",
    "\n",
    "#optimizer = SGD()\n",
    "#optimizer = SGD(lr=0.003, momentum=0.7, nesterov=True)\n",
    "optimizer = Adam()\n",
    "#optimizer = Adam(lr=0.001)\n",
    "#optimizer = RMSprop()\n",
    "#optimizer = RMSprop(lr=0.001)\n",
    "#optimizer = Adagrad()\n",
    "#optimizer = Adagrad(lr=0.001)\n",
    "#optimizer = Adadelta()\n",
    "#optimizer = Adadelta(lr=0.15)\n",
    "\n",
    "#encoder.compile(loss='binary_crossentropy', optimizer=\"adam\")\n",
    "#decoder.compile(loss='binary_crossentropy', optimizer=\"adam\")\n",
    "model.add_loss(loss)\n",
    "model.compile(optimizer=optimizer)\n",
    "model.summary()"
   ]
  },
  {
   "cell_type": "markdown",
   "metadata": {},
   "source": [
    "### Train"
   ]
  },
  {
   "cell_type": "code",
   "execution_count": 745,
   "metadata": {
    "ExecuteTime": {
     "end_time": "2018-08-28T23:26:13.774601Z",
     "start_time": "2018-08-28T23:22:50.532218Z"
    },
    "scrolled": true
   },
   "outputs": [
    {
     "name": "stdout",
     "output_type": "stream",
     "text": [
      "Epoch 1/100\n",
      "60000/60000 [==============================] - 10s 168us/step - loss: 51.4541\n",
      "Epoch 2/100\n",
      "60000/60000 [==============================] - 4s 74us/step - loss: 37.7758\n",
      "Epoch 3/100\n",
      "60000/60000 [==============================] - 5s 76us/step - loss: 33.6952\n",
      "Epoch 4/100\n",
      "60000/60000 [==============================] - 4s 75us/step - loss: 32.3311\n",
      "Epoch 5/100\n",
      "60000/60000 [==============================] - 4s 75us/step - loss: 31.5312\n",
      "Epoch 6/100\n",
      "60000/60000 [==============================] - 5s 75us/step - loss: 30.9517\n",
      "Epoch 7/100\n",
      "60000/60000 [==============================] - 5s 76us/step - loss: 30.4265\n",
      "Epoch 8/100\n",
      "60000/60000 [==============================] - 5s 76us/step - loss: 30.0088\n",
      "Epoch 9/100\n",
      "60000/60000 [==============================] - 5s 77us/step - loss: 29.6472\n",
      "Epoch 10/100\n",
      "60000/60000 [==============================] - 5s 76us/step - loss: 29.3746\n",
      "Epoch 11/100\n",
      "60000/60000 [==============================] - 4s 74us/step - loss: 29.1596\n",
      "Epoch 12/100\n",
      "60000/60000 [==============================] - 4s 75us/step - loss: 28.9562\n",
      "Epoch 13/100\n",
      "60000/60000 [==============================] - 4s 75us/step - loss: 28.7805\n",
      "Epoch 14/100\n",
      "60000/60000 [==============================] - 5s 76us/step - loss: 28.6244\n",
      "Epoch 15/100\n",
      "60000/60000 [==============================] - 5s 76us/step - loss: 28.4723\n",
      "Epoch 16/100\n",
      "60000/60000 [==============================] - 4s 75us/step - loss: 28.3903\n",
      "Epoch 17/100\n",
      "60000/60000 [==============================] - 5s 75us/step - loss: 28.2711\n",
      "Epoch 18/100\n",
      "60000/60000 [==============================] - 5s 75us/step - loss: 28.1298 \n",
      "Epoch 19/100\n",
      "60000/60000 [==============================] - 4s 75us/step - loss: 28.0540\n",
      "Epoch 20/100\n",
      "60000/60000 [==============================] - 4s 75us/step - loss: 27.9498\n",
      "Epoch 21/100\n",
      "60000/60000 [==============================] - 5s 76us/step - loss: 27.8865\n",
      "Epoch 22/100\n",
      "60000/60000 [==============================] - 5s 76us/step - loss: 27.8096\n",
      "Epoch 23/100\n",
      "60000/60000 [==============================] - 4s 75us/step - loss: 27.7583\n",
      "Epoch 24/100\n",
      "60000/60000 [==============================] - 5s 76us/step - loss: 27.6756 0s - loss:\n",
      "Epoch 25/100\n",
      "60000/60000 [==============================] - 5s 77us/step - loss: 27.6178\n",
      "Epoch 26/100\n",
      "60000/60000 [==============================] - 5s 75us/step - loss: 27.5822\n",
      "Epoch 27/100\n",
      "60000/60000 [==============================] - 5s 75us/step - loss: 27.5039\n",
      "Epoch 28/100\n",
      "60000/60000 [==============================] - 5s 75us/step - loss: 27.4602\n",
      "Epoch 29/100\n",
      "60000/60000 [==============================] - 4s 75us/step - loss: 27.4257\n",
      "Epoch 30/100\n",
      "60000/60000 [==============================] - 5s 76us/step - loss: 27.3728\n",
      "Epoch 31/100\n",
      "60000/60000 [==============================] - 5s 76us/step - loss: 27.3330\n",
      "Epoch 32/100\n",
      "60000/60000 [==============================] - 5s 75us/step - loss: 27.3093\n",
      "Epoch 33/100\n",
      "60000/60000 [==============================] - 5s 75us/step - loss: 27.2127\n",
      "Epoch 34/100\n",
      "60000/60000 [==============================] - 4s 75us/step - loss: 27.2156\n",
      "Epoch 35/100\n",
      "60000/60000 [==============================] - 4s 75us/step - loss: 27.1817\n",
      "Epoch 36/100\n",
      "60000/60000 [==============================] - 4s 75us/step - loss: 27.1645\n",
      "Epoch 37/100\n",
      "60000/60000 [==============================] - 5s 76us/step - loss: 27.1113\n",
      "Epoch 38/100\n",
      "60000/60000 [==============================] - 4s 75us/step - loss: 27.0979\n",
      "Epoch 39/100\n",
      "60000/60000 [==============================] - 5s 77us/step - loss: 27.0597\n",
      "Epoch 40/100\n",
      "60000/60000 [==============================] - 5s 75us/step - loss: 27.0320\n",
      "Epoch 41/100\n",
      "60000/60000 [==============================] - 5s 76us/step - loss: 27.0200\n",
      "Epoch 42/100\n",
      "60000/60000 [==============================] - 5s 75us/step - loss: 26.9645\n",
      "Epoch 43/100\n",
      "60000/60000 [==============================] - 5s 76us/step - loss: 26.9454\n",
      "Epoch 44/100\n",
      "34050/60000 [================>.............] - ETA: 1s - loss: 26.9297"
     ]
    },
    {
     "ename": "KeyboardInterrupt",
     "evalue": "",
     "output_type": "error",
     "traceback": [
      "\u001b[1;31m---------------------------------------------------------------------------\u001b[0m",
      "\u001b[1;31mKeyboardInterrupt\u001b[0m                         Traceback (most recent call last)",
      "\u001b[1;32m<ipython-input-745-ee61c2fbfe5d>\u001b[0m in \u001b[0;36m<module>\u001b[1;34m()\u001b[0m\n\u001b[0;32m      4\u001b[0m \u001b[1;33m\u001b[0m\u001b[0m\n\u001b[0;32m      5\u001b[0m history = model.fit(\n\u001b[1;32m----> 6\u001b[1;33m     \u001b[0mX_train\u001b[0m\u001b[1;33m,\u001b[0m \u001b[0mbatch_size\u001b[0m\u001b[1;33m=\u001b[0m\u001b[0mbatch_size\u001b[0m\u001b[1;33m,\u001b[0m \u001b[0mepochs\u001b[0m\u001b[1;33m=\u001b[0m\u001b[0mepochs\u001b[0m\u001b[1;33m,\u001b[0m \u001b[0mverbose\u001b[0m\u001b[1;33m=\u001b[0m\u001b[1;36m1\u001b[0m\u001b[1;33m\u001b[0m\u001b[0m\n\u001b[0m\u001b[0;32m      7\u001b[0m )\n",
      "\u001b[1;32mC:\\dev\\programs\\Anaconda3\\envs\\gpu\\lib\\site-packages\\keras\\engine\\training.py\u001b[0m in \u001b[0;36mfit\u001b[1;34m(self, x, y, batch_size, epochs, verbose, callbacks, validation_split, validation_data, shuffle, class_weight, sample_weight, initial_epoch, steps_per_epoch, validation_steps, **kwargs)\u001b[0m\n\u001b[0;32m   1035\u001b[0m                                         \u001b[0minitial_epoch\u001b[0m\u001b[1;33m=\u001b[0m\u001b[0minitial_epoch\u001b[0m\u001b[1;33m,\u001b[0m\u001b[1;33m\u001b[0m\u001b[0m\n\u001b[0;32m   1036\u001b[0m                                         \u001b[0msteps_per_epoch\u001b[0m\u001b[1;33m=\u001b[0m\u001b[0msteps_per_epoch\u001b[0m\u001b[1;33m,\u001b[0m\u001b[1;33m\u001b[0m\u001b[0m\n\u001b[1;32m-> 1037\u001b[1;33m                                         validation_steps=validation_steps)\n\u001b[0m\u001b[0;32m   1038\u001b[0m \u001b[1;33m\u001b[0m\u001b[0m\n\u001b[0;32m   1039\u001b[0m     def evaluate(self, x=None, y=None,\n",
      "\u001b[1;32mC:\\dev\\programs\\Anaconda3\\envs\\gpu\\lib\\site-packages\\keras\\engine\\training_arrays.py\u001b[0m in \u001b[0;36mfit_loop\u001b[1;34m(model, f, ins, out_labels, batch_size, epochs, verbose, callbacks, val_f, val_ins, shuffle, callback_metrics, initial_epoch, steps_per_epoch, validation_steps)\u001b[0m\n\u001b[0;32m    197\u001b[0m                     \u001b[0mins_batch\u001b[0m\u001b[1;33m[\u001b[0m\u001b[0mi\u001b[0m\u001b[1;33m]\u001b[0m \u001b[1;33m=\u001b[0m \u001b[0mins_batch\u001b[0m\u001b[1;33m[\u001b[0m\u001b[0mi\u001b[0m\u001b[1;33m]\u001b[0m\u001b[1;33m.\u001b[0m\u001b[0mtoarray\u001b[0m\u001b[1;33m(\u001b[0m\u001b[1;33m)\u001b[0m\u001b[1;33m\u001b[0m\u001b[0m\n\u001b[0;32m    198\u001b[0m \u001b[1;33m\u001b[0m\u001b[0m\n\u001b[1;32m--> 199\u001b[1;33m                 \u001b[0mouts\u001b[0m \u001b[1;33m=\u001b[0m \u001b[0mf\u001b[0m\u001b[1;33m(\u001b[0m\u001b[0mins_batch\u001b[0m\u001b[1;33m)\u001b[0m\u001b[1;33m\u001b[0m\u001b[0m\n\u001b[0m\u001b[0;32m    200\u001b[0m                 \u001b[0mouts\u001b[0m \u001b[1;33m=\u001b[0m \u001b[0mto_list\u001b[0m\u001b[1;33m(\u001b[0m\u001b[0mouts\u001b[0m\u001b[1;33m)\u001b[0m\u001b[1;33m\u001b[0m\u001b[0m\n\u001b[0;32m    201\u001b[0m                 \u001b[1;32mfor\u001b[0m \u001b[0ml\u001b[0m\u001b[1;33m,\u001b[0m \u001b[0mo\u001b[0m \u001b[1;32min\u001b[0m \u001b[0mzip\u001b[0m\u001b[1;33m(\u001b[0m\u001b[0mout_labels\u001b[0m\u001b[1;33m,\u001b[0m \u001b[0mouts\u001b[0m\u001b[1;33m)\u001b[0m\u001b[1;33m:\u001b[0m\u001b[1;33m\u001b[0m\u001b[0m\n",
      "\u001b[1;32mC:\\dev\\programs\\Anaconda3\\envs\\gpu\\lib\\site-packages\\keras\\backend\\tensorflow_backend.py\u001b[0m in \u001b[0;36m__call__\u001b[1;34m(self, inputs)\u001b[0m\n\u001b[0;32m   2664\u001b[0m                 \u001b[1;32mreturn\u001b[0m \u001b[0mself\u001b[0m\u001b[1;33m.\u001b[0m\u001b[0m_legacy_call\u001b[0m\u001b[1;33m(\u001b[0m\u001b[0minputs\u001b[0m\u001b[1;33m)\u001b[0m\u001b[1;33m\u001b[0m\u001b[0m\n\u001b[0;32m   2665\u001b[0m \u001b[1;33m\u001b[0m\u001b[0m\n\u001b[1;32m-> 2666\u001b[1;33m             \u001b[1;32mreturn\u001b[0m \u001b[0mself\u001b[0m\u001b[1;33m.\u001b[0m\u001b[0m_call\u001b[0m\u001b[1;33m(\u001b[0m\u001b[0minputs\u001b[0m\u001b[1;33m)\u001b[0m\u001b[1;33m\u001b[0m\u001b[0m\n\u001b[0m\u001b[0;32m   2667\u001b[0m         \u001b[1;32melse\u001b[0m\u001b[1;33m:\u001b[0m\u001b[1;33m\u001b[0m\u001b[0m\n\u001b[0;32m   2668\u001b[0m             \u001b[1;32mif\u001b[0m \u001b[0mpy_any\u001b[0m\u001b[1;33m(\u001b[0m\u001b[0mis_tensor\u001b[0m\u001b[1;33m(\u001b[0m\u001b[0mx\u001b[0m\u001b[1;33m)\u001b[0m \u001b[1;32mfor\u001b[0m \u001b[0mx\u001b[0m \u001b[1;32min\u001b[0m \u001b[0minputs\u001b[0m\u001b[1;33m)\u001b[0m\u001b[1;33m:\u001b[0m\u001b[1;33m\u001b[0m\u001b[0m\n",
      "\u001b[1;32mC:\\dev\\programs\\Anaconda3\\envs\\gpu\\lib\\site-packages\\keras\\backend\\tensorflow_backend.py\u001b[0m in \u001b[0;36m_call\u001b[1;34m(self, inputs)\u001b[0m\n\u001b[0;32m   2634\u001b[0m                                 \u001b[0msymbol_vals\u001b[0m\u001b[1;33m,\u001b[0m\u001b[1;33m\u001b[0m\u001b[0m\n\u001b[0;32m   2635\u001b[0m                                 session)\n\u001b[1;32m-> 2636\u001b[1;33m         \u001b[0mfetched\u001b[0m \u001b[1;33m=\u001b[0m \u001b[0mself\u001b[0m\u001b[1;33m.\u001b[0m\u001b[0m_callable_fn\u001b[0m\u001b[1;33m(\u001b[0m\u001b[1;33m*\u001b[0m\u001b[0marray_vals\u001b[0m\u001b[1;33m)\u001b[0m\u001b[1;33m\u001b[0m\u001b[0m\n\u001b[0m\u001b[0;32m   2637\u001b[0m         \u001b[1;32mreturn\u001b[0m \u001b[0mfetched\u001b[0m\u001b[1;33m[\u001b[0m\u001b[1;33m:\u001b[0m\u001b[0mlen\u001b[0m\u001b[1;33m(\u001b[0m\u001b[0mself\u001b[0m\u001b[1;33m.\u001b[0m\u001b[0moutputs\u001b[0m\u001b[1;33m)\u001b[0m\u001b[1;33m]\u001b[0m\u001b[1;33m\u001b[0m\u001b[0m\n\u001b[0;32m   2638\u001b[0m \u001b[1;33m\u001b[0m\u001b[0m\n",
      "\u001b[1;32mC:\\dev\\programs\\Anaconda3\\envs\\gpu\\lib\\site-packages\\tensorflow\\python\\client\\session.py\u001b[0m in \u001b[0;36m__call__\u001b[1;34m(self, *args)\u001b[0m\n\u001b[0;32m   1449\u001b[0m         \u001b[1;32mif\u001b[0m \u001b[0mself\u001b[0m\u001b[1;33m.\u001b[0m\u001b[0m_session\u001b[0m\u001b[1;33m.\u001b[0m\u001b[0m_created_with_new_api\u001b[0m\u001b[1;33m:\u001b[0m\u001b[1;33m\u001b[0m\u001b[0m\n\u001b[0;32m   1450\u001b[0m           return tf_session.TF_SessionRunCallable(\n\u001b[1;32m-> 1451\u001b[1;33m               self._session._session, self._handle, args, status, None)\n\u001b[0m\u001b[0;32m   1452\u001b[0m         \u001b[1;32melse\u001b[0m\u001b[1;33m:\u001b[0m\u001b[1;33m\u001b[0m\u001b[0m\n\u001b[0;32m   1453\u001b[0m           return tf_session.TF_DeprecatedSessionRunCallable(\n",
      "\u001b[1;31mKeyboardInterrupt\u001b[0m: "
     ]
    }
   ],
   "source": [
    "epochs = 50\n",
    "batch_size = 150\n",
    "val_split=0.05 # how much TRAIN is reserved for VALIDATION\n",
    "\n",
    "history = model.fit(\n",
    "    X_train, batch_size=batch_size, epochs=epochs, verbose=1\n",
    ")"
   ]
  },
  {
   "cell_type": "code",
   "execution_count": 746,
   "metadata": {
    "ExecuteTime": {
     "end_time": "2018-08-28T23:26:38.798585Z",
     "start_time": "2018-08-28T23:26:32.526998Z"
    }
   },
   "outputs": [],
   "source": [
    "# Save the encoder, decoder, and stacked models\n",
    "#\n",
    "encoder.save(encoder_file + '.h5')\n",
    "decoder.save(decoder_file + '.h5')\n",
    "model.save(model_file + '.h5')"
   ]
  },
  {
   "cell_type": "markdown",
   "metadata": {},
   "source": [
    "### Reconstruction Output"
   ]
  },
  {
   "cell_type": "code",
   "execution_count": 747,
   "metadata": {
    "ExecuteTime": {
     "end_time": "2018-08-28T23:26:43.937134Z",
     "start_time": "2018-08-28T23:26:40.959100Z"
    },
    "scrolled": true
   },
   "outputs": [
    {
     "data": {
      "image/png": "[encoded data removed]",
      "text/plain": [
       "<Figure size 864x180 with 20 Axes>"
      ]
     },
     "metadata": {},
     "output_type": "display_data"
    }
   ],
   "source": [
    "from keras.models import load_model\n",
    "\n",
    "n_digits = 10\n",
    "n_codings = 20 #from the encoder number\n",
    "\n",
    "#model_file = 'models/auto/mnist/k_auto_var2-model'\n",
    "#model = load_model(model_file + '.h5')\n",
    "\n",
    "images_in, _ = random_batch(X_test, y_test, batch_size=n_digits)\n",
    "images_out = model.predict(images_in)\n",
    "\n",
    "fig = plt.figure(figsize=(12, 2.5))\n",
    "for digit_index in range(n_digits):\n",
    "    plt.subplot(2, n_digits, digit_index + 1)\n",
    "    plot_image(images_in[digit_index].reshape(28,28))\n",
    "    \n",
    "    plt.subplot(2, n_digits, n_digits + digit_index + 1)\n",
    "    plot_image(images_out[digit_index].reshape(28,28))\n",
    "plt.show()"
   ]
  },
  {
   "cell_type": "markdown",
   "metadata": {},
   "source": [
    "### Encoding Distributions"
   ]
  },
  {
   "cell_type": "code",
   "execution_count": 748,
   "metadata": {
    "ExecuteTime": {
     "end_time": "2018-08-28T23:26:51.678018Z",
     "start_time": "2018-08-28T23:26:47.819340Z"
    }
   },
   "outputs": [
    {
     "name": "stdout",
     "output_type": "stream",
     "text": [
      "10000/10000 [==============================] - 4s 385us/step\n",
      "(10000, 24)\n"
     ]
    }
   ],
   "source": [
    "from keras.models import load_model\n",
    "\n",
    "#encoder_file = 'models/auto/mnist/k_auto_var2-enc'\n",
    "#encoder = load_model(encoder_file + '.h5')\n",
    "#encoder.compile(loss='binary_crossentropy', optimizer=\"adam\")\n",
    "\n",
    "# encoder_output contains 3 variables: [ codings, param_0, param_1 ]\n",
    "encoder_output = encoder.predict(X_test, verbose=True)\n",
    "print(encoder_output[0].shape)"
   ]
  },
  {
   "cell_type": "code",
   "execution_count": 749,
   "metadata": {
    "ExecuteTime": {
     "end_time": "2018-08-28T23:26:53.524235Z",
     "start_time": "2018-08-28T23:26:51.682007Z"
    }
   },
   "outputs": [
    {
     "data": {
      "image/png": "[encoded data removed]",
      "text/plain": [
       "<Figure size 864x576 with 24 Axes>"
      ]
     },
     "metadata": {},
     "output_type": "display_data"
    }
   ],
   "source": [
    "X_encoded = encoder_output[0]\n",
    "showAll = True\n",
    "\n",
    "coord_indeces = np.array([\n",
    "    [ 0, 1, 2, 3, 4],\n",
    "    [ 5, 6, 7, 8, 9]\n",
    "])\n",
    "\n",
    "if showAll:\n",
    "    n_cols = 6\n",
    "    n_rows = X_encoded.shape[1] // n_cols\n",
    "else:\n",
    "    n_cols = coord_indeces.shape[1]\n",
    "    n_rows = coord_indeces.shape[0]\n",
    "\n",
    "plt.figure(figsize=(12, int(12.0/n_cols * n_rows)))\n",
    "for row in range(n_rows):\n",
    "    for col in range(n_cols):\n",
    "        i = row * n_cols + col\n",
    "        plt.subplot(n_rows, n_cols, i + 1)\n",
    "        if showAll:\n",
    "            plt.title(\"Coord \" + str(i))\n",
    "            plt.hist(X_encoded[:, i], bins=20, density=True)\n",
    "        else:\n",
    "            plt.title(\"Coord \" + str(coord_indeces[row, col]))\n",
    "            plt.hist(X_encoded[:, coord_indeces[row, col]], bins=20, density=True)\n",
    "plt.tight_layout()\n",
    "plt.show()"
   ]
  },
  {
   "cell_type": "markdown",
   "metadata": {},
   "source": [
    "### Generative"
   ]
  },
  {
   "cell_type": "code",
   "execution_count": 753,
   "metadata": {
    "ExecuteTime": {
     "end_time": "2018-08-28T23:27:46.948728Z",
     "start_time": "2018-08-28T23:27:46.820072Z"
    },
    "scrolled": true
   },
   "outputs": [
    {
     "data": {
      "image/png": "[encoded data removed]",
      "text/plain": [
       "<Figure size 864x360 with 1 Axes>"
      ]
     },
     "metadata": {},
     "output_type": "display_data"
    }
   ],
   "source": [
    "from keras.models import load_model\n",
    "\n",
    "rows = 5\n",
    "cols = 12\n",
    "n_digits = rows * cols\n",
    "\n",
    "#decoder_file = 'models/auto/mnist/k_auto_var2-dec'\n",
    "#decoder = load_model(decoder_file + '.h5')\n",
    "#decoder.compile(loss='binary_crossentropy', optimizer=\"adam\")\n",
    "n_codings = decoder.layers[0].input_shape[1]\n",
    "\n",
    "#codings_in = noise = np.random.uniform(-2, 2, n_digits * n_codings).reshape((n_digits, n_codings))\n",
    "codings_in = noise = np.random.normal(0, 1.0, n_digits * n_codings).reshape((n_digits, n_codings))\n",
    "images_out = decoder.predict(codings_in)\n",
    "\n",
    "image = combine_images(images_out, rows, cols)\n",
    "\n",
    "fig = plt.figure(figsize=(cols, rows))\n",
    "plt.imshow(image, cmap=\"Greys\", interpolation='nearest')\n",
    "plt.axis(\"off\")\n",
    "plt.show()"
   ]
  },
  {
   "cell_type": "markdown",
   "metadata": {},
   "source": [
    "## Interpolating digits"
   ]
  },
  {
   "cell_type": "code",
   "execution_count": 111,
   "metadata": {
    "ExecuteTime": {
     "end_time": "2018-07-22T21:36:22.142238Z",
     "start_time": "2018-07-22T21:36:20.703412Z"
    },
    "scrolled": true
   },
   "outputs": [
    {
     "name": "stdout",
     "output_type": "stream",
     "text": [
      "INFO:tensorflow:Restoring parameters from models/tf_auto_variational_gamma\n"
     ]
    },
    {
     "data": {
      "image/png": "[encoded data removed]",
      "text/plain": [
       "<Figure size 748.8x360 with 8 Axes>"
      ]
     },
     "metadata": {},
     "output_type": "display_data"
    },
    {
     "data": {
      "image/png": "[encoded data removed]",
      "text/plain": [
       "<Figure size 748.8x360 with 8 Axes>"
      ]
     },
     "metadata": {},
     "output_type": "display_data"
    },
    {
     "data": {
      "image/png": "[encoded data removed]",
      "text/plain": [
       "<Figure size 748.8x360 with 8 Axes>"
      ]
     },
     "metadata": {},
     "output_type": "display_data"
    },
    {
     "data": {
      "image/png": "[encoded data removed]",
      "text/plain": [
       "<Figure size 748.8x360 with 8 Axes>"
      ]
     },
     "metadata": {},
     "output_type": "display_data"
    },
    {
     "data": {
      "image/png": "[encoded data removed]",
      "text/plain": [
       "<Figure size 748.8x360 with 8 Axes>"
      ]
     },
     "metadata": {},
     "output_type": "display_data"
    },
    {
     "data": {
      "image/png": "[encoded data removed]",
      "text/plain": [
       "<Figure size 748.8x360 with 8 Axes>"
      ]
     },
     "metadata": {},
     "output_type": "display_data"
    }
   ],
   "source": [
    "from keras.models import load_model\n",
    "\n",
    "n_digits = 12\n",
    "n_iterations = 10\n",
    "\n",
    "#decoder_file = 'models/auto/mnist/k_auto_var2-dec'\n",
    "#decoder = load_model(decoder_file + '.h5')\n",
    "#decoder.compile(loss='binary_crossentropy', optimizer=\"adam\")\n",
    "n_codings = decoder.layers[0].input_shape[1]\n",
    "\n",
    "#codings_in = noise = np.random.uniform(-2, 2, n_digits * n_codings).reshape((n_digits, n_codings))\n",
    "codings_in = noise = np.random.normal(0, 1.0, n_digits * n_codings).reshape((n_digits, n_codings))\n",
    "codings_target = target_codings = np.roll(codings_in, -1, axis=0)\n",
    "difference = codings_target - codings_in\n",
    "\n",
    "for iteration in range(n_iterations):\n",
    "    codings_interpolate = codings_in +  difference * iteration / n_iterations\n",
    "    images_out = decoder.predict(codings_interpolate)\n",
    "    \n",
    "    image = combine_images(images_out, rows=1, cols=n_digits)\n",
    "    \n",
    "    fig = plt.figure(figsize=(n_digits, 1))\n",
    "    plt.imshow(image, cmap=\"Greys\", interpolation='nearest')\n",
    "    plt.axis(\"off\")\n",
    "    plt.show()\n",
    "\n",
    "\n",
    "codings_interpolate = np.zeros(n_iterations, n_digits, n_codings)\n",
    "images_out = np.zeros(n_iterations, n_digits, height, width, channels)\n",
    "\n",
    "images_out = decoder.predict(codings_in)\n",
    "\n",
    "image = combine_images(images_out, rows=1, cols=n_digits)\n",
    "\n",
    "fig = plt.figure(figsize=(n_digits, n_iterations))\n",
    "plt.imshow(image, cmap=\"Greys\", interpolation='nearest')\n",
    "plt.axis(\"off\")\n",
    "plt.show()\n",
    "\n",
    "    for iteration in range(n_iterations + 1):\n",
    "        codings_interpolate = codings_rnd + (target_codings - codings_rnd) * iteration / n_iterations\n",
    "        outputs_val = outputs.eval(feed_dict={codings: codings_interpolate})\n",
    "        \n",
    "        plt.figure(figsize=(1.3 * n_digits, 1*n_iterations))\n",
    "        for digit_index in range(n_digits):\n",
    "            plt.subplot(1, n_digits, digit_index + 1)\n",
    "            plot_image(outputs_val[digit_index])\n",
    "        plt.show()"
   ]
  },
  {
   "cell_type": "code",
   "execution_count": 355,
   "metadata": {
    "ExecuteTime": {
     "end_time": "2018-08-20T13:04:21.116407Z",
     "start_time": "2018-08-20T12:35:24.768770Z"
    },
    "scrolled": true
   },
   "outputs": [
    {
     "name": "stdout",
     "output_type": "stream",
     "text": [
      "Training for 5 epochs with 100 batches of size 100 (fake=0, real=1)\n",
      "Epoch   0:  99% | d_loss: 0.6892 | g_loss: 0.6417 | d_var: 0.00552\n",
      "Epoch   1:  99% | d_loss: 0.6037 | g_loss: 0.9463 | d_var: 0.00229\n",
      "Epoch   2:  99% | d_loss: 0.5697 | g_loss: 0.9278 | d_var: 0.00052\n",
      "Epoch   3:  99% | d_loss: 0.6025 | g_loss: 1.3480 | d_var: 0.00049\n",
      "Epoch   4:  99% | d_loss: 0.5880 | g_loss: 0.8531 | d_var: 0.00060\n",
      "Training finished.\n"
     ]
    }
   ],
   "source": [
    "start_fresh = True\n",
    "next_pid = 1\n",
    "\n",
    "n_epochs = 10\n",
    "batch_size = 100\n",
    "n_batches = X_train.shape[0] // batch_size\n",
    "\n",
    "see_changes = True #use the same noise for output images, to track changes4\n",
    "show_zero = False\n",
    "\n",
    "\n",
    "if see_changes:\n",
    "    if start_fresh:\n",
    "        #enc_const = np.random.normal(-1, 1, batch_size * n_codings).reshape((batch_size, n_codings))\n",
    "        enc_const = np.random.uniform(-1, 1, batch_size * n_codings).reshape((batch_size, n_codings))\n",
    "    else:\n",
    "        try:\n",
    "            enc_const\n",
    "        except NameError:\n",
    "            #enc_const = np.random.normal(0, 1, batch_size * n_codings).reshape((batch_size, n_codings))\n",
    "            enc_const = np.random.uniform(-1, 1, batch_size * n_codings).reshape((batch_size, n_codings))\n",
    "\n",
    "if start_fresh:\n",
    "    pic_epoch_id = 0\n",
    "else:\n",
    "    pic_epoch_id = next_pid #continue from this epoch - must be set by hand\n",
    "    encoder.load_weights(encoder_file + '.' + str(next_pid - 1))\n",
    "    decoder.load_weights(decoder_file + '.' + str(next_pid - 1))\n",
    "\n",
    "epoch = pic_epoch_id\n",
    "max_epoch = n_epochs + pic_epoch_id\n",
    "noise_zero = np.zeros((1, n_codings))\n",
    "\n",
    "print(\"Training for\", n_epochs, \"epochs with\", n_batches, \"batches of size\", batch_size, end=\"\")\n",
    "\n",
    "while epoch < max_epoch:\n",
    "    losses = []\n",
    "    for iteration in range(n_batches):\n",
    "        random_indeces = np.random.randint(0, X_train.shape[0], batch_size)\n",
    "        X_batch = X_train[random_indeces]\n",
    "        \n",
    "        loss = model.train_on_batch(X_batch, X_batch)\n",
    "        losses.append(loss)\n",
    "        \n",
    "        print(\"\\rEpoch {:3}: {:3}% | loss: {:3.4f}\".format(\n",
    "                epoch, 100 * iteration // n_batches, loss), end=\"\")\n",
    "        sys.stdout.flush()\n",
    "        \n",
    "        if show_zero:\n",
    "            image0 = combine_images(generator.predict(noise_zero), 1, 1) * 255\n",
    "            Image.fromarray(image0.astype(np.uint8)).save(\n",
    "                    save_path0 + str(epoch) + \"_\" + str(iteration) + \".png\")\n",
    "        \n",
    "        if iteration % (n_batches // 1) == 0:\n",
    "            if see_changes:\n",
    "                fake_images = generator.predict(noise_const, verbose=0)\n",
    "            image = combine_images(fake_images)\n",
    "            image = image * 255\n",
    "            Image.fromarray(image.astype(np.uint8)).save(\n",
    "                save_path + str(epoch) + \".png\")\n",
    "        \n",
    "        if iteration % (n_batches // 1) == 0:\n",
    "            generator.save_weights(gen_file + \".\" + str(epoch), True)\n",
    "            generator.save_weights(gen_file, True)\n",
    "            discriminator.save_weights(disc_file + \".\" + str(epoch), True)\n",
    "            discriminator.save_weights(disc_file, True)\n",
    "    \n",
    "    print()\n",
    "    epoch += 1\n",
    "    pic_epoch_id = epoch\n",
    "\n",
    "print(\"Training finished.\")"
   ]
  },
  {
   "cell_type": "code",
   "execution_count": null,
   "metadata": {},
   "outputs": [],
   "source": []
  }
 ],
 "metadata": {
  "kernelspec": {
   "display_name": "Python 3",
   "language": "python",
   "name": "python3"
  },
  "language_info": {
   "codemirror_mode": {
    "name": "ipython",
    "version": 3
   },
   "file_extension": ".py",
   "mimetype": "text/x-python",
   "name": "python",
   "nbconvert_exporter": "python",
   "pygments_lexer": "ipython3",
   "version": "3.6.6"
  },
  "toc": {
   "base_numbering": 1,
   "nav_menu": {},
   "number_sections": true,
   "sideBar": true,
   "skip_h1_title": false,
   "title_cell": "Table of Contents",
   "title_sidebar": "Contents",
   "toc_cell": false,
   "toc_position": {
    "height": "calc(100% - 180px)",
    "left": "10px",
    "top": "150px",
    "width": "279px"
   },
   "toc_section_display": true,
   "toc_window_display": true
  }
 },
 "nbformat": 4,
 "nbformat_minor": 2
}
