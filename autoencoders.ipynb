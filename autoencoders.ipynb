{
 "cells": [
  {
   "cell_type": "markdown",
   "metadata": {},
   "source": [
    "# Global Imports\n",
    "\n",
    "In order to run the code in this notebook, you need to have TensorFlow and Keras (with TensorFlow backend) installed.\n",
    "\n",
    "Below are the necessary imports, as well as some helper functions used throughout. Execute these each time you open the notebook."
   ]
  },
  {
   "cell_type": "code",
   "execution_count": 1,
   "metadata": {
    "ExecuteTime": {
     "end_time": "2018-08-28T23:55:45.124494Z",
     "start_time": "2018-08-28T23:55:37.552465Z"
    }
   },
   "outputs": [
    {
     "data": {
      "text/plain": [
       "[name: \"/device:CPU:0\"\n",
       " device_type: \"CPU\"\n",
       " memory_limit: 268435456\n",
       " locality {\n",
       " }\n",
       " incarnation: 6443328691620559306, name: \"/device:GPU:0\"\n",
       " device_type: \"GPU\"\n",
       " memory_limit: 3175455129\n",
       " locality {\n",
       "   bus_id: 1\n",
       "   links {\n",
       "   }\n",
       " }\n",
       " incarnation: 13858434245801736407\n",
       " physical_device_desc: \"device: 0, name: GeForce GTX 1050, pci bus id: 0000:01:00.0, compute capability: 6.1\"]"
      ]
     },
     "execution_count": 1,
     "metadata": {},
     "output_type": "execute_result"
    }
   ],
   "source": [
    "# To support both python 2 and python 3\n",
    "from __future__ import division, print_function, unicode_literals\n",
    "\n",
    "%matplotlib inline\n",
    "import matplotlib\n",
    "import matplotlib.image as mpimg\n",
    "import matplotlib.pyplot as plt\n",
    "import numpy as np\n",
    "import os\n",
    "import tensorflow as tf\n",
    "import sys\n",
    "\n",
    "from tensorflow.python.client import device_lib\n",
    "device_lib.list_local_devices()"
   ]
  },
  {
   "cell_type": "code",
   "execution_count": 2,
   "metadata": {
    "ExecuteTime": {
     "end_time": "2018-08-28T23:55:45.137486Z",
     "start_time": "2018-08-28T23:55:45.127498Z"
    }
   },
   "outputs": [],
   "source": [
    "# Needed for resetting a tensorflow graph\n",
    "def reset_graph(seed=42):\n",
    "    tf.reset_default_graph()\n",
    "    tf.set_random_seed(seed)\n",
    "    np.random.seed(seed)\n",
    "\n",
    "\n",
    "def random_batch(X_train, y_train, batch_size):\n",
    "    index_set = np.random.randint(0, X_train.shape[0], batch_size)\n",
    "    X_batch = X_train[index_set]\n",
    "    y_batch = y_train[index_set]\n",
    "    return X_batch, y_batch\n",
    "\n",
    "\n",
    "def plot_image(image, pad=2):\n",
    "    image = image - image.min()\n",
    "    \n",
    "    if len(image.shape) == 3:\n",
    "        channels = image.shape[2]\n",
    "    else:\n",
    "        channels = 1\n",
    "        \n",
    "    if channels == 1:\n",
    "        plt.imshow(image.reshape([height,width]), cmap=\"Greys\", interpolation=\"nearest\")\n",
    "    else:\n",
    "        plt.imshow(image)\n",
    "    plt.axis(\"off\")\n",
    "    \n",
    "\n",
    "def combine_images(images, rows=None, cols=None):\n",
    "    n_images = images.shape[0]\n",
    "    shape = images.shape[1:]\n",
    "    \n",
    "    if rows == None or cols == None:\n",
    "        cols = int(math.sqrt(n_images))\n",
    "        rows = int(math.floor(float(n_images)/cols))\n",
    "    \n",
    "    if len(shape) == 3:\n",
    "        channels = shape[2]\n",
    "    else:\n",
    "        channels = 1\n",
    "    \n",
    "    if channels == 1:\n",
    "        image = np.zeros((rows*shape[0], cols*shape[1]), dtype=images.dtype)\n",
    "    else:\n",
    "        image = np.zeros((rows*shape[0], cols*shape[1], shape[2]), dtype=images.dtype)\n",
    "    #print(generated_images.shape, shape, image.shape)\n",
    "    \n",
    "    for row in range(rows):\n",
    "        for col in range(cols):\n",
    "            img_index = row * cols + col\n",
    "            img = images[img_index]\n",
    "            if channels == 1:\n",
    "                image[\n",
    "                    row*shape[0]:(row+1)*shape[0], \n",
    "                    col*shape[1]:(col+1)*shape[1]\n",
    "                ] = img.reshape((shape[0], shape[1]))\n",
    "            else:\n",
    "                image[\n",
    "                    row*shape[0]:(row+1)*shape[0], \n",
    "                    col*shape[1]:(col+1)*shape[1],\n",
    "                    :\n",
    "                ] = img.reshape((shape[0], shape[1], shape[2]))\n",
    "    return image"
   ]
  },
  {
   "cell_type": "markdown",
   "metadata": {},
   "source": [
    "# Stacked Autoencoders\n",
    "\n",
    "An autoencoder is a type of neural network that can learn efficient representations of the data (called *codings*). It is comprised of stacking two neural networks together: an *encoder* followed by a *decoder*.\n",
    "\n",
    "For example, the MNIST dataset contains images of size $28\\times28\\times1$, a total of $784$ features which could be decreased to a vector of size at least 10 (since there are 10 labels), but to add variation in the reconstruction."
   ]
  },
  {
   "cell_type": "markdown",
   "metadata": {},
   "source": [
    "## Data Import (MNIST)"
   ]
  },
  {
   "cell_type": "code",
   "execution_count": 3,
   "metadata": {
    "ExecuteTime": {
     "end_time": "2018-08-28T23:55:45.809135Z",
     "start_time": "2018-08-28T23:55:45.139465Z"
    }
   },
   "outputs": [
    {
     "name": "stderr",
     "output_type": "stream",
     "text": [
      "Using TensorFlow backend.\n"
     ]
    },
    {
     "name": "stdout",
     "output_type": "stream",
     "text": [
      "(60000, 28, 28) (60000,)\n",
      "(60000, 28, 28, 1) (10000, 28, 28, 1)\n"
     ]
    }
   ],
   "source": [
    "from keras.datasets import mnist\n",
    "\n",
    "(X_train, y_train), (X_test, y_test) = mnist.load_data()\n",
    "print(X_train.shape, y_train.shape)\n",
    "\n",
    "height = X_train.shape[1]\n",
    "width = X_train.shape[2]\n",
    "channels = 1\n",
    "\n",
    "X_train = X_train.astype(np.float32) / 255.0 #ensure pixel values are between 0 and 1\n",
    "X_train = X_train.reshape((X_train.shape[0], height, width, channels))\n",
    "X_test = X_test.astype(np.float32) / 255.0 #ensure pixel values are between 0 and 1\n",
    "X_test = X_test.reshape((X_test.shape[0], height, width, channels))\n",
    "\n",
    "# Run this if you don't use the whole training set\n",
    "if False:\n",
    "    m = 10000\n",
    "    random_indeces = np.random.randint(0, X_train.shape[0], np.min(m, X_train.shape[0]))\n",
    "    X_train = X_train[random_indeces]\n",
    "\n",
    "print(X_train.shape, X_test.shape)"
   ]
  },
  {
   "cell_type": "markdown",
   "metadata": {},
   "source": [
    "## Dense Model `k_auto0`\n",
    "\n",
    "A dense autoencoder for MNIST consists of a dense neural network with a layout similar to this:\n",
    "<img src=\"./images/autoencoder_dense.png\" style=\"width:50%\">\n",
    "\n",
    "The hidden layers 1 and 3 are not necessary. For instance, one can also use a simpler architecture such as inputs -> codings -> outputs. In this case, we can think of the codings as a projection of the input space onto a smaller dimensional subspace. \n",
    "\n",
    "In fact, if we don't use any nonlinear activations, training will result in the model trying to create codings (projections) that maximize the distance between the projected training instances, essentially performing PCA."
   ]
  },
  {
   "cell_type": "code",
   "execution_count": 4,
   "metadata": {
    "ExecuteTime": {
     "end_time": "2018-08-28T23:55:45.817114Z",
     "start_time": "2018-08-28T23:55:45.811129Z"
    }
   },
   "outputs": [],
   "source": [
    "from keras import backend as K\n",
    "from keras.models import Model, Sequential\n",
    "from keras.layers.core import Activation, Dense, Flatten, Reshape\n",
    "from keras.layers import Dropout, LeakyReLU\n",
    "from keras.layers.normalization import BatchNormalization\n",
    "\n",
    "# For saving images if you use a custom training algorithm\n",
    "save_path = \"images/auto/mnist/k_auto0_\"\n",
    "save_path0 = \"images/auto/mnist/zero/k_auto0_\"\n",
    "\n",
    "# For saving/restoring model\n",
    "encoder_file = 'models/auto/mnist/k_auto0-enc'\n",
    "decoder_file = 'models/auto/mnist/k_auto0-dec'\n",
    "model_file = 'models/auto/mnist/k_auto0-model'"
   ]
  },
  {
   "cell_type": "code",
   "execution_count": 5,
   "metadata": {
    "ExecuteTime": {
     "end_time": "2018-08-28T23:55:45.884934Z",
     "start_time": "2018-08-28T23:55:45.819112Z"
    }
   },
   "outputs": [
    {
     "name": "stdout",
     "output_type": "stream",
     "text": [
      "_________________________________________________________________\n",
      "Layer (type)                 Output Shape              Param #   \n",
      "=================================================================\n",
      "input (Flatten)              (None, 784)               0         \n",
      "_________________________________________________________________\n",
      "hidden_1 (Dense)             (None, 250)               196250    \n",
      "_________________________________________________________________\n",
      "codings (Dense)              (None, 40)                10040     \n",
      "=================================================================\n",
      "Total params: 206,290\n",
      "Trainable params: 206,290\n",
      "Non-trainable params: 0\n",
      "_________________________________________________________________\n"
     ]
    }
   ],
   "source": [
    "# Build the encoder part of the model\n",
    "#\n",
    "n_inputs = height * width * channels\n",
    "n_codings = 40\n",
    "\n",
    "encoder = Sequential(name=\"encoder\")\n",
    "\n",
    "encoder.add(Flatten(input_shape=(height, width, channels, ), name=\"input\"))\n",
    "\n",
    "encoder.add(Dense(units=250, activation='relu', name='hidden_1'))\n",
    "\n",
    "# Codings layer - I choose the codings to be between 0 and 1, but you don't have to\n",
    "encoder.add(Dense(units=n_codings, activation='sigmoid', name='codings'))\n",
    "\n",
    "encoder.summary()"
   ]
  },
  {
   "cell_type": "code",
   "execution_count": 6,
   "metadata": {
    "ExecuteTime": {
     "end_time": "2018-08-28T23:55:45.922858Z",
     "start_time": "2018-08-28T23:55:45.887924Z"
    }
   },
   "outputs": [
    {
     "name": "stdout",
     "output_type": "stream",
     "text": [
      "_________________________________________________________________\n",
      "Layer (type)                 Output Shape              Param #   \n",
      "=================================================================\n",
      "hidden_3 (Dense)             (None, 320)               13120     \n",
      "_________________________________________________________________\n",
      "output_flat (Dense)          (None, 784)               251664    \n",
      "_________________________________________________________________\n",
      "output (Reshape)             (None, 28, 28, 1)         0         \n",
      "=================================================================\n",
      "Total params: 264,784\n",
      "Trainable params: 264,784\n",
      "Non-trainable params: 0\n",
      "_________________________________________________________________\n"
     ]
    }
   ],
   "source": [
    "# Build the decoder part of the model\n",
    "#\n",
    "n_outputs = n_inputs\n",
    "\n",
    "decoder = Sequential(name=\"decoder\")\n",
    "\n",
    "decoder.add(Dense(units=320, activation='relu', input_shape=(n_codings,), name='hidden_3'))\n",
    "decoder.add(Dense(units=n_outputs, activation='sigmoid', name='output_flat'))\n",
    "decoder.add(Reshape(target_shape=(height,width,channels), name='output'))\n",
    "\n",
    "decoder.summary()"
   ]
  },
  {
   "cell_type": "code",
   "execution_count": 7,
   "metadata": {
    "ExecuteTime": {
     "end_time": "2018-08-28T23:55:45.956767Z",
     "start_time": "2018-08-28T23:55:45.925823Z"
    }
   },
   "outputs": [
    {
     "name": "stdout",
     "output_type": "stream",
     "text": [
      "_________________________________________________________________\n",
      "Layer (type)                 Output Shape              Param #   \n",
      "=================================================================\n",
      "encoder (Sequential)         (None, 40)                206290    \n",
      "_________________________________________________________________\n",
      "decoder (Sequential)         (None, 28, 28, 1)         264784    \n",
      "=================================================================\n",
      "Total params: 471,074\n",
      "Trainable params: 471,074\n",
      "Non-trainable params: 0\n",
      "_________________________________________________________________\n"
     ]
    }
   ],
   "source": [
    "# Stack the two together\n",
    "#\n",
    "# NOTE: this could have all been done in a single sequential model, but I chose\n",
    "# this approach to be able to feed random values into the decoder and see what happens\n",
    "#\n",
    "model = Sequential()\n",
    "model.add(encoder)\n",
    "model.add(decoder)\n",
    "model.summary()"
   ]
  },
  {
   "cell_type": "markdown",
   "metadata": {},
   "source": [
    "### Optimizer"
   ]
  },
  {
   "cell_type": "code",
   "execution_count": 8,
   "metadata": {
    "ExecuteTime": {
     "end_time": "2018-08-28T23:55:46.054478Z",
     "start_time": "2018-08-28T23:55:45.957764Z"
    }
   },
   "outputs": [],
   "source": [
    "from keras.optimizers import SGD, RMSprop, Adam, Adagrad, Adadelta\n",
    "\n",
    "#optimizer = SGD()\n",
    "#optimizer = SGD(lr=0.003, momentum=0.7, nesterov=True)\n",
    "optimizer = Adam()\n",
    "#optimizer = Adam(lr=0.001)\n",
    "#optimizer = RMSprop()\n",
    "#optimizer = RMSprop(lr=0.001)\n",
    "#optimizer = Adagrad()\n",
    "#optimizer = Adagrad(lr=0.001)\n",
    "#optimizer = Adadelta(lr=0.15)\n",
    "\n",
    "\n",
    "encoder.compile(loss='binary_crossentropy', optimizer=\"adam\")\n",
    "decoder.compile(loss='binary_crossentropy', optimizer=\"adam\")\n",
    "model.compile(loss='mean_squared_error', optimizer=optimizer)"
   ]
  },
  {
   "cell_type": "markdown",
   "metadata": {},
   "source": [
    "### Train"
   ]
  },
  {
   "cell_type": "code",
   "execution_count": 9,
   "metadata": {
    "ExecuteTime": {
     "end_time": "2018-08-28T23:56:27.552205Z",
     "start_time": "2018-08-28T23:55:46.056474Z"
    },
    "scrolled": true
   },
   "outputs": [
    {
     "name": "stdout",
     "output_type": "stream",
     "text": [
      "Train on 51000 samples, validate on 9000 samples\n",
      "Epoch 1/30\n",
      "51000/51000 [==============================] - 2s 40us/step - loss: 0.0732 - val_loss: 0.0589\n",
      "Epoch 2/30\n",
      "51000/51000 [==============================] - 1s 26us/step - loss: 0.0524 - val_loss: 0.0459\n",
      "Epoch 3/30\n",
      "51000/51000 [==============================] - 1s 25us/step - loss: 0.0429 - val_loss: 0.0400\n",
      "Epoch 4/30\n",
      "51000/51000 [==============================] - 1s 25us/step - loss: 0.0390 - val_loss: 0.0371\n",
      "Epoch 5/30\n",
      "51000/51000 [==============================] - 1s 27us/step - loss: 0.0359 - val_loss: 0.0336\n",
      "Epoch 6/30\n",
      "51000/51000 [==============================] - 1s 26us/step - loss: 0.0319 - val_loss: 0.0299\n",
      "Epoch 7/30\n",
      "51000/51000 [==============================] - 1s 26us/step - loss: 0.0286 - val_loss: 0.0272\n",
      "Epoch 8/30\n",
      "51000/51000 [==============================] - 1s 25us/step - loss: 0.0263 - val_loss: 0.0252\n",
      "Epoch 9/30\n",
      "51000/51000 [==============================] - 1s 25us/step - loss: 0.0250 - val_loss: 0.0243\n",
      "Epoch 10/30\n",
      "51000/51000 [==============================] - 1s 26us/step - loss: 0.0241 - val_loss: 0.0235\n",
      "Epoch 11/30\n",
      "51000/51000 [==============================] - 1s 28us/step - loss: 0.0229 - val_loss: 0.0220\n",
      "Epoch 12/30\n",
      "51000/51000 [==============================] - 1s 25us/step - loss: 0.0216 - val_loss: 0.0209\n",
      "Epoch 13/30\n",
      "51000/51000 [==============================] - 1s 26us/step - loss: 0.0203 - val_loss: 0.0195\n",
      "Epoch 14/30\n",
      "51000/51000 [==============================] - 1s 27us/step - loss: 0.0190 - val_loss: 0.0184\n",
      "Epoch 15/30\n",
      "51000/51000 [==============================] - 1s 26us/step - loss: 0.0180 - val_loss: 0.0174\n",
      "Epoch 16/30\n",
      "51000/51000 [==============================] - 1s 27us/step - loss: 0.0169 - val_loss: 0.0163\n",
      "Epoch 17/30\n",
      "51000/51000 [==============================] - 1s 26us/step - loss: 0.0160 - val_loss: 0.0156\n",
      "Epoch 18/30\n",
      "51000/51000 [==============================] - 1s 25us/step - loss: 0.0151 - val_loss: 0.0145\n",
      "Epoch 19/30\n",
      "51000/51000 [==============================] - 1s 26us/step - loss: 0.0143 - val_loss: 0.0140\n",
      "Epoch 20/30\n",
      "51000/51000 [==============================] - 1s 26us/step - loss: 0.0137 - val_loss: 0.0134\n",
      "Epoch 21/30\n",
      "51000/51000 [==============================] - 1s 26us/step - loss: 0.0133 - val_loss: 0.0131\n",
      "Epoch 22/30\n",
      "51000/51000 [==============================] - 1s 27us/step - loss: 0.0128 - val_loss: 0.0126\n",
      "Epoch 23/30\n",
      "51000/51000 [==============================] - 1s 26us/step - loss: 0.0123 - val_loss: 0.0120\n",
      "Epoch 24/30\n",
      "51000/51000 [==============================] - 1s 26us/step - loss: 0.0118 - val_loss: 0.0116\n",
      "Epoch 25/30\n",
      "51000/51000 [==============================] - 1s 25us/step - loss: 0.0113 - val_loss: 0.0113\n",
      "Epoch 26/30\n",
      "51000/51000 [==============================] - 1s 25us/step - loss: 0.0109 - val_loss: 0.0108\n",
      "Epoch 27/30\n",
      "51000/51000 [==============================] - 1s 25us/step - loss: 0.0105 - val_loss: 0.0104\n",
      "Epoch 28/30\n",
      "51000/51000 [==============================] - 1s 26us/step - loss: 0.0102 - val_loss: 0.0101\n",
      "Epoch 29/30\n",
      "51000/51000 [==============================] - 2s 30us/step - loss: 0.0099 - val_loss: 0.0099\n",
      "Epoch 30/30\n",
      "51000/51000 [==============================] - 1s 28us/step - loss: 0.0096 - val_loss: 0.0095\n",
      "10000/10000 [==============================] - 1s 50us/step\n",
      "Test score: 0.009263922782987356\n"
     ]
    }
   ],
   "source": [
    "epochs = 30\n",
    "batch_size = 250\n",
    "val_split=0.15 # how much TRAIN is reserved for VALIDATION\n",
    "\n",
    "history = model.fit(\n",
    "    X_train, X_train, batch_size=batch_size, epochs=epochs, verbose=1, validation_split=val_split\n",
    ")\n",
    "\n",
    "score = model.evaluate(X_test, X_test, verbose=1)\n",
    "print(\"Test score:\", score)"
   ]
  },
  {
   "cell_type": "code",
   "execution_count": 10,
   "metadata": {
    "ExecuteTime": {
     "end_time": "2018-08-28T23:56:28.076529Z",
     "start_time": "2018-08-28T23:56:27.554200Z"
    }
   },
   "outputs": [],
   "source": [
    "# Save the encoder, decoder, and stacked models\n",
    "#\n",
    "encoder.save(encoder_file + '.h5')\n",
    "decoder.save(decoder_file + '.h5')\n",
    "model.save(model_file + '.h5')"
   ]
  },
  {
   "cell_type": "markdown",
   "metadata": {},
   "source": [
    "### Reconstruction Output"
   ]
  },
  {
   "cell_type": "markdown",
   "metadata": {},
   "source": [
    "Let's take a look at how well the reconstructions look:"
   ]
  },
  {
   "cell_type": "code",
   "execution_count": 11,
   "metadata": {
    "ExecuteTime": {
     "end_time": "2018-08-28T23:56:29.374567Z",
     "start_time": "2018-08-28T23:56:28.078379Z"
    },
    "scrolled": false
   },
   "outputs": [
    {
     "data": {
      "image/png": "[encoded data removed]",
      "text/plain": [
       "<Figure size 864x180 with 20 Axes>"
      ]
     },
     "metadata": {},
     "output_type": "display_data"
    }
   ],
   "source": [
    "from keras.models import load_model\n",
    "\n",
    "n_digits = 10\n",
    "n_codings = 40\n",
    "\n",
    "model_file = 'models/auto/mnist/k_auto0-model'\n",
    "model = load_model(model_file + '.h5')\n",
    "\n",
    "images_in, _ = random_batch(X_test, y_test, batch_size=n_digits)\n",
    "images_out = model.predict(images_in)\n",
    "\n",
    "fig = plt.figure(figsize=(12, 2.5))\n",
    "for digit_index in range(n_digits):\n",
    "    plt.subplot(2, n_digits, digit_index + 1)\n",
    "    plot_image(images_in[digit_index].reshape(28,28))\n",
    "    \n",
    "    plt.subplot(2, n_digits, n_digits + digit_index + 1)\n",
    "    plot_image(images_out[digit_index].reshape(28,28))\n",
    "plt.show()"
   ]
  },
  {
   "cell_type": "markdown",
   "metadata": {},
   "source": [
    "The reconstructions look slightly blurry, but overall very good! We might be able to get away with encodings of smaller dimension."
   ]
  },
  {
   "cell_type": "markdown",
   "metadata": {},
   "source": [
    "### Random Encodings\n",
    "\n",
    "One thing to try is to feed a randomly generated encoding vector into the decoder. Let's see what we get if we use the model `k_auto0`:"
   ]
  },
  {
   "cell_type": "code",
   "execution_count": 12,
   "metadata": {
    "ExecuteTime": {
     "end_time": "2018-08-28T23:56:29.987928Z",
     "start_time": "2018-08-28T23:56:29.376562Z"
    }
   },
   "outputs": [
    {
     "data": {
      "image/png": "[encoded data removed]",
      "text/plain": [
       "<Figure size 864x144 with 10 Axes>"
      ]
     },
     "metadata": {},
     "output_type": "display_data"
    }
   ],
   "source": [
    "from keras.models import load_model\n",
    "\n",
    "n_digits = 10\n",
    "n_codings = 40\n",
    "decoder_file = 'models/auto/mnist/k_auto0-dec'\n",
    "decoder = load_model(decoder_file + '.h5')\n",
    "\n",
    "#codings_in = noise = np.random.uniform(0, 1, n_digits * n_codings).reshape((n_digits, n_codings))\n",
    "codings_in = noise = np.random.normal(0, 1, n_digits * n_codings).reshape((n_digits, n_codings))\n",
    "images_out = decoder.predict(codings_in)\n",
    "\n",
    "fig = plt.figure(figsize=(12, 2))\n",
    "for digit_index in range(n_digits):\n",
    "    plt.subplot(1, n_digits, digit_index + 1)\n",
    "    plot_image(images_out[digit_index].reshape(28,28))\n",
    "plt.show()"
   ]
  },
  {
   "cell_type": "markdown",
   "metadata": {},
   "source": [
    "### Encoding Distributions\n",
    "\n",
    "Decoding a randomly generated encoding vector does NOT result in very clear images that look like those in the MNIST dataset. They have some resemblance, but it's vague.\n",
    "\n",
    "Let's have a look at what actual encodings look like, to see how we can remedy the problem. First we use the encoder model `k_auto0` to encode the entire training set."
   ]
  },
  {
   "cell_type": "code",
   "execution_count": 13,
   "metadata": {
    "ExecuteTime": {
     "end_time": "2018-08-28T23:56:32.305727Z",
     "start_time": "2018-08-28T23:56:29.989921Z"
    },
    "scrolled": true
   },
   "outputs": [
    {
     "name": "stdout",
     "output_type": "stream",
     "text": [
      "60000/60000 [==============================] - 2s 35us/step\n",
      "(60000, 40)\n"
     ]
    }
   ],
   "source": [
    "from keras.models import load_model\n",
    "\n",
    "encoder_file = 'models/auto/mnist/k_auto0-enc'\n",
    "encoder = load_model(encoder_file + '.h5')\n",
    "encoder.compile(loss='binary_crossentropy', optimizer=\"adam\")\n",
    "\n",
    "X_encoded = encoder.predict(X_train, verbose=True)\n",
    "print(X_encoded.shape)"
   ]
  },
  {
   "cell_type": "markdown",
   "metadata": {},
   "source": [
    "Let's plot a few of the encoded vectors' coodinates:"
   ]
  },
  {
   "cell_type": "code",
   "execution_count": 14,
   "metadata": {
    "ExecuteTime": {
     "end_time": "2018-08-28T23:56:33.254216Z",
     "start_time": "2018-08-28T23:56:32.307722Z"
    }
   },
   "outputs": [
    {
     "data": {
      "image/png": "[encoded data removed]",
      "text/plain": [
       "<Figure size 864x288 with 12 Axes>"
      ]
     },
     "metadata": {},
     "output_type": "display_data"
    }
   ],
   "source": [
    "showAll = False\n",
    "\n",
    "coord_indeces = np.array([\n",
    "    [  0,  1,  2,  3,  6, 14],\n",
    "    [ 19, 21, 23, 24, 25, 31]\n",
    "])\n",
    "\n",
    "if showAll:\n",
    "    n_cols = 8\n",
    "    n_rows = X_encoded.shape[1] // n_cols\n",
    "else:\n",
    "    n_cols = coord_indeces.shape[1]\n",
    "    n_rows = coord_indeces.shape[0]\n",
    "\n",
    "plt.figure(figsize=(12, int(12.0/n_cols * n_rows)))\n",
    "for row in range(n_rows):\n",
    "    for col in range(n_cols):\n",
    "        i = row * n_cols + col\n",
    "        plt.subplot(n_rows, n_cols, i + 1)\n",
    "        if showAll:\n",
    "            plt.title(\"Coord \" + str(i))\n",
    "            plt.hist(X_encoded[:, i], bins=20, density=True)\n",
    "        else:\n",
    "            plt.title(\"Coord \" + str(coord_indeces[row, col]))\n",
    "            plt.hist(X_encoded[:, coord_indeces[row, col]], bins=20, density=True)\n",
    "plt.tight_layout()\n",
    "plt.show()"
   ]
  },
  {
   "cell_type": "markdown",
   "metadata": {},
   "source": [
    "The distributions of the coordinates are all different. No wonder feeding in a random encoding vector with coordinates sampled from a gaussian distribution didn't generate anything legible!\n",
    "\n",
    "*Variational autoencoders* solve this problem."
   ]
  },
  {
   "cell_type": "markdown",
   "metadata": {},
   "source": [
    "## Conv Model `k_auto_conv0`\n",
    "\n",
    "Instead of using dense layers, it is common to use convolutional layers when working with images:\n",
    "\n",
    "<img src=\"./images/autoencoder_convolutional.png\" style=\"width:50%\">"
   ]
  },
  {
   "cell_type": "code",
   "execution_count": 15,
   "metadata": {
    "ExecuteTime": {
     "end_time": "2018-08-28T23:56:33.261171Z",
     "start_time": "2018-08-28T23:56:33.256184Z"
    }
   },
   "outputs": [],
   "source": [
    "from keras import backend as K\n",
    "from keras.models import Model, Sequential\n",
    "from keras.layers.core import Activation, Dense, Flatten, Reshape\n",
    "from keras.layers import Dropout, LeakyReLU\n",
    "from keras.layers.normalization import BatchNormalization\n",
    "from keras.layers.convolutional import Conv2D, Conv2DTranspose, UpSampling2D\n",
    "from keras.layers.convolutional import MaxPooling2D, AveragePooling2D\n",
    "\n",
    "# For saving images if you use a custom training algorithm\n",
    "save_path = \"images/auto/mnist/k_auto_conv0_\"\n",
    "save_path0 = \"images/auto/mnist/zero/k_auto_conv0_\"\n",
    "\n",
    "# For saving/restoring model\n",
    "encoder_file = 'models/auto/mnist/k_auto_conv0-enc'\n",
    "decoder_file = 'models/auto/mnist/k_auto_conv0-dec'\n",
    "model_file = 'models/auto/mnist/k_auto_conv0-model'"
   ]
  },
  {
   "cell_type": "code",
   "execution_count": 16,
   "metadata": {
    "ExecuteTime": {
     "end_time": "2018-08-28T23:56:33.325030Z",
     "start_time": "2018-08-28T23:56:33.263166Z"
    },
    "scrolled": false
   },
   "outputs": [
    {
     "name": "stdout",
     "output_type": "stream",
     "text": [
      "_________________________________________________________________\n",
      "Layer (type)                 Output Shape              Param #   \n",
      "=================================================================\n",
      "conv2d_1 (Conv2D)            (None, 28, 28, 6)         156       \n",
      "_________________________________________________________________\n",
      "activation_1 (Activation)    (None, 28, 28, 6)         0         \n",
      "_________________________________________________________________\n",
      "layer_1 (MaxPooling2D)       (None, 14, 14, 6)         0         \n",
      "_________________________________________________________________\n",
      "conv2d_2 (Conv2D)            (None, 14, 14, 12)        1812      \n",
      "_________________________________________________________________\n",
      "activation_2 (Activation)    (None, 14, 14, 12)        0         \n",
      "_________________________________________________________________\n",
      "maxpool_2 (MaxPooling2D)     (None, 7, 7, 12)          0         \n",
      "_________________________________________________________________\n",
      "codings (Flatten)            (None, 588)               0         \n",
      "=================================================================\n",
      "Total params: 1,968\n",
      "Trainable params: 1,968\n",
      "Non-trainable params: 0\n",
      "_________________________________________________________________\n"
     ]
    }
   ],
   "source": [
    "# Build the encoder part of the model\n",
    "#\n",
    "n_inputs = height * width * channels\n",
    "\n",
    "encoder = Sequential(name=\"encoder\")\n",
    "\n",
    "encoder.add(Conv2D(filters=6, kernel_size=5, strides=1, padding='same', \n",
    "                   input_shape=(height,width,channels)))\n",
    "encoder.add(Activation('relu'))\n",
    "encoder.add(MaxPooling2D(pool_size=(2, 2), name=\"layer_1\"))\n",
    "\n",
    "encoder.add(Conv2D(filters=12, kernel_size=5, strides=1, padding='same'))\n",
    "encoder.add(Activation('sigmoid'))\n",
    "encoder.add(MaxPooling2D(pool_size=(2, 2), name=\"maxpool_2\"))\n",
    "\n",
    "encoder.add(Flatten(name=\"codings\"))\n",
    "\n",
    "encoder.summary()"
   ]
  },
  {
   "cell_type": "code",
   "execution_count": 17,
   "metadata": {
    "ExecuteTime": {
     "end_time": "2018-08-28T23:56:33.330983Z",
     "start_time": "2018-08-28T23:56:33.326995Z"
    }
   },
   "outputs": [
    {
     "name": "stdout",
     "output_type": "stream",
     "text": [
      "(7, 7, 12)\n"
     ]
    }
   ],
   "source": [
    "print(encoder.layers[-2].output_shape[1:])"
   ]
  },
  {
   "cell_type": "code",
   "execution_count": 18,
   "metadata": {
    "ExecuteTime": {
     "end_time": "2018-08-28T23:56:33.410770Z",
     "start_time": "2018-08-28T23:56:33.332979Z"
    }
   },
   "outputs": [
    {
     "name": "stdout",
     "output_type": "stream",
     "text": [
      "_________________________________________________________________\n",
      "Layer (type)                 Output Shape              Param #   \n",
      "=================================================================\n",
      "codings_in (Reshape)         (None, 7, 7, 12)          0         \n",
      "_________________________________________________________________\n",
      "up_sampling2d_1 (UpSampling2 (None, 14, 14, 12)        0         \n",
      "_________________________________________________________________\n",
      "conv2d_3 (Conv2D)            (None, 14, 14, 8)         3464      \n",
      "_________________________________________________________________\n",
      "activation_3 (Activation)    (None, 14, 14, 8)         0         \n",
      "_________________________________________________________________\n",
      "up_sampling2d_2 (UpSampling2 (None, 28, 28, 8)         0         \n",
      "_________________________________________________________________\n",
      "conv2d_4 (Conv2D)            (None, 28, 28, 4)         2596      \n",
      "_________________________________________________________________\n",
      "activation_4 (Activation)    (None, 28, 28, 4)         0         \n",
      "_________________________________________________________________\n",
      "conv2d_5 (Conv2D)            (None, 28, 28, 1)         101       \n",
      "_________________________________________________________________\n",
      "activation_5 (Activation)    (None, 28, 28, 1)         0         \n",
      "=================================================================\n",
      "Total params: 6,161\n",
      "Trainable params: 6,161\n",
      "Non-trainable params: 0\n",
      "_________________________________________________________________\n"
     ]
    }
   ],
   "source": [
    "# Build the decoder part of the model\n",
    "#\n",
    "n_outputs = n_inputs\n",
    "n_codings = encoder.layers[-1].output_shape[1]\n",
    "reshape = encoder.layers[-2].output_shape[1:]\n",
    "\n",
    "decoder = Sequential(name=\"decoder\")\n",
    "\n",
    "decoder.add(Reshape(input_shape=(n_codings, ), target_shape=reshape, name='codings_in'))\n",
    "\n",
    "decoder.add(UpSampling2D(size=(2,2)))\n",
    "decoder.add(Conv2D(filters=8, kernel_size=6, strides=1, padding='same'))\n",
    "decoder.add(Activation('relu'))\n",
    "\n",
    "decoder.add(UpSampling2D(size=(2,2)))\n",
    "decoder.add(Conv2D(filters=4, kernel_size=9, strides=1, padding='same'))\n",
    "decoder.add(Activation('relu'))\n",
    "\n",
    "decoder.add(Conv2D(filters=1, kernel_size=5, strides=1, padding='same'))\n",
    "decoder.add(Activation('sigmoid'))\n",
    "\n",
    "decoder.summary()"
   ]
  },
  {
   "cell_type": "code",
   "execution_count": 19,
   "metadata": {
    "ExecuteTime": {
     "end_time": "2018-08-28T23:56:33.462632Z",
     "start_time": "2018-08-28T23:56:33.411767Z"
    }
   },
   "outputs": [
    {
     "name": "stdout",
     "output_type": "stream",
     "text": [
      "_________________________________________________________________\n",
      "Layer (type)                 Output Shape              Param #   \n",
      "=================================================================\n",
      "encoder (Sequential)         (None, 588)               1968      \n",
      "_________________________________________________________________\n",
      "decoder (Sequential)         (None, 28, 28, 1)         6161      \n",
      "=================================================================\n",
      "Total params: 8,129\n",
      "Trainable params: 8,129\n",
      "Non-trainable params: 0\n",
      "_________________________________________________________________\n"
     ]
    }
   ],
   "source": [
    "# Stack the two together\n",
    "#\n",
    "# NOTE: this could have all been done in a single sequential model, but I chose\n",
    "# this approach to be able to feed random values into the decoder and see what happens\n",
    "#\n",
    "model = Sequential()\n",
    "model.add(encoder)\n",
    "model.add(decoder)\n",
    "model.summary()"
   ]
  },
  {
   "cell_type": "markdown",
   "metadata": {},
   "source": [
    "### Optimizer"
   ]
  },
  {
   "cell_type": "code",
   "execution_count": 20,
   "metadata": {
    "ExecuteTime": {
     "end_time": "2018-08-28T23:56:33.547454Z",
     "start_time": "2018-08-28T23:56:33.464626Z"
    }
   },
   "outputs": [],
   "source": [
    "from keras.optimizers import SGD, RMSprop, Adam, Adagrad, Adadelta\n",
    "\n",
    "optimizer = SGD()\n",
    "#optimizer = SGD(lr=0.003, momentum=0.7, nesterov=True)\n",
    "#optimizer = Adam()\n",
    "#optimizer = Adam(lr=0.001)\n",
    "#optimizer = RMSprop()\n",
    "#optimizer = RMSprop(lr=0.001)\n",
    "#optimizer = Adagrad()\n",
    "#optimizer = Adagrad(lr=0.001)\n",
    "#optimizer = Adadelta(lr=0.15)\n",
    "\n",
    "\n",
    "encoder.compile(loss='binary_crossentropy', optimizer=\"adam\")\n",
    "decoder.compile(loss='binary_crossentropy', optimizer=\"adam\")\n",
    "model.compile(loss='mean_squared_error', optimizer=optimizer)"
   ]
  },
  {
   "cell_type": "markdown",
   "metadata": {},
   "source": [
    "### Train"
   ]
  },
  {
   "cell_type": "code",
   "execution_count": 21,
   "metadata": {
    "ExecuteTime": {
     "end_time": "2018-08-28T23:57:45.457263Z",
     "start_time": "2018-08-28T23:56:33.548401Z"
    },
    "scrolled": true
   },
   "outputs": [
    {
     "name": "stdout",
     "output_type": "stream",
     "text": [
      "Train on 54000 samples, validate on 6000 samples\n",
      "Epoch 1/10\n",
      "54000/54000 [==============================] - 9s 176us/step - loss: 0.1240 - val_loss: 0.1071\n",
      "Epoch 2/10\n",
      "54000/54000 [==============================] - 7s 127us/step - loss: 0.0927 - val_loss: 0.0784\n",
      "Epoch 3/10\n",
      "54000/54000 [==============================] - 7s 126us/step - loss: 0.0730 - val_loss: 0.0699\n",
      "Epoch 4/10\n",
      "54000/54000 [==============================] - 7s 126us/step - loss: 0.0651 - val_loss: 0.0620\n",
      "Epoch 5/10\n",
      "54000/54000 [==============================] - 7s 126us/step - loss: 0.0598 - val_loss: 0.0577\n",
      "Epoch 6/10\n",
      "54000/54000 [==============================] - 7s 125us/step - loss: 0.0552 - val_loss: 0.0537\n",
      "Epoch 7/10\n",
      "54000/54000 [==============================] - 7s 126us/step - loss: 0.0513 - val_loss: 0.0500\n",
      "Epoch 8/10\n",
      "54000/54000 [==============================] - 7s 126us/step - loss: 0.0475 - val_loss: 0.0461\n",
      "Epoch 9/10\n",
      "54000/54000 [==============================] - 7s 126us/step - loss: 0.0441 - val_loss: 0.0428\n",
      "Epoch 10/10\n",
      "54000/54000 [==============================] - 7s 126us/step - loss: 0.0408 - val_loss: 0.0397\n",
      "10000/10000 [==============================] - 1s 87us/step\n",
      "Test score: 0.03910159668326378\n"
     ]
    }
   ],
   "source": [
    "epochs = 10\n",
    "batch_size = 200\n",
    "val_split=0.10 # how much TRAIN is reserved for VALIDATION\n",
    "\n",
    "history = model.fit(\n",
    "    X_train, X_train, batch_size=batch_size, epochs=epochs, verbose=1, validation_split=val_split\n",
    ")\n",
    "\n",
    "score = model.evaluate(X_test, X_test, verbose=1)\n",
    "print(\"Test score:\", score)"
   ]
  },
  {
   "cell_type": "code",
   "execution_count": 22,
   "metadata": {
    "ExecuteTime": {
     "end_time": "2018-08-28T23:57:46.164239Z",
     "start_time": "2018-08-28T23:57:45.458978Z"
    }
   },
   "outputs": [],
   "source": [
    "# Save the encoder, decoder, and stacked models\n",
    "#\n",
    "encoder.save(encoder_file + '.h5')\n",
    "decoder.save(decoder_file + '.h5')\n",
    "model.save(model_file + '.h5')"
   ]
  },
  {
   "cell_type": "markdown",
   "metadata": {},
   "source": [
    "### Reconstruction Output"
   ]
  },
  {
   "cell_type": "markdown",
   "metadata": {},
   "source": [
    "Let's take a look at how well the reconstructions look:"
   ]
  },
  {
   "cell_type": "code",
   "execution_count": 23,
   "metadata": {
    "ExecuteTime": {
     "end_time": "2018-08-28T23:57:46.773494Z",
     "start_time": "2018-08-28T23:57:46.166093Z"
    },
    "scrolled": false
   },
   "outputs": [
    {
     "data": {
      "image/png": "[encoded data removed]",
      "text/plain": [
       "<Figure size 864x180 with 20 Axes>"
      ]
     },
     "metadata": {},
     "output_type": "display_data"
    }
   ],
   "source": [
    "from keras.models import load_model\n",
    "\n",
    "n_digits = 10\n",
    "n_codings = 588 #from the encoder number\n",
    "\n",
    "#model_file = 'models/auto/mnist/k_auto_conv0-model'\n",
    "#model = load_model(model_file + '.h5')\n",
    "\n",
    "images_in, _ = random_batch(X_test, y_test, batch_size=n_digits)\n",
    "images_out = model.predict(images_in)\n",
    "\n",
    "fig = plt.figure(figsize=(12, 2.5))\n",
    "for digit_index in range(n_digits):\n",
    "    plt.subplot(2, n_digits, digit_index + 1)\n",
    "    plot_image(images_in[digit_index].reshape(28,28))\n",
    "    \n",
    "    plt.subplot(2, n_digits, n_digits + digit_index + 1)\n",
    "    plot_image(images_out[digit_index].reshape(28,28))\n",
    "plt.show()"
   ]
  },
  {
   "cell_type": "markdown",
   "metadata": {},
   "source": [
    "As an exercise, try to improve this model. Some things you can try:\n",
    "* add more feature maps\n",
    "* add a dense layer before/after the codings (similar to the Dense model)"
   ]
  },
  {
   "cell_type": "markdown",
   "metadata": {},
   "source": [
    "## Dense Model `k_auto1`\n",
    "\n",
    "What happens if we don't apply the sigmoid activation to the model?"
   ]
  },
  {
   "cell_type": "code",
   "execution_count": 24,
   "metadata": {
    "ExecuteTime": {
     "end_time": "2018-08-28T23:57:46.780450Z",
     "start_time": "2018-08-28T23:57:46.775463Z"
    }
   },
   "outputs": [],
   "source": [
    "from keras import backend as K\n",
    "from keras.models import Model, Sequential\n",
    "from keras.layers.core import Activation, Dense, Flatten, Reshape\n",
    "from keras.layers import Dropout, LeakyReLU\n",
    "from keras.layers.normalization import BatchNormalization\n",
    "\n",
    "# For saving images if you use a custom training algorithm\n",
    "save_path = \"images/auto/mnist/k_auto1_\"\n",
    "save_path0 = \"images/auto/mnist/zero/k_auto1_\"\n",
    "\n",
    "# For saving/restoring model\n",
    "encoder_file = 'models/auto/mnist/k_auto1-enc'\n",
    "decoder_file = 'models/auto/mnist/k_auto1-dec'\n",
    "model_file = 'models/auto/mnist/k_auto1-model'"
   ]
  },
  {
   "cell_type": "code",
   "execution_count": 25,
   "metadata": {
    "ExecuteTime": {
     "end_time": "2018-08-28T23:57:46.833312Z",
     "start_time": "2018-08-28T23:57:46.782444Z"
    }
   },
   "outputs": [
    {
     "name": "stdout",
     "output_type": "stream",
     "text": [
      "_________________________________________________________________\n",
      "Layer (type)                 Output Shape              Param #   \n",
      "=================================================================\n",
      "input (Flatten)              (None, 784)               0         \n",
      "_________________________________________________________________\n",
      "hidden_1 (Dense)             (None, 250)               196250    \n",
      "_________________________________________________________________\n",
      "codings (Dense)              (None, 40)                10040     \n",
      "=================================================================\n",
      "Total params: 206,290\n",
      "Trainable params: 206,290\n",
      "Non-trainable params: 0\n",
      "_________________________________________________________________\n"
     ]
    }
   ],
   "source": [
    "# Build the encoder part of the model\n",
    "#\n",
    "n_inputs = height * width * channels\n",
    "n_codings = 40\n",
    "\n",
    "encoder = Sequential(name=\"encoder\")\n",
    "\n",
    "encoder.add(Flatten(input_shape=(height, width, channels, ), name=\"input\"))\n",
    "\n",
    "encoder.add(Dense(units=250, activation='relu', name='hidden_1'))\n",
    "\n",
    "# Codings layer - no activation\n",
    "encoder.add(Dense(units=n_codings, name='codings'))\n",
    "\n",
    "encoder.summary()"
   ]
  },
  {
   "cell_type": "code",
   "execution_count": 26,
   "metadata": {
    "ExecuteTime": {
     "end_time": "2018-08-28T23:57:46.872204Z",
     "start_time": "2018-08-28T23:57:46.835302Z"
    }
   },
   "outputs": [
    {
     "name": "stdout",
     "output_type": "stream",
     "text": [
      "_________________________________________________________________\n",
      "Layer (type)                 Output Shape              Param #   \n",
      "=================================================================\n",
      "hidden_3 (Dense)             (None, 320)               13120     \n",
      "_________________________________________________________________\n",
      "output_flat (Dense)          (None, 784)               251664    \n",
      "_________________________________________________________________\n",
      "output (Reshape)             (None, 28, 28, 1)         0         \n",
      "=================================================================\n",
      "Total params: 264,784\n",
      "Trainable params: 264,784\n",
      "Non-trainable params: 0\n",
      "_________________________________________________________________\n"
     ]
    }
   ],
   "source": [
    "# Build the decoder part of the model\n",
    "#\n",
    "n_outputs = n_inputs\n",
    "\n",
    "decoder = Sequential(name=\"decoder\")\n",
    "\n",
    "decoder.add(Dense(units=320, activation='relu', input_shape=(n_codings,), name='hidden_3'))\n",
    "decoder.add(Dense(units=n_outputs, activation='sigmoid', name='output_flat'))\n",
    "decoder.add(Reshape(target_shape=(height,width,channels), name='output'))\n",
    "\n",
    "decoder.summary()"
   ]
  },
  {
   "cell_type": "code",
   "execution_count": 27,
   "metadata": {
    "ExecuteTime": {
     "end_time": "2018-08-28T23:57:46.906140Z",
     "start_time": "2018-08-28T23:57:46.874199Z"
    }
   },
   "outputs": [
    {
     "name": "stdout",
     "output_type": "stream",
     "text": [
      "_________________________________________________________________\n",
      "Layer (type)                 Output Shape              Param #   \n",
      "=================================================================\n",
      "encoder (Sequential)         (None, 40)                206290    \n",
      "_________________________________________________________________\n",
      "decoder (Sequential)         (None, 28, 28, 1)         264784    \n",
      "=================================================================\n",
      "Total params: 471,074\n",
      "Trainable params: 471,074\n",
      "Non-trainable params: 0\n",
      "_________________________________________________________________\n"
     ]
    }
   ],
   "source": [
    "# Stack the two together\n",
    "#\n",
    "# NOTE: this could have all been done in a single sequential model, but I chose\n",
    "# this approach to be able to feed random values into the decoder and see what happens\n",
    "#\n",
    "model = Sequential()\n",
    "model.add(encoder)\n",
    "model.add(decoder)\n",
    "model.summary()"
   ]
  },
  {
   "cell_type": "markdown",
   "metadata": {},
   "source": [
    "### Optimizer"
   ]
  },
  {
   "cell_type": "code",
   "execution_count": 28,
   "metadata": {
    "ExecuteTime": {
     "end_time": "2018-08-28T23:57:47.002854Z",
     "start_time": "2018-08-28T23:57:46.907110Z"
    }
   },
   "outputs": [],
   "source": [
    "from keras.optimizers import SGD, RMSprop, Adam, Adagrad, Adadelta\n",
    "\n",
    "#optimizer = SGD()\n",
    "#optimizer = SGD(lr=0.003, momentum=0.7, nesterov=True)\n",
    "optimizer = Adam()\n",
    "#optimizer = Adam(lr=0.001)\n",
    "#optimizer = RMSprop()\n",
    "#optimizer = RMSprop(lr=0.001)\n",
    "#optimizer = Adagrad()\n",
    "#optimizer = Adagrad(lr=0.001)\n",
    "#optimizer = Adadelta(lr=0.15)\n",
    "\n",
    "\n",
    "encoder.compile(loss='binary_crossentropy', optimizer=\"adam\")\n",
    "decoder.compile(loss='binary_crossentropy', optimizer=\"adam\")\n",
    "model.compile(loss='mean_squared_error', optimizer=optimizer)"
   ]
  },
  {
   "cell_type": "markdown",
   "metadata": {},
   "source": [
    "### Train"
   ]
  },
  {
   "cell_type": "code",
   "execution_count": 29,
   "metadata": {
    "ExecuteTime": {
     "end_time": "2018-08-28T23:58:28.217158Z",
     "start_time": "2018-08-28T23:57:47.004855Z"
    },
    "scrolled": true
   },
   "outputs": [
    {
     "name": "stdout",
     "output_type": "stream",
     "text": [
      "Train on 51000 samples, validate on 9000 samples\n",
      "Epoch 1/30\n",
      "51000/51000 [==============================] - 2s 34us/step - loss: 0.0531 - val_loss: 0.0278\n",
      "Epoch 2/30\n",
      "51000/51000 [==============================] - 1s 26us/step - loss: 0.0217 - val_loss: 0.0173\n",
      "Epoch 3/30\n",
      "51000/51000 [==============================] - 1s 26us/step - loss: 0.0150 - val_loss: 0.0130\n",
      "Epoch 4/30\n",
      "51000/51000 [==============================] - 1s 25us/step - loss: 0.0117 - val_loss: 0.0108\n",
      "Epoch 5/30\n",
      "51000/51000 [==============================] - 1s 25us/step - loss: 0.0101 - val_loss: 0.0096\n",
      "Epoch 6/30\n",
      "51000/51000 [==============================] - 1s 27us/step - loss: 0.0091 - val_loss: 0.0088\n",
      "Epoch 7/30\n",
      "51000/51000 [==============================] - 1s 26us/step - loss: 0.0085 - val_loss: 0.0083\n",
      "Epoch 8/30\n",
      "51000/51000 [==============================] - 1s 26us/step - loss: 0.0079 - val_loss: 0.0077\n",
      "Epoch 9/30\n",
      "51000/51000 [==============================] - 1s 27us/step - loss: 0.0074 - val_loss: 0.0073\n",
      "Epoch 10/30\n",
      "51000/51000 [==============================] - 1s 26us/step - loss: 0.0070 - val_loss: 0.0071\n",
      "Epoch 11/30\n",
      "51000/51000 [==============================] - 1s 26us/step - loss: 0.0068 - val_loss: 0.0068\n",
      "Epoch 12/30\n",
      "51000/51000 [==============================] - 1s 26us/step - loss: 0.0066 - val_loss: 0.0066\n",
      "Epoch 13/30\n",
      "51000/51000 [==============================] - 1s 25us/step - loss: 0.0064 - val_loss: 0.0065\n",
      "Epoch 14/30\n",
      "51000/51000 [==============================] - 1s 27us/step - loss: 0.0062 - val_loss: 0.0062\n",
      "Epoch 15/30\n",
      "51000/51000 [==============================] - 1s 26us/step - loss: 0.0060 - val_loss: 0.0061\n",
      "Epoch 16/30\n",
      "51000/51000 [==============================] - 1s 26us/step - loss: 0.0058 - val_loss: 0.0059\n",
      "Epoch 17/30\n",
      "51000/51000 [==============================] - 1s 26us/step - loss: 0.0057 - val_loss: 0.0058\n",
      "Epoch 18/30\n",
      "51000/51000 [==============================] - 1s 26us/step - loss: 0.0055 - val_loss: 0.0057\n",
      "Epoch 19/30\n",
      "51000/51000 [==============================] - 1s 26us/step - loss: 0.0054 - val_loss: 0.0056\n",
      "Epoch 20/30\n",
      "51000/51000 [==============================] - 1s 26us/step - loss: 0.0053 - val_loss: 0.0055\n",
      "Epoch 21/30\n",
      "51000/51000 [==============================] - 1s 26us/step - loss: 0.0052 - val_loss: 0.0054\n",
      "Epoch 22/30\n",
      "51000/51000 [==============================] - 1s 26us/step - loss: 0.0051 - val_loss: 0.0053\n",
      "Epoch 23/30\n",
      "51000/51000 [==============================] - 1s 27us/step - loss: 0.0050 - val_loss: 0.0052\n",
      "Epoch 24/30\n",
      "51000/51000 [==============================] - 1s 26us/step - loss: 0.0050 - val_loss: 0.0051\n",
      "Epoch 25/30\n",
      "51000/51000 [==============================] - 1s 26us/step - loss: 0.0049 - val_loss: 0.0050\n",
      "Epoch 26/30\n",
      "51000/51000 [==============================] - 1s 27us/step - loss: 0.0048 - val_loss: 0.0050\n",
      "Epoch 27/30\n",
      "51000/51000 [==============================] - 1s 27us/step - loss: 0.0047 - val_loss: 0.0050\n",
      "Epoch 28/30\n",
      "51000/51000 [==============================] - 1s 25us/step - loss: 0.0047 - val_loss: 0.0049\n",
      "Epoch 29/30\n",
      "51000/51000 [==============================] - 1s 25us/step - loss: 0.0046 - val_loss: 0.0049\n",
      "Epoch 30/30\n",
      "51000/51000 [==============================] - 1s 26us/step - loss: 0.0046 - val_loss: 0.0048\n",
      "10000/10000 [==============================] - 1s 59us/step\n",
      "Test score: 0.004625607887655496\n"
     ]
    }
   ],
   "source": [
    "epochs = 30\n",
    "batch_size = 250\n",
    "val_split=0.15 # how much TRAIN is reserved for VALIDATION\n",
    "\n",
    "history = model.fit(\n",
    "    X_train, X_train, batch_size=batch_size, epochs=epochs, verbose=1, validation_split=val_split\n",
    ")\n",
    "\n",
    "score = model.evaluate(X_test, X_test, verbose=1)\n",
    "print(\"Test score:\", score)"
   ]
  },
  {
   "cell_type": "code",
   "execution_count": 30,
   "metadata": {
    "ExecuteTime": {
     "end_time": "2018-08-28T23:58:28.601012Z",
     "start_time": "2018-08-28T23:58:28.218156Z"
    }
   },
   "outputs": [],
   "source": [
    "# Save the encoder, decoder, and stacked models\n",
    "#\n",
    "encoder.save(encoder_file + '.h5')\n",
    "decoder.save(decoder_file + '.h5')\n",
    "model.save(model_file + '.h5')"
   ]
  },
  {
   "cell_type": "markdown",
   "metadata": {},
   "source": [
    "### Reconstruction Output"
   ]
  },
  {
   "cell_type": "markdown",
   "metadata": {},
   "source": [
    "Let's take a look at how well the reconstructions look:"
   ]
  },
  {
   "cell_type": "code",
   "execution_count": 31,
   "metadata": {
    "ExecuteTime": {
     "end_time": "2018-08-28T23:58:30.189332Z",
     "start_time": "2018-08-28T23:58:28.602032Z"
    },
    "scrolled": false
   },
   "outputs": [
    {
     "data": {
      "image/png": "[encoded data removed]",
      "text/plain": [
       "<Figure size 864x180 with 20 Axes>"
      ]
     },
     "metadata": {},
     "output_type": "display_data"
    }
   ],
   "source": [
    "from keras.models import load_model\n",
    "\n",
    "n_digits = 10\n",
    "n_codings = 40\n",
    "\n",
    "model_file = 'models/auto/mnist/k_auto1-model'\n",
    "model = load_model(model_file + '.h5')\n",
    "\n",
    "images_in, _ = random_batch(X_test, y_test, batch_size=n_digits)\n",
    "images_out = model.predict(images_in)\n",
    "\n",
    "fig = plt.figure(figsize=(12, 2.5))\n",
    "for digit_index in range(n_digits):\n",
    "    plt.subplot(2, n_digits, digit_index + 1)\n",
    "    plot_image(images_in[digit_index].reshape(28,28))\n",
    "    \n",
    "    plt.subplot(2, n_digits, n_digits + digit_index + 1)\n",
    "    plot_image(images_out[digit_index].reshape(28,28))\n",
    "plt.show()"
   ]
  },
  {
   "cell_type": "markdown",
   "metadata": {},
   "source": [
    "### Random Encodings"
   ]
  },
  {
   "cell_type": "code",
   "execution_count": 32,
   "metadata": {
    "ExecuteTime": {
     "end_time": "2018-08-28T23:58:31.007918Z",
     "start_time": "2018-08-28T23:58:30.192296Z"
    }
   },
   "outputs": [
    {
     "data": {
      "image/png": "[encoded data removed]",
      "text/plain": [
       "<Figure size 864x144 with 10 Axes>"
      ]
     },
     "metadata": {},
     "output_type": "display_data"
    }
   ],
   "source": [
    "from keras.models import load_model\n",
    "\n",
    "n_digits = 10\n",
    "n_codings = 40\n",
    "decoder_file = 'models/auto/mnist/k_auto1-dec'\n",
    "decoder = load_model(decoder_file + '.h5')\n",
    "\n",
    "#codings_in = noise = np.random.uniform(-3, 3, n_digits * n_codings).reshape((n_digits, n_codings))\n",
    "codings_in = noise = np.random.normal(0, 1, n_digits * n_codings).reshape((n_digits, n_codings))\n",
    "images_out = decoder.predict(codings_in)\n",
    "\n",
    "fig = plt.figure(figsize=(12, 2))\n",
    "for digit_index in range(n_digits):\n",
    "    plt.subplot(1, n_digits, digit_index + 1)\n",
    "    plot_image(images_out[digit_index].reshape(28,28))\n",
    "plt.show()"
   ]
  },
  {
   "cell_type": "markdown",
   "metadata": {},
   "source": [
    "### Encoding Distributions"
   ]
  },
  {
   "cell_type": "code",
   "execution_count": 33,
   "metadata": {
    "ExecuteTime": {
     "end_time": "2018-08-28T23:58:33.848317Z",
     "start_time": "2018-08-28T23:58:31.009910Z"
    },
    "scrolled": true
   },
   "outputs": [
    {
     "name": "stdout",
     "output_type": "stream",
     "text": [
      "60000/60000 [==============================] - 3s 42us/step\n",
      "(60000, 40)\n"
     ]
    }
   ],
   "source": [
    "from keras.models import load_model\n",
    "\n",
    "encoder_file = 'models/auto/mnist/k_auto1-enc'\n",
    "encoder = load_model(encoder_file + '.h5')\n",
    "encoder.compile(loss='binary_crossentropy', optimizer=\"adam\")\n",
    "\n",
    "X_encoded = encoder.predict(X_train, verbose=True)\n",
    "print(X_encoded.shape)"
   ]
  },
  {
   "cell_type": "code",
   "execution_count": 34,
   "metadata": {
    "ExecuteTime": {
     "end_time": "2018-08-28T23:58:34.757883Z",
     "start_time": "2018-08-28T23:58:33.851310Z"
    }
   },
   "outputs": [
    {
     "data": {
      "image/png": "[encoded data removed]",
      "text/plain": [
       "<Figure size 864x288 with 12 Axes>"
      ]
     },
     "metadata": {},
     "output_type": "display_data"
    }
   ],
   "source": [
    "showAll = False\n",
    "\n",
    "coord_indeces = np.array([\n",
    "    [  0,  1,  2,  3,  6, 14],\n",
    "    [ 19, 21, 23, 24, 25, 31]\n",
    "])\n",
    "\n",
    "if showAll:\n",
    "    n_cols = 8\n",
    "    n_rows = X_encoded.shape[1] // n_cols\n",
    "else:\n",
    "    n_cols = coord_indeces.shape[1]\n",
    "    n_rows = coord_indeces.shape[0]\n",
    "\n",
    "plt.figure(figsize=(12, int(12.0/n_cols * n_rows)))\n",
    "for row in range(n_rows):\n",
    "    for col in range(n_cols):\n",
    "        i = row * n_cols + col\n",
    "        plt.subplot(n_rows, n_cols, i + 1)\n",
    "        if showAll:\n",
    "            plt.title(\"Coord \" + str(i))\n",
    "            plt.hist(X_encoded[:, i], bins=20, density=True)\n",
    "        else:\n",
    "            plt.title(\"Coord \" + str(coord_indeces[row, col]))\n",
    "            plt.hist(X_encoded[:, coord_indeces[row, col]], bins=20, density=True)\n",
    "plt.tight_layout()\n",
    "plt.show()"
   ]
  },
  {
   "cell_type": "markdown",
   "metadata": {},
   "source": [
    "# Variational Autoencoders"
   ]
  },
  {
   "cell_type": "code",
   "execution_count": null,
   "metadata": {},
   "outputs": [],
   "source": []
  },
  {
   "cell_type": "markdown",
   "metadata": {},
   "source": [
    "## Data Import (MNIST)"
   ]
  },
  {
   "cell_type": "code",
   "execution_count": 35,
   "metadata": {
    "ExecuteTime": {
     "end_time": "2018-08-28T23:58:35.315392Z",
     "start_time": "2018-08-28T23:58:34.759879Z"
    }
   },
   "outputs": [
    {
     "name": "stdout",
     "output_type": "stream",
     "text": [
      "(60000, 28, 28) (60000,)\n",
      "(60000, 28, 28, 1) (10000, 28, 28, 1)\n"
     ]
    }
   ],
   "source": [
    "from keras.datasets import mnist\n",
    "from keras.utils import np_utils, plot_model\n",
    "\n",
    "\n",
    "(X_train, y_train), (X_test, y_test) = mnist.load_data()\n",
    "print(X_train.shape, y_train.shape)\n",
    "\n",
    "height = X_train.shape[1]\n",
    "width = X_train.shape[2]\n",
    "channels = 1\n",
    "\n",
    "X_train = X_train.astype(np.float32) / 255.0 #ensure pixel values are between 0 and 1\n",
    "X_train = X_train.reshape((X_train.shape[0], height, width, channels))\n",
    "X_test = X_test.astype(np.float32) / 255.0 #ensure pixel values are between 0 and 1\n",
    "X_test = X_test.reshape((X_test.shape[0], height, width, channels))\n",
    "\n",
    "# Run this if you don't use the whole training set\n",
    "if False:\n",
    "    m = 10000\n",
    "    random_indeces = np.random.randint(0, X_train.shape[0], np.min(m, X_train.shape[0]))\n",
    "    X_train = X_train[random_indeces]\n",
    "\n",
    "print(X_train.shape, X_test.shape)"
   ]
  },
  {
   "cell_type": "markdown",
   "metadata": {},
   "source": [
    "## Model `k_auto_var0`"
   ]
  },
  {
   "cell_type": "code",
   "execution_count": 36,
   "metadata": {
    "ExecuteTime": {
     "end_time": "2018-08-28T23:58:35.324373Z",
     "start_time": "2018-08-28T23:58:35.317388Z"
    }
   },
   "outputs": [],
   "source": [
    "from keras import backend as K\n",
    "from keras.models import Model, Sequential\n",
    "from keras.engine.input_layer import Input\n",
    "from keras.layers.core import Activation, Dense, Flatten, Reshape, Lambda\n",
    "from keras.layers import Dropout, LeakyReLU\n",
    "from keras.layers.normalization import BatchNormalization\n",
    "from keras.layers.convolutional import Conv2D, Conv2DTranspose, UpSampling2D\n",
    "from keras.layers.convolutional import MaxPooling2D, AveragePooling2D\n",
    "\n",
    "# For saving images if you use a custom training algorithm\n",
    "save_path = \"images/auto/mnist/k_auto_var0_\"\n",
    "save_path0 = \"images/auto/mnist/zero/k_auto_var0_\"\n",
    "\n",
    "# For saving/restoring model\n",
    "encoder_file = 'models/auto/mnist/k_auto_var0-enc'\n",
    "decoder_file = 'models/auto/mnist/k_auto_var0-dec'\n",
    "model_file = 'models/auto/mnist/k_auto_var0-model'"
   ]
  },
  {
   "cell_type": "code",
   "execution_count": 37,
   "metadata": {
    "ExecuteTime": {
     "end_time": "2018-08-28T23:58:35.390193Z",
     "start_time": "2018-08-28T23:58:35.326363Z"
    },
    "scrolled": false
   },
   "outputs": [
    {
     "name": "stdout",
     "output_type": "stream",
     "text": [
      "__________________________________________________________________________________________________\n",
      "Layer (type)                    Output Shape         Param #     Connected to                     \n",
      "==================================================================================================\n",
      "inputs (InputLayer)             (None, 28, 28, 1)    0                                            \n",
      "__________________________________________________________________________________________________\n",
      "inputs_flat (Flatten)           (None, 784)          0           inputs[0][0]                     \n",
      "__________________________________________________________________________________________________\n",
      "hidden_1 (Dense)                (None, 250)          196250      inputs_flat[0][0]                \n",
      "__________________________________________________________________________________________________\n",
      "param_0 (Dense)                 (None, 24)           6024        hidden_1[0][0]                   \n",
      "__________________________________________________________________________________________________\n",
      "param_1 (Dense)                 (None, 24)           6024        hidden_1[0][0]                   \n",
      "__________________________________________________________________________________________________\n",
      "codings (Lambda)                (None, 24)           0           param_0[0][0]                    \n",
      "                                                                 param_1[0][0]                    \n",
      "==================================================================================================\n",
      "Total params: 208,298\n",
      "Trainable params: 208,298\n",
      "Non-trainable params: 0\n",
      "__________________________________________________________________________________________________\n"
     ]
    }
   ],
   "source": [
    "def sampling(args):\n",
    "    param_0, param_1 = args\n",
    "    batch_size = K.shape(param_0)[0]\n",
    "    dim = K.int_shape(param_0)[1]\n",
    "    \n",
    "    #unif_01 = K.random_uniform(shape=(batch_size, dim))\n",
    "    normal_01 = K.random_normal(shape=(batch_size, dim))\n",
    "    \n",
    "    return param_0 + param_1 * normal_01\n",
    "    #return param_0 + K.exp(0.5 * param_1) * normal_01\n",
    "\n",
    "\n",
    "# Build the encoder part of the model\n",
    "#\n",
    "n_inputs = height * width * channels\n",
    "n_codings = 24\n",
    "\n",
    "inputs = Input(shape=(height, width, channels,), name='inputs')\n",
    "inputs_flat = Flatten(name=\"inputs_flat\")(inputs)\n",
    "hidden1 = Dense(units=250, activation='relu', name='hidden_1')(inputs_flat)\n",
    "\n",
    "param_0 = Dense(n_codings, name='param_0')(hidden1)\n",
    "param_1 = Dense(n_codings, name='param_1')(hidden1)\n",
    "#param_2 = Dense(n_codings, name='param_2')(hidden1) #to play around with\n",
    "\n",
    "# We feed the param_0 and param_1 into the Lambda layer, whose function is to \n",
    "# tranform a random uniform(0,1) variable by applying the parameters\n",
    "codings = Lambda(sampling, output_shape=(n_codings,), name='codings')([param_0, param_1])\n",
    "\n",
    "encoder = Model(inputs, [codings, param_0, param_1], name='encoder')\n",
    "encoder.summary()"
   ]
  },
  {
   "cell_type": "code",
   "execution_count": 38,
   "metadata": {
    "ExecuteTime": {
     "end_time": "2018-08-28T23:58:35.431082Z",
     "start_time": "2018-08-28T23:58:35.392187Z"
    }
   },
   "outputs": [
    {
     "name": "stdout",
     "output_type": "stream",
     "text": [
      "_________________________________________________________________\n",
      "Layer (type)                 Output Shape              Param #   \n",
      "=================================================================\n",
      "latent_inputs (InputLayer)   (None, 24)                0         \n",
      "_________________________________________________________________\n",
      "hidden_2 (Dense)             (None, 320)               8000      \n",
      "_________________________________________________________________\n",
      "output_flat (Dense)          (None, 784)               251664    \n",
      "_________________________________________________________________\n",
      "output (Reshape)             (None, 28, 28, 1)         0         \n",
      "=================================================================\n",
      "Total params: 259,664\n",
      "Trainable params: 259,664\n",
      "Non-trainable params: 0\n",
      "_________________________________________________________________\n"
     ]
    }
   ],
   "source": [
    "# Build the decoder part of the model\n",
    "#\n",
    "n_codings = encoder.layers[-1].output_shape[1]\n",
    "n_outputs = n_inputs\n",
    "\n",
    "latent_inputs = Input(shape=(n_codings,), name='latent_inputs')\n",
    "hidden2 = Dense(320, activation='relu', name=\"hidden_2\")(latent_inputs)\n",
    "output_flat = Dense(units=n_outputs, activation='sigmoid', name='output_flat')(hidden2)\n",
    "output = Reshape(target_shape=(height,width,channels,), name='output')(output_flat)\n",
    "\n",
    "decoder = Model(latent_inputs, output, name='decoder')\n",
    "decoder.summary()"
   ]
  },
  {
   "cell_type": "code",
   "execution_count": 39,
   "metadata": {
    "ExecuteTime": {
     "end_time": "2018-08-28T23:58:35.474965Z",
     "start_time": "2018-08-28T23:58:35.432080Z"
    },
    "scrolled": true
   },
   "outputs": [
    {
     "name": "stdout",
     "output_type": "stream",
     "text": [
      "_________________________________________________________________\n",
      "Layer (type)                 Output Shape              Param #   \n",
      "=================================================================\n",
      "inputs (InputLayer)          (None, 28, 28, 1)         0         \n",
      "_________________________________________________________________\n",
      "encoder (Model)              [(None, 24), (None, 24),  208298    \n",
      "_________________________________________________________________\n",
      "decoder (Model)              (None, 28, 28, 1)         259664    \n",
      "=================================================================\n",
      "Total params: 467,962\n",
      "Trainable params: 467,962\n",
      "Non-trainable params: 0\n",
      "_________________________________________________________________\n"
     ]
    }
   ],
   "source": [
    "# Stack the two together\n",
    "#\n",
    "outputs = decoder(  encoder(inputs)[0]  )\n",
    "model = Model(inputs, outputs, name='vae')\n",
    "model.summary()"
   ]
  },
  {
   "cell_type": "markdown",
   "metadata": {},
   "source": [
    "### Loss and Optimizer"
   ]
  },
  {
   "cell_type": "code",
   "execution_count": 40,
   "metadata": {
    "ExecuteTime": {
     "end_time": "2018-08-28T23:58:35.518849Z",
     "start_time": "2018-08-28T23:58:35.475963Z"
    }
   },
   "outputs": [
    {
     "name": "stdout",
     "output_type": "stream",
     "text": [
      "inputs/outputs shapes: (?, 28, 28, 1) (?, 28, 28, 1)\n",
      "rec_loss: (?,)\n",
      "dist_loss: (?,)\n",
      "loss: ()\n",
      "_________________________________________________________________\n",
      "Layer (type)                 Output Shape              Param #   \n",
      "=================================================================\n",
      "inputs (InputLayer)          (None, 28, 28, 1)         0         \n",
      "_________________________________________________________________\n",
      "encoder (Model)              [(None, 24), (None, 24),  208298    \n",
      "_________________________________________________________________\n",
      "decoder (Model)              (None, 28, 28, 1)         259664    \n",
      "=================================================================\n",
      "Total params: 467,962\n",
      "Trainable params: 467,962\n",
      "Non-trainable params: 0\n",
      "_________________________________________________________________\n"
     ]
    }
   ],
   "source": [
    "from keras.optimizers import SGD, RMSprop, Adam, Adagrad, Adadelta\n",
    "from keras.losses import mse, binary_crossentropy\n",
    "\n",
    "# Calculate the reconstruction loss. We use MSE. Note that since inputs/outputs are of\n",
    "# shape (?, 28, 28, 1), we cannot simply call mse(inputs, outputs) as this would result\n",
    "# in the MSE being calculated only along the last axis=-1, instead of over the entire image\n",
    "#\n",
    "# Fix: we use the backend to write the MSE explicitly\n",
    "#\n",
    "print(\"inputs/outputs shapes:\", inputs.shape, outputs.shape)\n",
    "reconstruction_loss = K.sum(K.square(outputs - inputs), axis=[1, 2, 3])\n",
    "#reconstruction_loss = binary_crossentropy(inputs, outputs)\n",
    "#reconstruction_loss *= np.sqrt(n_inputs)\n",
    "#reconstruction_loss *= n_inputs\n",
    "print(\"rec_loss:\", reconstruction_loss.shape)\n",
    "\n",
    "\n",
    "# Calculate the distribution loss (KL-div for Gaussian has a closed form)\n",
    "#\n",
    "epsilon = 1e-10\n",
    "#dist_loss = 1 + param_1 - K.square(param_0) - K.exp(param_1)\n",
    "dist_loss = K.square(param_0) + K.square(param_1) - 1 - K.log( epsilon + K.square(param_1) )\n",
    "dist_loss = 0.5 * K.sum(dist_loss, axis=-1)\n",
    "print(\"dist_loss:\", dist_loss.shape)\n",
    "\n",
    "loss = K.mean(reconstruction_loss + dist_loss)\n",
    "#loss = K.mean(reconstruction_loss)\n",
    "#loss = K.mean(dist_loss)\n",
    "print(\"loss:\", loss.shape)\n",
    "\n",
    "#optimizer = SGD()\n",
    "#optimizer = SGD(lr=0.003, momentum=0.7, nesterov=True)\n",
    "optimizer = Adam()\n",
    "#optimizer = Adam(lr=0.001)\n",
    "#optimizer = RMSprop()\n",
    "#optimizer = RMSprop(lr=0.001)\n",
    "#optimizer = Adagrad()\n",
    "#optimizer = Adagrad(lr=0.001)\n",
    "#optimizer = Adadelta()\n",
    "#optimizer = Adadelta(lr=0.15)\n",
    "\n",
    "#encoder.compile(loss='binary_crossentropy', optimizer=\"adam\")\n",
    "#decoder.compile(loss='binary_crossentropy', optimizer=\"adam\")\n",
    "model.add_loss(loss)\n",
    "model.compile(optimizer=optimizer)\n",
    "model.summary()"
   ]
  },
  {
   "cell_type": "markdown",
   "metadata": {},
   "source": [
    "### Train"
   ]
  },
  {
   "cell_type": "code",
   "execution_count": 41,
   "metadata": {
    "ExecuteTime": {
     "end_time": "2018-08-29T00:00:01.886230Z",
     "start_time": "2018-08-28T23:58:35.520842Z"
    },
    "scrolled": true
   },
   "outputs": [
    {
     "name": "stdout",
     "output_type": "stream",
     "text": [
      "Epoch 1/50\n",
      "60000/60000 [==============================] - 2s 37us/step - loss: 56.4804\n",
      "Epoch 2/50\n",
      "60000/60000 [==============================] - 2s 28us/step - loss: 39.7520\n",
      "Epoch 3/50\n",
      "60000/60000 [==============================] - 2s 29us/step - loss: 37.8799\n",
      "Epoch 4/50\n",
      "60000/60000 [==============================] - 2s 29us/step - loss: 36.6169\n",
      "Epoch 5/50\n",
      "60000/60000 [==============================] - 2s 28us/step - loss: 34.9980\n",
      "Epoch 6/50\n",
      "60000/60000 [==============================] - 2s 29us/step - loss: 33.8751\n",
      "Epoch 7/50\n",
      "60000/60000 [==============================] - 2s 28us/step - loss: 33.0929\n",
      "Epoch 8/50\n",
      "60000/60000 [==============================] - 2s 29us/step - loss: 33.1189\n",
      "Epoch 9/50\n",
      "60000/60000 [==============================] - 2s 28us/step - loss: 32.2410\n",
      "Epoch 10/50\n",
      "60000/60000 [==============================] - 2s 29us/step - loss: 32.1722\n",
      "Epoch 11/50\n",
      "60000/60000 [==============================] - 2s 29us/step - loss: 31.6892\n",
      "Epoch 12/50\n",
      "60000/60000 [==============================] - 2s 30us/step - loss: 31.4406\n",
      "Epoch 13/50\n",
      "60000/60000 [==============================] - 2s 32us/step - loss: 31.2272\n",
      "Epoch 14/50\n",
      "60000/60000 [==============================] - 2s 31us/step - loss: 31.0675\n",
      "Epoch 15/50\n",
      "60000/60000 [==============================] - 2s 31us/step - loss: 30.9299\n",
      "Epoch 16/50\n",
      "60000/60000 [==============================] - 2s 29us/step - loss: 30.8045\n",
      "Epoch 17/50\n",
      "60000/60000 [==============================] - 2s 29us/step - loss: 30.6894\n",
      "Epoch 18/50\n",
      "60000/60000 [==============================] - 2s 30us/step - loss: 30.5976\n",
      "Epoch 19/50\n",
      "60000/60000 [==============================] - 2s 30us/step - loss: 30.4939\n",
      "Epoch 20/50\n",
      "60000/60000 [==============================] - 2s 30us/step - loss: 30.4015\n",
      "Epoch 21/50\n",
      "60000/60000 [==============================] - 2s 29us/step - loss: 30.3257\n",
      "Epoch 22/50\n",
      "60000/60000 [==============================] - 2s 30us/step - loss: 30.2481\n",
      "Epoch 23/50\n",
      "60000/60000 [==============================] - 2s 30us/step - loss: 30.1943\n",
      "Epoch 24/50\n",
      "60000/60000 [==============================] - 2s 29us/step - loss: 30.1225\n",
      "Epoch 25/50\n",
      "60000/60000 [==============================] - 2s 30us/step - loss: 30.0733\n",
      "Epoch 26/50\n",
      "60000/60000 [==============================] - 2s 28us/step - loss: 29.9927\n",
      "Epoch 27/50\n",
      "60000/60000 [==============================] - 2s 30us/step - loss: 29.9628\n",
      "Epoch 28/50\n",
      "60000/60000 [==============================] - 2s 27us/step - loss: 29.8957\n",
      "Epoch 29/50\n",
      "60000/60000 [==============================] - 2s 28us/step - loss: 29.8420\n",
      "Epoch 30/50\n",
      "60000/60000 [==============================] - 2s 27us/step - loss: 29.7915\n",
      "Epoch 31/50\n",
      "60000/60000 [==============================] - 2s 28us/step - loss: 29.7370\n",
      "Epoch 32/50\n",
      "60000/60000 [==============================] - 2s 28us/step - loss: 29.7031\n",
      "Epoch 33/50\n",
      "60000/60000 [==============================] - 2s 28us/step - loss: 29.6562\n",
      "Epoch 34/50\n",
      "60000/60000 [==============================] - 2s 28us/step - loss: 29.6029\n",
      "Epoch 35/50\n",
      "60000/60000 [==============================] - 2s 28us/step - loss: 29.5617\n",
      "Epoch 36/50\n",
      "60000/60000 [==============================] - 2s 26us/step - loss: 29.5218\n",
      "Epoch 37/50\n",
      "60000/60000 [==============================] - 2s 28us/step - loss: 29.4805\n",
      "Epoch 38/50\n",
      "60000/60000 [==============================] - 2s 28us/step - loss: 29.4537\n",
      "Epoch 39/50\n",
      "60000/60000 [==============================] - 2s 28us/step - loss: 29.4429\n",
      "Epoch 40/50\n",
      "60000/60000 [==============================] - 2s 26us/step - loss: 29.4038\n",
      "Epoch 41/50\n",
      "60000/60000 [==============================] - 2s 27us/step - loss: 29.3614\n",
      "Epoch 42/50\n",
      "60000/60000 [==============================] - 2s 27us/step - loss: 29.3483\n",
      "Epoch 43/50\n",
      "60000/60000 [==============================] - 2s 28us/step - loss: 29.3042\n",
      "Epoch 44/50\n",
      "60000/60000 [==============================] - 2s 28us/step - loss: 29.2880\n",
      "Epoch 45/50\n",
      "60000/60000 [==============================] - 2s 27us/step - loss: 29.2673\n",
      "Epoch 46/50\n",
      "60000/60000 [==============================] - 2s 26us/step - loss: 29.2373\n",
      "Epoch 47/50\n",
      "60000/60000 [==============================] - 2s 27us/step - loss: 29.2332\n",
      "Epoch 48/50\n",
      "60000/60000 [==============================] - 2s 26us/step - loss: 29.1852\n",
      "Epoch 49/50\n",
      "60000/60000 [==============================] - 2s 28us/step - loss: 29.1830\n",
      "Epoch 50/50\n",
      "60000/60000 [==============================] - 2s 30us/step - loss: 29.1700\n"
     ]
    }
   ],
   "source": [
    "epochs = 50\n",
    "batch_size = 200\n",
    "val_split=0.05 # how much TRAIN is reserved for VALIDATION\n",
    "\n",
    "history = model.fit(\n",
    "    X_train, batch_size=batch_size, epochs=epochs, verbose=1\n",
    ")"
   ]
  },
  {
   "cell_type": "code",
   "execution_count": 42,
   "metadata": {
    "ExecuteTime": {
     "end_time": "2018-08-29T00:00:02.246267Z",
     "start_time": "2018-08-29T00:00:01.887227Z"
    }
   },
   "outputs": [],
   "source": [
    "# Save the encoder, decoder, and stacked models\n",
    "#\n",
    "encoder.save(encoder_file + '.h5')\n",
    "decoder.save(decoder_file + '.h5')\n",
    "model.save(model_file + '.h5')"
   ]
  },
  {
   "cell_type": "markdown",
   "metadata": {},
   "source": [
    "### Reconstruction Output"
   ]
  },
  {
   "cell_type": "markdown",
   "metadata": {},
   "source": [
    "Let's take a look at how well the reconstructions look:"
   ]
  },
  {
   "cell_type": "code",
   "execution_count": 43,
   "metadata": {
    "ExecuteTime": {
     "end_time": "2018-08-29T00:00:02.913688Z",
     "start_time": "2018-08-29T00:00:02.250256Z"
    },
    "scrolled": true
   },
   "outputs": [
    {
     "data": {
      "image/png": "[encoded data removed]",
      "text/plain": [
       "<Figure size 864x180 with 20 Axes>"
      ]
     },
     "metadata": {},
     "output_type": "display_data"
    }
   ],
   "source": [
    "from keras.models import load_model\n",
    "\n",
    "n_digits = 10\n",
    "n_codings = 20 #from the encoder number\n",
    "\n",
    "#model_file = 'models/auto/mnist/k_auto_var0-model'\n",
    "#model = load_model(model_file + '.h5')\n",
    "\n",
    "images_in, _ = random_batch(X_test, y_test, batch_size=n_digits)\n",
    "images_out = model.predict(images_in)\n",
    "\n",
    "fig = plt.figure(figsize=(12, 2.5))\n",
    "for digit_index in range(n_digits):\n",
    "    plt.subplot(2, n_digits, digit_index + 1)\n",
    "    plot_image(images_in[digit_index].reshape(28,28))\n",
    "    \n",
    "    plt.subplot(2, n_digits, n_digits + digit_index + 1)\n",
    "    plot_image(images_out[digit_index].reshape(28,28))\n",
    "plt.show()"
   ]
  },
  {
   "cell_type": "markdown",
   "metadata": {},
   "source": [
    "### Encoding Distributions"
   ]
  },
  {
   "cell_type": "code",
   "execution_count": 44,
   "metadata": {
    "ExecuteTime": {
     "end_time": "2018-08-29T00:00:03.547989Z",
     "start_time": "2018-08-29T00:00:02.916680Z"
    }
   },
   "outputs": [
    {
     "name": "stdout",
     "output_type": "stream",
     "text": [
      "10000/10000 [==============================] - 1s 62us/step\n",
      "(10000, 24)\n"
     ]
    }
   ],
   "source": [
    "from keras.models import load_model\n",
    "\n",
    "#encoder_file = 'models/auto/mnist/k_auto_var0-enc'\n",
    "#encoder = load_model(encoder_file + '.h5')\n",
    "#encoder.compile(loss='binary_crossentropy', optimizer=\"adam\")\n",
    "\n",
    "# encoder_output contains 3 variables: [ codings, param_0, param_1 ]\n",
    "encoder_output = encoder.predict(X_test, verbose=True)\n",
    "print(encoder_output[0].shape)"
   ]
  },
  {
   "cell_type": "code",
   "execution_count": 45,
   "metadata": {
    "ExecuteTime": {
     "end_time": "2018-08-29T00:00:05.433944Z",
     "start_time": "2018-08-29T00:00:03.548986Z"
    }
   },
   "outputs": [
    {
     "data": {
      "image/png": "[encoded data removed]",
      "text/plain": [
       "<Figure size 864x576 with 24 Axes>"
      ]
     },
     "metadata": {},
     "output_type": "display_data"
    }
   ],
   "source": [
    "X_encoded = encoder_output[0]\n",
    "showAll = True\n",
    "\n",
    "coord_indeces = np.array([\n",
    "    [ 0, 1, 2, 3, 4],\n",
    "    [ 5, 6, 7, 8, 9]\n",
    "])\n",
    "\n",
    "if showAll:\n",
    "    n_cols = 6\n",
    "    n_rows = X_encoded.shape[1] // n_cols\n",
    "else:\n",
    "    n_cols = coord_indeces.shape[1]\n",
    "    n_rows = coord_indeces.shape[0]\n",
    "\n",
    "plt.figure(figsize=(12, int(12.0/n_cols * n_rows)))\n",
    "for row in range(n_rows):\n",
    "    for col in range(n_cols):\n",
    "        i = row * n_cols + col\n",
    "        plt.subplot(n_rows, n_cols, i + 1)\n",
    "        if showAll:\n",
    "            plt.title(\"Coord \" + str(i))\n",
    "            plt.hist(X_encoded[:, i], bins=20, density=True)\n",
    "        else:\n",
    "            plt.title(\"Coord \" + str(coord_indeces[row, col]))\n",
    "            plt.hist(X_encoded[:, coord_indeces[row, col]], bins=20, density=True)\n",
    "plt.tight_layout()\n",
    "plt.show()"
   ]
  },
  {
   "cell_type": "markdown",
   "metadata": {},
   "source": [
    "### Generative"
   ]
  },
  {
   "cell_type": "code",
   "execution_count": 46,
   "metadata": {
    "ExecuteTime": {
     "end_time": "2018-08-29T00:00:05.658046Z",
     "start_time": "2018-08-29T00:00:05.435939Z"
    },
    "scrolled": true
   },
   "outputs": [
    {
     "data": {
      "image/png": "[encoded data removed]",
      "text/plain": [
       "<Figure size 864x360 with 1 Axes>"
      ]
     },
     "metadata": {},
     "output_type": "display_data"
    }
   ],
   "source": [
    "from keras.models import load_model\n",
    "\n",
    "rows = 5\n",
    "cols = 12\n",
    "n_digits = rows * cols\n",
    "\n",
    "#decoder_file = 'models/auto/mnist/k_auto_var0-dec'\n",
    "#decoder = load_model(decoder_file + '.h5')\n",
    "#decoder.compile(loss='binary_crossentropy', optimizer=\"adam\")\n",
    "n_codings = decoder.layers[0].input_shape[1]\n",
    "\n",
    "#codings_in = noise = np.random.uniform(-2, 2, n_digits * n_codings).reshape((n_digits, n_codings))\n",
    "codings_in = noise = np.random.normal(0, 1.0, n_digits * n_codings).reshape((n_digits, n_codings))\n",
    "images_out = decoder.predict(codings_in)\n",
    "\n",
    "image = combine_images(images_out, rows, cols)\n",
    "\n",
    "fig = plt.figure(figsize=(cols, rows))\n",
    "plt.imshow(image, cmap=\"Greys\", interpolation='nearest')\n",
    "plt.axis(\"off\")\n",
    "plt.show()"
   ]
  },
  {
   "cell_type": "markdown",
   "metadata": {},
   "source": [
    "## Model `k_auto_var1`"
   ]
  },
  {
   "cell_type": "code",
   "execution_count": 47,
   "metadata": {
    "ExecuteTime": {
     "end_time": "2018-08-29T00:00:05.666761Z",
     "start_time": "2018-08-29T00:00:05.660778Z"
    }
   },
   "outputs": [],
   "source": [
    "from keras import backend as K\n",
    "from keras.models import Model, Sequential\n",
    "from keras.engine.input_layer import Input\n",
    "from keras.layers.core import Activation, Dense, Flatten, Reshape, Lambda\n",
    "from keras.layers import Dropout, LeakyReLU\n",
    "from keras.layers.normalization import BatchNormalization\n",
    "from keras.layers.convolutional import Conv2D, Conv2DTranspose, UpSampling2D\n",
    "from keras.layers.convolutional import MaxPooling2D, AveragePooling2D\n",
    "\n",
    "# For saving images if you use a custom training algorithm\n",
    "save_path = \"images/auto/mnist/k_auto_var1_\"\n",
    "save_path0 = \"images/auto/mnist/zero/k_auto_var1_\"\n",
    "\n",
    "# For saving/restoring model\n",
    "encoder_file = 'models/auto/mnist/k_auto_var1-enc'\n",
    "decoder_file = 'models/auto/mnist/k_auto_var1-dec'\n",
    "model_file = 'models/auto/mnist/k_auto_var1-model'"
   ]
  },
  {
   "cell_type": "code",
   "execution_count": 48,
   "metadata": {
    "ExecuteTime": {
     "end_time": "2018-08-29T00:00:05.740564Z",
     "start_time": "2018-08-29T00:00:05.667759Z"
    },
    "scrolled": false
   },
   "outputs": [
    {
     "name": "stdout",
     "output_type": "stream",
     "text": [
      "__________________________________________________________________________________________________\n",
      "Layer (type)                    Output Shape         Param #     Connected to                     \n",
      "==================================================================================================\n",
      "inputs (InputLayer)             (None, 28, 28, 1)    0                                            \n",
      "__________________________________________________________________________________________________\n",
      "inputs_flat (Flatten)           (None, 784)          0           inputs[0][0]                     \n",
      "__________________________________________________________________________________________________\n",
      "hidden_1 (Dense)                (None, 250)          196250      inputs_flat[0][0]                \n",
      "__________________________________________________________________________________________________\n",
      "param_0 (Dense)                 (None, 24)           6024        hidden_1[0][0]                   \n",
      "__________________________________________________________________________________________________\n",
      "param_1 (Dense)                 (None, 24)           6024        hidden_1[0][0]                   \n",
      "__________________________________________________________________________________________________\n",
      "codings (Lambda)                (None, 24)           0           param_0[0][0]                    \n",
      "                                                                 param_1[0][0]                    \n",
      "==================================================================================================\n",
      "Total params: 208,298\n",
      "Trainable params: 208,298\n",
      "Non-trainable params: 0\n",
      "__________________________________________________________________________________________________\n"
     ]
    }
   ],
   "source": [
    "def sampling(args):\n",
    "    param_0, param_1 = args\n",
    "    batch_size = K.shape(param_0)[0]\n",
    "    dim = K.int_shape(param_0)[1]\n",
    "    \n",
    "    #unif_01 = K.random_uniform(shape=(batch_size, dim))\n",
    "    normal_01 = K.random_normal(shape=(batch_size, dim))\n",
    "    \n",
    "    #return param_0 + param_1 * normal_01\n",
    "    return param_0 + K.exp(0.5 * param_1) * normal_01\n",
    "\n",
    "\n",
    "# Build the encoder part of the model\n",
    "#\n",
    "n_inputs = height * width * channels\n",
    "n_codings = 24\n",
    "\n",
    "inputs = Input(shape=(height, width, channels,), name='inputs')\n",
    "inputs_flat = Flatten(name=\"inputs_flat\")(inputs)\n",
    "hidden1 = Dense(units=250, activation='relu', name='hidden_1')(inputs_flat)\n",
    "\n",
    "param_0 = Dense(n_codings, name='param_0')(hidden1)\n",
    "param_1 = Dense(n_codings, name='param_1')(hidden1)\n",
    "#param_2 = Dense(n_codings, name='param_2')(hidden1) #to play around with\n",
    "\n",
    "# We feed the param_0 and param_1 into the Lambda layer, whose function is to \n",
    "# tranform a random uniform(0,1) variable by applying the parameters\n",
    "codings = Lambda(sampling, output_shape=(n_codings,), name='codings')([param_0, param_1])\n",
    "\n",
    "encoder = Model(inputs, [codings, param_0, param_1], name='encoder')\n",
    "encoder.summary()"
   ]
  },
  {
   "cell_type": "code",
   "execution_count": 49,
   "metadata": {
    "ExecuteTime": {
     "end_time": "2018-08-29T00:00:05.778464Z",
     "start_time": "2018-08-29T00:00:05.742560Z"
    }
   },
   "outputs": [
    {
     "name": "stdout",
     "output_type": "stream",
     "text": [
      "_________________________________________________________________\n",
      "Layer (type)                 Output Shape              Param #   \n",
      "=================================================================\n",
      "latent_inputs (InputLayer)   (None, 24)                0         \n",
      "_________________________________________________________________\n",
      "hidden_2 (Dense)             (None, 320)               8000      \n",
      "_________________________________________________________________\n",
      "output_flat (Dense)          (None, 784)               251664    \n",
      "_________________________________________________________________\n",
      "output (Reshape)             (None, 28, 28, 1)         0         \n",
      "=================================================================\n",
      "Total params: 259,664\n",
      "Trainable params: 259,664\n",
      "Non-trainable params: 0\n",
      "_________________________________________________________________\n"
     ]
    }
   ],
   "source": [
    "# Build the decoder part of the model\n",
    "#\n",
    "n_codings = encoder.layers[-1].output_shape[1]\n",
    "n_outputs = n_inputs\n",
    "\n",
    "latent_inputs = Input(shape=(n_codings,), name='latent_inputs')\n",
    "hidden2 = Dense(320, activation='relu', name=\"hidden_2\")(latent_inputs)\n",
    "output_flat = Dense(units=n_outputs, activation='sigmoid', name='output_flat')(hidden2)\n",
    "output = Reshape(target_shape=(height,width,channels,), name='output')(output_flat)\n",
    "\n",
    "decoder = Model(latent_inputs, output, name='decoder')\n",
    "decoder.summary()"
   ]
  },
  {
   "cell_type": "code",
   "execution_count": 50,
   "metadata": {
    "ExecuteTime": {
     "end_time": "2018-08-29T00:00:05.825338Z",
     "start_time": "2018-08-29T00:00:05.782453Z"
    },
    "scrolled": true
   },
   "outputs": [
    {
     "name": "stdout",
     "output_type": "stream",
     "text": [
      "_________________________________________________________________\n",
      "Layer (type)                 Output Shape              Param #   \n",
      "=================================================================\n",
      "inputs (InputLayer)          (None, 28, 28, 1)         0         \n",
      "_________________________________________________________________\n",
      "encoder (Model)              [(None, 24), (None, 24),  208298    \n",
      "_________________________________________________________________\n",
      "decoder (Model)              (None, 28, 28, 1)         259664    \n",
      "=================================================================\n",
      "Total params: 467,962\n",
      "Trainable params: 467,962\n",
      "Non-trainable params: 0\n",
      "_________________________________________________________________\n"
     ]
    }
   ],
   "source": [
    "# Stack the two together\n",
    "#\n",
    "outputs = decoder(  encoder(inputs)[0]  )\n",
    "model = Model(inputs, outputs, name='vae')\n",
    "model.summary()"
   ]
  },
  {
   "cell_type": "markdown",
   "metadata": {},
   "source": [
    "### Loss and Optimizer"
   ]
  },
  {
   "cell_type": "code",
   "execution_count": 51,
   "metadata": {
    "ExecuteTime": {
     "end_time": "2018-08-29T00:00:05.863237Z",
     "start_time": "2018-08-29T00:00:05.827333Z"
    }
   },
   "outputs": [
    {
     "name": "stdout",
     "output_type": "stream",
     "text": [
      "inputs/outputs shapes: (?, 28, 28, 1) (?, 28, 28, 1)\n",
      "rec_loss: (?,)\n",
      "dist_loss: (?,)\n",
      "loss: ()\n",
      "_________________________________________________________________\n",
      "Layer (type)                 Output Shape              Param #   \n",
      "=================================================================\n",
      "inputs (InputLayer)          (None, 28, 28, 1)         0         \n",
      "_________________________________________________________________\n",
      "encoder (Model)              [(None, 24), (None, 24),  208298    \n",
      "_________________________________________________________________\n",
      "decoder (Model)              (None, 28, 28, 1)         259664    \n",
      "=================================================================\n",
      "Total params: 467,962\n",
      "Trainable params: 467,962\n",
      "Non-trainable params: 0\n",
      "_________________________________________________________________\n"
     ]
    }
   ],
   "source": [
    "from keras.optimizers import SGD, RMSprop, Adam, Adagrad, Adadelta\n",
    "from keras.losses import mse, binary_crossentropy\n",
    "\n",
    "# Calculate the reconstruction loss. We use MSE. Note that since inputs/outputs are of\n",
    "# shape (?, 28, 28, 1), we cannot simply call mse(inputs, outputs) as this would result\n",
    "# in the MSE being calculated only along the last axis=-1, instead of over the entire image\n",
    "#\n",
    "# Fix: we use the backend to write the MSE explicitly\n",
    "#\n",
    "print(\"inputs/outputs shapes:\", inputs.shape, outputs.shape)\n",
    "reconstruction_loss = K.sum(K.square(outputs - inputs), axis=[1, 2, 3])\n",
    "#reconstruction_loss = binary_crossentropy(inputs, outputs)\n",
    "#reconstruction_loss *= np.sqrt(n_inputs)\n",
    "#reconstruction_loss *= n_inputs\n",
    "print(\"rec_loss:\", reconstruction_loss.shape)\n",
    "\n",
    "\n",
    "# Calculate the distribution loss (KL-div for Gaussian has a closed form)\n",
    "#\n",
    "epsilon = 1e-10\n",
    "dist_loss = K.square(param_0) + K.exp(param_1) - 1 - param_1\n",
    "#dist_loss = K.square(param_0) + K.square(param_1) - 1 - K.log( epsilon + K.square(param_1) )\n",
    "dist_loss = 0.5 * K.sum(dist_loss, axis=-1)\n",
    "print(\"dist_loss:\", dist_loss.shape)\n",
    "\n",
    "loss = K.mean(reconstruction_loss + dist_loss)\n",
    "#loss = K.mean(reconstruction_loss)\n",
    "#loss = K.mean(dist_loss)\n",
    "print(\"loss:\", loss.shape)\n",
    "\n",
    "#optimizer = SGD()\n",
    "#optimizer = SGD(lr=0.003, momentum=0.7, nesterov=True)\n",
    "optimizer = Adam()\n",
    "#optimizer = Adam(lr=0.001)\n",
    "#optimizer = RMSprop()\n",
    "#optimizer = RMSprop(lr=0.001)\n",
    "#optimizer = Adagrad()\n",
    "#optimizer = Adagrad(lr=0.001)\n",
    "#optimizer = Adadelta()\n",
    "#optimizer = Adadelta(lr=0.15)\n",
    "\n",
    "#encoder.compile(loss='binary_crossentropy', optimizer=\"adam\")\n",
    "#decoder.compile(loss='binary_crossentropy', optimizer=\"adam\")\n",
    "model.add_loss(loss)\n",
    "model.compile(optimizer=optimizer)\n",
    "model.summary()"
   ]
  },
  {
   "cell_type": "markdown",
   "metadata": {},
   "source": [
    "### Train"
   ]
  },
  {
   "cell_type": "code",
   "execution_count": 52,
   "metadata": {
    "ExecuteTime": {
     "end_time": "2018-08-29T00:01:52.845058Z",
     "start_time": "2018-08-29T00:00:05.865232Z"
    },
    "scrolled": true
   },
   "outputs": [
    {
     "name": "stdout",
     "output_type": "stream",
     "text": [
      "Epoch 1/50\n",
      "60000/60000 [==============================] - 3s 48us/step - loss: 49.9520\n",
      "Epoch 2/50\n",
      "60000/60000 [==============================] - 2s 37us/step - loss: 36.9905\n",
      "Epoch 3/50\n",
      "60000/60000 [==============================] - 2s 38us/step - loss: 34.6311\n",
      "Epoch 4/50\n",
      "60000/60000 [==============================] - 2s 37us/step - loss: 33.3850\n",
      "Epoch 5/50\n",
      "60000/60000 [==============================] - 2s 37us/step - loss: 32.6144\n",
      "Epoch 6/50\n",
      "60000/60000 [==============================] - 2s 36us/step - loss: 32.0909\n",
      "Epoch 7/50\n",
      "60000/60000 [==============================] - 2s 37us/step - loss: 31.7043\n",
      "Epoch 8/50\n",
      "60000/60000 [==============================] - 2s 37us/step - loss: 31.4683\n",
      "Epoch 9/50\n",
      "60000/60000 [==============================] - 2s 38us/step - loss: 31.2113\n",
      "Epoch 10/50\n",
      "60000/60000 [==============================] - 2s 38us/step - loss: 31.0479\n",
      "Epoch 11/50\n",
      "60000/60000 [==============================] - 2s 36us/step - loss: 30.9063\n",
      "Epoch 12/50\n",
      "60000/60000 [==============================] - 2s 38us/step - loss: 30.7760\n",
      "Epoch 13/50\n",
      "60000/60000 [==============================] - 2s 38us/step - loss: 30.6712\n",
      "Epoch 14/50\n",
      "60000/60000 [==============================] - 2s 38us/step - loss: 30.5396\n",
      "Epoch 15/50\n",
      "60000/60000 [==============================] - 2s 38us/step - loss: 30.4790\n",
      "Epoch 16/50\n",
      "60000/60000 [==============================] - 2s 37us/step - loss: 30.3892\n",
      "Epoch 17/50\n",
      "60000/60000 [==============================] - 2s 41us/step - loss: 30.3011\n",
      "Epoch 18/50\n",
      "60000/60000 [==============================] - 2s 36us/step - loss: 30.2107\n",
      "Epoch 19/50\n",
      "60000/60000 [==============================] - 2s 34us/step - loss: 30.1488\n",
      "Epoch 20/50\n",
      "60000/60000 [==============================] - 2s 35us/step - loss: 30.0887\n",
      "Epoch 21/50\n",
      "60000/60000 [==============================] - 2s 35us/step - loss: 30.0388\n",
      "Epoch 22/50\n",
      "60000/60000 [==============================] - 2s 34us/step - loss: 29.9736\n",
      "Epoch 23/50\n",
      "60000/60000 [==============================] - 2s 33us/step - loss: 29.9172\n",
      "Epoch 24/50\n",
      "60000/60000 [==============================] - 2s 34us/step - loss: 29.8417\n",
      "Epoch 25/50\n",
      "60000/60000 [==============================] - 2s 35us/step - loss: 29.7957\n",
      "Epoch 26/50\n",
      "60000/60000 [==============================] - 2s 35us/step - loss: 29.7720\n",
      "Epoch 27/50\n",
      "60000/60000 [==============================] - 2s 34us/step - loss: 29.7172\n",
      "Epoch 28/50\n",
      "60000/60000 [==============================] - 2s 34us/step - loss: 29.6746\n",
      "Epoch 29/50\n",
      "60000/60000 [==============================] - 2s 34us/step - loss: 29.6144\n",
      "Epoch 30/50\n",
      "60000/60000 [==============================] - 2s 35us/step - loss: 29.5793\n",
      "Epoch 31/50\n",
      "60000/60000 [==============================] - 2s 33us/step - loss: 29.5281\n",
      "Epoch 32/50\n",
      "60000/60000 [==============================] - 2s 34us/step - loss: 29.5201\n",
      "Epoch 33/50\n",
      "60000/60000 [==============================] - 2s 35us/step - loss: 29.4785\n",
      "Epoch 34/50\n",
      "60000/60000 [==============================] - 2s 34us/step - loss: 29.4340\n",
      "Epoch 35/50\n",
      "60000/60000 [==============================] - 2s 34us/step - loss: 29.4304\n",
      "Epoch 36/50\n",
      "60000/60000 [==============================] - 2s 34us/step - loss: 29.3904\n",
      "Epoch 37/50\n",
      "60000/60000 [==============================] - 2s 34us/step - loss: 29.3652\n",
      "Epoch 38/50\n",
      "60000/60000 [==============================] - 2s 33us/step - loss: 29.3057\n",
      "Epoch 39/50\n",
      "60000/60000 [==============================] - 2s 33us/step - loss: 29.2970\n",
      "Epoch 40/50\n",
      "60000/60000 [==============================] - 2s 34us/step - loss: 29.2708\n",
      "Epoch 41/50\n",
      "60000/60000 [==============================] - 2s 34us/step - loss: 29.2367\n",
      "Epoch 42/50\n",
      "60000/60000 [==============================] - 2s 34us/step - loss: 29.2215\n",
      "Epoch 43/50\n",
      "60000/60000 [==============================] - 2s 34us/step - loss: 29.1789\n",
      "Epoch 44/50\n",
      "60000/60000 [==============================] - 2s 34us/step - loss: 29.1564\n",
      "Epoch 45/50\n",
      "60000/60000 [==============================] - 2s 33us/step - loss: 29.1626\n",
      "Epoch 46/50\n",
      "60000/60000 [==============================] - 2s 34us/step - loss: 29.1115\n",
      "Epoch 47/50\n",
      "60000/60000 [==============================] - 2s 34us/step - loss: 29.0590\n",
      "Epoch 48/50\n",
      "60000/60000 [==============================] - 2s 34us/step - loss: 29.0876\n",
      "Epoch 49/50\n",
      "60000/60000 [==============================] - 2s 37us/step - loss: 29.0848\n",
      "Epoch 50/50\n",
      "60000/60000 [==============================] - 2s 34us/step - loss: 29.0303\n"
     ]
    }
   ],
   "source": [
    "epochs = 50\n",
    "batch_size = 150\n",
    "val_split=0.05 # how much TRAIN is reserved for VALIDATION\n",
    "\n",
    "history = model.fit(\n",
    "    X_train, batch_size=batch_size, epochs=epochs, verbose=1\n",
    ")"
   ]
  },
  {
   "cell_type": "code",
   "execution_count": 53,
   "metadata": {
    "ExecuteTime": {
     "end_time": "2018-08-29T00:01:53.242574Z",
     "start_time": "2018-08-29T00:01:52.847053Z"
    }
   },
   "outputs": [],
   "source": [
    "# Save the encoder, decoder, and stacked models\n",
    "#\n",
    "encoder.save(encoder_file + '.h5')\n",
    "decoder.save(decoder_file + '.h5')\n",
    "model.save(model_file + '.h5')"
   ]
  },
  {
   "cell_type": "markdown",
   "metadata": {},
   "source": [
    "### Reconstruction Output"
   ]
  },
  {
   "cell_type": "code",
   "execution_count": 54,
   "metadata": {
    "ExecuteTime": {
     "end_time": "2018-08-29T00:01:53.858818Z",
     "start_time": "2018-08-29T00:01:53.244435Z"
    },
    "scrolled": true
   },
   "outputs": [
    {
     "data": {
      "image/png": "[encoded data removed]",
      "text/plain": [
       "<Figure size 864x180 with 20 Axes>"
      ]
     },
     "metadata": {},
     "output_type": "display_data"
    }
   ],
   "source": [
    "from keras.models import load_model\n",
    "\n",
    "n_digits = 10\n",
    "n_codings = 20 #from the encoder number\n",
    "\n",
    "#model_file = 'models/auto/mnist/k_auto_var1-model'\n",
    "#model = load_model(model_file + '.h5')\n",
    "\n",
    "images_in, _ = random_batch(X_test, y_test, batch_size=n_digits)\n",
    "images_out = model.predict(images_in)\n",
    "\n",
    "fig = plt.figure(figsize=(12, 2.5))\n",
    "for digit_index in range(n_digits):\n",
    "    plt.subplot(2, n_digits, digit_index + 1)\n",
    "    plot_image(images_in[digit_index].reshape(28,28))\n",
    "    \n",
    "    plt.subplot(2, n_digits, n_digits + digit_index + 1)\n",
    "    plot_image(images_out[digit_index].reshape(28,28))\n",
    "plt.show()"
   ]
  },
  {
   "cell_type": "markdown",
   "metadata": {},
   "source": [
    "### Encoding Distributions"
   ]
  },
  {
   "cell_type": "code",
   "execution_count": 55,
   "metadata": {
    "ExecuteTime": {
     "end_time": "2018-08-29T00:01:54.405460Z",
     "start_time": "2018-08-29T00:01:53.859787Z"
    }
   },
   "outputs": [
    {
     "name": "stdout",
     "output_type": "stream",
     "text": [
      "10000/10000 [==============================] - 1s 54us/step\n",
      "(10000, 24)\n"
     ]
    }
   ],
   "source": [
    "from keras.models import load_model\n",
    "\n",
    "#encoder_file = 'models/auto/mnist/k_auto_var1-enc'\n",
    "#encoder = load_model(encoder_file + '.h5')\n",
    "#encoder.compile(loss='binary_crossentropy', optimizer=\"adam\")\n",
    "\n",
    "# encoder_output contains 3 variables: [ codings, param_0, param_1 ]\n",
    "encoder_output = encoder.predict(X_test, verbose=True)\n",
    "print(encoder_output[0].shape)"
   ]
  },
  {
   "cell_type": "code",
   "execution_count": 56,
   "metadata": {
    "ExecuteTime": {
     "end_time": "2018-08-29T00:01:56.401148Z",
     "start_time": "2018-08-29T00:01:54.406457Z"
    }
   },
   "outputs": [
    {
     "data": {
      "image/png": "[encoded data removed]",
      "text/plain": [
       "<Figure size 864x576 with 24 Axes>"
      ]
     },
     "metadata": {},
     "output_type": "display_data"
    }
   ],
   "source": [
    "X_encoded = encoder_output[0]\n",
    "showAll = True\n",
    "\n",
    "coord_indeces = np.array([\n",
    "    [ 0, 1, 2, 3, 4],\n",
    "    [ 5, 6, 7, 8, 9]\n",
    "])\n",
    "\n",
    "if showAll:\n",
    "    n_cols = 6\n",
    "    n_rows = X_encoded.shape[1] // n_cols\n",
    "else:\n",
    "    n_cols = coord_indeces.shape[1]\n",
    "    n_rows = coord_indeces.shape[0]\n",
    "\n",
    "plt.figure(figsize=(12, int(12.0/n_cols * n_rows)))\n",
    "for row in range(n_rows):\n",
    "    for col in range(n_cols):\n",
    "        i = row * n_cols + col\n",
    "        plt.subplot(n_rows, n_cols, i + 1)\n",
    "        if showAll:\n",
    "            plt.title(\"Coord \" + str(i))\n",
    "            plt.hist(X_encoded[:, i], bins=20, density=True)\n",
    "        else:\n",
    "            plt.title(\"Coord \" + str(coord_indeces[row, col]))\n",
    "            plt.hist(X_encoded[:, coord_indeces[row, col]], bins=20, density=True)\n",
    "plt.tight_layout()\n",
    "plt.show()"
   ]
  },
  {
   "cell_type": "markdown",
   "metadata": {},
   "source": [
    "### Generative"
   ]
  },
  {
   "cell_type": "code",
   "execution_count": 57,
   "metadata": {
    "ExecuteTime": {
     "end_time": "2018-08-29T00:01:56.620088Z",
     "start_time": "2018-08-29T00:01:56.403143Z"
    },
    "scrolled": true
   },
   "outputs": [
    {
     "data": {
      "image/png": "[encoded data removed]",
      "text/plain": [
       "<Figure size 864x360 with 1 Axes>"
      ]
     },
     "metadata": {},
     "output_type": "display_data"
    }
   ],
   "source": [
    "from keras.models import load_model\n",
    "\n",
    "rows = 5\n",
    "cols = 12\n",
    "n_digits = rows * cols\n",
    "\n",
    "#decoder_file = 'models/auto/mnist/k_auto_var1-dec'\n",
    "#decoder = load_model(decoder_file + '.h5')\n",
    "#decoder.compile(loss='binary_crossentropy', optimizer=\"adam\")\n",
    "n_codings = decoder.layers[0].input_shape[1]\n",
    "\n",
    "#codings_in = noise = np.random.uniform(-2, 2, n_digits * n_codings).reshape((n_digits, n_codings))\n",
    "codings_in = noise = np.random.normal(0, 1.0, n_digits * n_codings).reshape((n_digits, n_codings))\n",
    "images_out = decoder.predict(codings_in)\n",
    "\n",
    "image = combine_images(images_out, rows, cols)\n",
    "\n",
    "fig = plt.figure(figsize=(cols, rows))\n",
    "plt.imshow(image, cmap=\"Greys\", interpolation='nearest')\n",
    "plt.axis(\"off\")\n",
    "plt.show()"
   ]
  },
  {
   "cell_type": "markdown",
   "metadata": {},
   "source": [
    "## Model `k_auto_var2`\n",
    "\n",
    "A deeper model than `k_auto_var1`"
   ]
  },
  {
   "cell_type": "code",
   "execution_count": 58,
   "metadata": {
    "ExecuteTime": {
     "end_time": "2018-08-29T00:01:56.627070Z",
     "start_time": "2018-08-29T00:01:56.621087Z"
    }
   },
   "outputs": [],
   "source": [
    "from keras import backend as K\n",
    "from keras.models import Model, Sequential\n",
    "from keras.engine.input_layer import Input\n",
    "from keras.layers.core import Activation, Dense, Flatten, Reshape, Lambda\n",
    "from keras.layers import Dropout, LeakyReLU\n",
    "from keras.layers.normalization import BatchNormalization\n",
    "from keras.layers.convolutional import Conv2D, Conv2DTranspose, UpSampling2D\n",
    "from keras.layers.convolutional import MaxPooling2D, AveragePooling2D\n",
    "\n",
    "# For saving images if you use a custom training algorithm\n",
    "save_path = \"images/auto/mnist/k_auto_var2_\"\n",
    "save_path0 = \"images/auto/mnist/zero/k_auto_var2_\"\n",
    "\n",
    "# For saving/restoring model\n",
    "encoder_file = 'models/auto/mnist/k_auto_var2-enc'\n",
    "decoder_file = 'models/auto/mnist/k_auto_var2-dec'\n",
    "model_file = 'models/auto/mnist/k_auto_var2-model'"
   ]
  },
  {
   "cell_type": "code",
   "execution_count": 59,
   "metadata": {
    "ExecuteTime": {
     "end_time": "2018-08-29T00:01:56.701872Z",
     "start_time": "2018-08-29T00:01:56.629065Z"
    },
    "scrolled": false
   },
   "outputs": [
    {
     "name": "stdout",
     "output_type": "stream",
     "text": [
      "__________________________________________________________________________________________________\n",
      "Layer (type)                    Output Shape         Param #     Connected to                     \n",
      "==================================================================================================\n",
      "inputs (InputLayer)             (None, 28, 28, 1)    0                                            \n",
      "__________________________________________________________________________________________________\n",
      "inputs_flat (Flatten)           (None, 784)          0           inputs[0][0]                     \n",
      "__________________________________________________________________________________________________\n",
      "hidden_1 (Dense)                (None, 360)          282600      inputs_flat[0][0]                \n",
      "__________________________________________________________________________________________________\n",
      "hidden_2 (Dense)                (None, 180)          64980       hidden_1[0][0]                   \n",
      "__________________________________________________________________________________________________\n",
      "param_0 (Dense)                 (None, 24)           4344        hidden_2[0][0]                   \n",
      "__________________________________________________________________________________________________\n",
      "param_1 (Dense)                 (None, 24)           4344        hidden_2[0][0]                   \n",
      "__________________________________________________________________________________________________\n",
      "codings (Lambda)                (None, 24)           0           param_0[0][0]                    \n",
      "                                                                 param_1[0][0]                    \n",
      "==================================================================================================\n",
      "Total params: 356,268\n",
      "Trainable params: 356,268\n",
      "Non-trainable params: 0\n",
      "__________________________________________________________________________________________________\n"
     ]
    }
   ],
   "source": [
    "def sampling(args):\n",
    "    param_0, param_1 = args\n",
    "    batch_size = K.shape(param_0)[0]\n",
    "    dim = K.int_shape(param_0)[1]\n",
    "    \n",
    "    #unif_01 = K.random_uniform(shape=(batch_size, dim))\n",
    "    normal_01 = K.random_normal(shape=(batch_size, dim))\n",
    "    \n",
    "    #return param_0 + param_1 * normal_01\n",
    "    return param_0 + K.exp(0.5 * param_1) * normal_01\n",
    "\n",
    "\n",
    "# Build the encoder part of the model\n",
    "#\n",
    "n_inputs = height * width * channels\n",
    "n_codings = 24\n",
    "\n",
    "inputs = Input(shape=(height, width, channels,), name='inputs')\n",
    "inputs_flat = Flatten(name=\"inputs_flat\")(inputs)\n",
    "hidden1 = Dense(units=360, activation='relu', name='hidden_1')(inputs_flat)\n",
    "hidden2 = Dense(units=180, activation='relu', name='hidden_2')(hidden1)\n",
    "\n",
    "param_0 = Dense(n_codings, name='param_0')(hidden2)\n",
    "param_1 = Dense(n_codings, name='param_1')(hidden2)\n",
    "#param_2 = Dense(n_codings, name='param_2')(hidden1) #to play around with\n",
    "\n",
    "# We feed the param_0 and param_1 into the Lambda layer, whose function is to \n",
    "# tranform a random uniform(0,1) variable by applying the parameters\n",
    "codings = Lambda(sampling, output_shape=(n_codings,), name='codings')([param_0, param_1])\n",
    "\n",
    "encoder = Model(inputs, [codings, param_0, param_1], name='encoder')\n",
    "encoder.summary()"
   ]
  },
  {
   "cell_type": "code",
   "execution_count": 60,
   "metadata": {
    "ExecuteTime": {
     "end_time": "2018-08-29T00:01:56.758718Z",
     "start_time": "2018-08-29T00:01:56.702867Z"
    }
   },
   "outputs": [
    {
     "name": "stdout",
     "output_type": "stream",
     "text": [
      "_________________________________________________________________\n",
      "Layer (type)                 Output Shape              Param #   \n",
      "=================================================================\n",
      "latent_inputs (InputLayer)   (None, 24)                0         \n",
      "_________________________________________________________________\n",
      "hidden_3 (Dense)             (None, 120)               3000      \n",
      "_________________________________________________________________\n",
      "hidden_4 (Dense)             (None, 250)               30250     \n",
      "_________________________________________________________________\n",
      "hidden_5 (Dense)             (None, 450)               112950    \n",
      "_________________________________________________________________\n",
      "output_flat (Dense)          (None, 784)               353584    \n",
      "_________________________________________________________________\n",
      "output (Reshape)             (None, 28, 28, 1)         0         \n",
      "=================================================================\n",
      "Total params: 499,784\n",
      "Trainable params: 499,784\n",
      "Non-trainable params: 0\n",
      "_________________________________________________________________\n"
     ]
    }
   ],
   "source": [
    "# Build the decoder part of the model\n",
    "#\n",
    "n_codings = encoder.layers[-1].output_shape[1]\n",
    "n_outputs = n_inputs\n",
    "\n",
    "latent_inputs = Input(shape=(n_codings,), name='latent_inputs')\n",
    "hidden3 = Dense(120, activation='relu', name=\"hidden_3\")(latent_inputs)\n",
    "hidden4 = Dense(250, activation='relu', name=\"hidden_4\")(hidden3)\n",
    "hidden5 = Dense(450, activation='relu', name=\"hidden_5\")(hidden4)\n",
    "output_flat = Dense(units=n_outputs, activation='sigmoid', name='output_flat')(hidden5)\n",
    "output = Reshape(target_shape=(height,width,channels,), name='output')(output_flat)\n",
    "\n",
    "decoder = Model(latent_inputs, output, name='decoder')\n",
    "decoder.summary()"
   ]
  },
  {
   "cell_type": "code",
   "execution_count": 61,
   "metadata": {
    "ExecuteTime": {
     "end_time": "2018-08-29T00:01:56.805592Z",
     "start_time": "2018-08-29T00:01:56.759715Z"
    },
    "scrolled": true
   },
   "outputs": [
    {
     "name": "stdout",
     "output_type": "stream",
     "text": [
      "_________________________________________________________________\n",
      "Layer (type)                 Output Shape              Param #   \n",
      "=================================================================\n",
      "inputs (InputLayer)          (None, 28, 28, 1)         0         \n",
      "_________________________________________________________________\n",
      "encoder (Model)              [(None, 24), (None, 24),  356268    \n",
      "_________________________________________________________________\n",
      "decoder (Model)              (None, 28, 28, 1)         499784    \n",
      "=================================================================\n",
      "Total params: 856,052\n",
      "Trainable params: 856,052\n",
      "Non-trainable params: 0\n",
      "_________________________________________________________________\n"
     ]
    }
   ],
   "source": [
    "# Stack the two together\n",
    "#\n",
    "outputs = decoder(  encoder(inputs)[0]  )\n",
    "model = Model(inputs, outputs, name='vae')\n",
    "model.summary()"
   ]
  },
  {
   "cell_type": "markdown",
   "metadata": {},
   "source": [
    "### Loss and Optimizer"
   ]
  },
  {
   "cell_type": "code",
   "execution_count": 62,
   "metadata": {
    "ExecuteTime": {
     "end_time": "2018-08-29T00:01:56.845486Z",
     "start_time": "2018-08-29T00:01:56.806589Z"
    }
   },
   "outputs": [
    {
     "name": "stdout",
     "output_type": "stream",
     "text": [
      "inputs/outputs shapes: (?, 28, 28, 1) (?, 28, 28, 1)\n",
      "rec_loss: (?,)\n",
      "dist_loss: (?,)\n",
      "loss: ()\n",
      "_________________________________________________________________\n",
      "Layer (type)                 Output Shape              Param #   \n",
      "=================================================================\n",
      "inputs (InputLayer)          (None, 28, 28, 1)         0         \n",
      "_________________________________________________________________\n",
      "encoder (Model)              [(None, 24), (None, 24),  356268    \n",
      "_________________________________________________________________\n",
      "decoder (Model)              (None, 28, 28, 1)         499784    \n",
      "=================================================================\n",
      "Total params: 856,052\n",
      "Trainable params: 856,052\n",
      "Non-trainable params: 0\n",
      "_________________________________________________________________\n"
     ]
    }
   ],
   "source": [
    "from keras.optimizers import SGD, RMSprop, Adam, Adagrad, Adadelta\n",
    "from keras.losses import mse, binary_crossentropy\n",
    "\n",
    "# Calculate the reconstruction loss. We use MSE. Note that since inputs/outputs are of\n",
    "# shape (?, 28, 28, 1), we cannot simply call mse(inputs, outputs) as this would result\n",
    "# in the MSE being calculated only along the last axis=-1, instead of over the entire image\n",
    "#\n",
    "# Fix: we use the backend to write the MSE explicitly\n",
    "#\n",
    "print(\"inputs/outputs shapes:\", inputs.shape, outputs.shape)\n",
    "reconstruction_loss = K.sum(K.square(outputs - inputs), axis=[1, 2, 3])\n",
    "#reconstruction_loss = binary_crossentropy(inputs, outputs)\n",
    "#reconstruction_loss *= np.sqrt(n_inputs)\n",
    "#reconstruction_loss *= n_inputs\n",
    "print(\"rec_loss:\", reconstruction_loss.shape)\n",
    "\n",
    "\n",
    "# Calculate the distribution loss (KL-div for Gaussian has a closed form)\n",
    "#\n",
    "epsilon = 1e-10\n",
    "dist_loss = K.square(param_0) + K.exp(param_1) - 1 - param_1\n",
    "#dist_loss = K.square(param_0) + K.square(param_1) - 1 - K.log( epsilon + K.square(param_1) )\n",
    "dist_loss = 0.5 * K.sum(dist_loss, axis=-1)\n",
    "print(\"dist_loss:\", dist_loss.shape)\n",
    "\n",
    "loss = K.mean(reconstruction_loss + dist_loss)\n",
    "#loss = K.mean(reconstruction_loss)\n",
    "#loss = K.mean(dist_loss)\n",
    "print(\"loss:\", loss.shape)\n",
    "\n",
    "#optimizer = SGD()\n",
    "#optimizer = SGD(lr=0.003, momentum=0.7, nesterov=True)\n",
    "optimizer = Adam()\n",
    "#optimizer = Adam(lr=0.001)\n",
    "#optimizer = RMSprop()\n",
    "#optimizer = RMSprop(lr=0.001)\n",
    "#optimizer = Adagrad()\n",
    "#optimizer = Adagrad(lr=0.001)\n",
    "#optimizer = Adadelta()\n",
    "#optimizer = Adadelta(lr=0.15)\n",
    "\n",
    "#encoder.compile(loss='binary_crossentropy', optimizer=\"adam\")\n",
    "#decoder.compile(loss='binary_crossentropy', optimizer=\"adam\")\n",
    "model.add_loss(loss)\n",
    "model.compile(optimizer=optimizer)\n",
    "model.summary()"
   ]
  },
  {
   "cell_type": "markdown",
   "metadata": {},
   "source": [
    "### Train"
   ]
  },
  {
   "cell_type": "code",
   "execution_count": 63,
   "metadata": {
    "ExecuteTime": {
     "end_time": "2018-08-29T00:04:28.606055Z",
     "start_time": "2018-08-29T00:01:56.847481Z"
    },
    "scrolled": true
   },
   "outputs": [
    {
     "name": "stdout",
     "output_type": "stream",
     "text": [
      "Epoch 1/50\n",
      "60000/60000 [==============================] - 4s 62us/step - loss: 51.2361\n",
      "Epoch 2/50\n",
      "60000/60000 [==============================] - 3s 52us/step - loss: 37.7766\n",
      "Epoch 3/50\n",
      "60000/60000 [==============================] - 3s 50us/step - loss: 33.6183\n",
      "Epoch 4/50\n",
      "60000/60000 [==============================] - 3s 53us/step - loss: 32.1676\n",
      "Epoch 5/50\n",
      "60000/60000 [==============================] - 3s 51us/step - loss: 31.1659\n",
      "Epoch 6/50\n",
      "60000/60000 [==============================] - 3s 50us/step - loss: 30.4603\n",
      "Epoch 7/50\n",
      "60000/60000 [==============================] - 3s 49us/step - loss: 29.9384\n",
      "Epoch 8/50\n",
      "60000/60000 [==============================] - 3s 50us/step - loss: 29.5876\n",
      "Epoch 9/50\n",
      "60000/60000 [==============================] - 3s 48us/step - loss: 29.2992\n",
      "Epoch 10/50\n",
      "60000/60000 [==============================] - 3s 51us/step - loss: 29.0438\n",
      "Epoch 11/50\n",
      "60000/60000 [==============================] - 3s 50us/step - loss: 28.8285\n",
      "Epoch 12/50\n",
      "60000/60000 [==============================] - 3s 49us/step - loss: 28.6587\n",
      "Epoch 13/50\n",
      "60000/60000 [==============================] - 3s 49us/step - loss: 28.4912\n",
      "Epoch 14/50\n",
      "60000/60000 [==============================] - 3s 49us/step - loss: 28.3652\n",
      "Epoch 15/50\n",
      "60000/60000 [==============================] - 3s 50us/step - loss: 28.2541\n",
      "Epoch 16/50\n",
      "60000/60000 [==============================] - 3s 49us/step - loss: 28.1298\n",
      "Epoch 17/50\n",
      "60000/60000 [==============================] - 3s 50us/step - loss: 28.0363\n",
      "Epoch 18/50\n",
      "60000/60000 [==============================] - 4s 60us/step - loss: 27.9374\n",
      "Epoch 19/50\n",
      "60000/60000 [==============================] - 3s 57us/step - loss: 27.8448\n",
      "Epoch 20/50\n",
      "60000/60000 [==============================] - 3s 49us/step - loss: 27.7686\n",
      "Epoch 21/50\n",
      "60000/60000 [==============================] - 3s 49us/step - loss: 27.7085\n",
      "Epoch 22/50\n",
      "60000/60000 [==============================] - 3s 49us/step - loss: 27.6210\n",
      "Epoch 23/50\n",
      "60000/60000 [==============================] - 3s 50us/step - loss: 27.5622\n",
      "Epoch 24/50\n",
      "60000/60000 [==============================] - 3s 49us/step - loss: 27.5045\n",
      "Epoch 25/50\n",
      "60000/60000 [==============================] - 3s 49us/step - loss: 27.4497\n",
      "Epoch 26/50\n",
      "60000/60000 [==============================] - 3s 49us/step - loss: 27.3794\n",
      "Epoch 27/50\n",
      "60000/60000 [==============================] - 3s 49us/step - loss: 27.3343\n",
      "Epoch 28/50\n",
      "60000/60000 [==============================] - 3s 50us/step - loss: 27.2646\n",
      "Epoch 29/50\n",
      "60000/60000 [==============================] - 3s 48us/step - loss: 27.2557\n",
      "Epoch 30/50\n",
      "60000/60000 [==============================] - 3s 49us/step - loss: 27.1872\n",
      "Epoch 31/50\n",
      "60000/60000 [==============================] - 3s 50us/step - loss: 27.1460\n",
      "Epoch 32/50\n",
      "60000/60000 [==============================] - 3s 49us/step - loss: 27.1393\n",
      "Epoch 33/50\n",
      "60000/60000 [==============================] - 3s 50us/step - loss: 27.0671\n",
      "Epoch 34/50\n",
      "60000/60000 [==============================] - 3s 49us/step - loss: 27.0416\n",
      "Epoch 35/50\n",
      "60000/60000 [==============================] - 3s 49us/step - loss: 27.0016\n",
      "Epoch 36/50\n",
      "60000/60000 [==============================] - 3s 49us/step - loss: 26.9681\n",
      "Epoch 37/50\n",
      "60000/60000 [==============================] - 3s 49us/step - loss: 26.9483\n",
      "Epoch 38/50\n",
      "60000/60000 [==============================] - 3s 50us/step - loss: 26.9196\n",
      "Epoch 39/50\n",
      "60000/60000 [==============================] - 3s 49us/step - loss: 26.9100\n",
      "Epoch 40/50\n",
      "60000/60000 [==============================] - 3s 49us/step - loss: 26.8576\n",
      "Epoch 41/50\n",
      "60000/60000 [==============================] - 3s 50us/step - loss: 26.8286\n",
      "Epoch 42/50\n",
      "60000/60000 [==============================] - 3s 49us/step - loss: 26.8118\n",
      "Epoch 43/50\n",
      "60000/60000 [==============================] - 3s 50us/step - loss: 26.7910\n",
      "Epoch 44/50\n",
      "60000/60000 [==============================] - 3s 49us/step - loss: 26.7923\n",
      "Epoch 45/50\n",
      "60000/60000 [==============================] - 3s 54us/step - loss: 26.7412\n",
      "Epoch 46/50\n",
      "60000/60000 [==============================] - 3s 57us/step - loss: 26.7237\n",
      "Epoch 47/50\n",
      "60000/60000 [==============================] - 3s 49us/step - loss: 26.6781\n",
      "Epoch 48/50\n",
      "60000/60000 [==============================] - 3s 51us/step - loss: 26.7073\n",
      "Epoch 49/50\n",
      "60000/60000 [==============================] - 3s 51us/step - loss: 26.6102\n",
      "Epoch 50/50\n",
      "60000/60000 [==============================] - 3s 50us/step - loss: 26.6125\n"
     ]
    }
   ],
   "source": [
    "epochs = 50\n",
    "batch_size = 150\n",
    "val_split=0.05 # how much TRAIN is reserved for VALIDATION\n",
    "\n",
    "history = model.fit(\n",
    "    X_train, batch_size=batch_size, epochs=epochs, verbose=1\n",
    ")"
   ]
  },
  {
   "cell_type": "code",
   "execution_count": 64,
   "metadata": {
    "ExecuteTime": {
     "end_time": "2018-08-29T00:04:29.205611Z",
     "start_time": "2018-08-29T00:04:28.608049Z"
    }
   },
   "outputs": [],
   "source": [
    "# Save the encoder, decoder, and stacked models\n",
    "#\n",
    "encoder.save(encoder_file + '.h5')\n",
    "decoder.save(decoder_file + '.h5')\n",
    "model.save(model_file + '.h5')"
   ]
  },
  {
   "cell_type": "markdown",
   "metadata": {},
   "source": [
    "### Reconstruction Output"
   ]
  },
  {
   "cell_type": "code",
   "execution_count": 65,
   "metadata": {
    "ExecuteTime": {
     "end_time": "2018-08-29T00:04:29.981561Z",
     "start_time": "2018-08-29T00:04:29.207631Z"
    },
    "scrolled": true
   },
   "outputs": [
    {
     "data": {
      "image/png": "[encoded data removed]",
      "text/plain": [
       "<Figure size 864x180 with 20 Axes>"
      ]
     },
     "metadata": {},
     "output_type": "display_data"
    }
   ],
   "source": [
    "from keras.models import load_model\n",
    "\n",
    "n_digits = 10\n",
    "n_codings = 20 #from the encoder number\n",
    "\n",
    "#model_file = 'models/auto/mnist/k_auto_var2-model'\n",
    "#model = load_model(model_file + '.h5')\n",
    "\n",
    "images_in, _ = random_batch(X_test, y_test, batch_size=n_digits)\n",
    "images_out = model.predict(images_in)\n",
    "\n",
    "fig = plt.figure(figsize=(12, 2.5))\n",
    "for digit_index in range(n_digits):\n",
    "    plt.subplot(2, n_digits, digit_index + 1)\n",
    "    plot_image(images_in[digit_index].reshape(28,28))\n",
    "    \n",
    "    plt.subplot(2, n_digits, n_digits + digit_index + 1)\n",
    "    plot_image(images_out[digit_index].reshape(28,28))\n",
    "plt.show()"
   ]
  },
  {
   "cell_type": "markdown",
   "metadata": {},
   "source": [
    "### Encoding Distributions"
   ]
  },
  {
   "cell_type": "code",
   "execution_count": 66,
   "metadata": {
    "ExecuteTime": {
     "end_time": "2018-08-29T00:04:30.580931Z",
     "start_time": "2018-08-29T00:04:29.983530Z"
    }
   },
   "outputs": [
    {
     "name": "stdout",
     "output_type": "stream",
     "text": [
      "10000/10000 [==============================] - 1s 59us/step\n",
      "(10000, 24)\n"
     ]
    }
   ],
   "source": [
    "from keras.models import load_model\n",
    "\n",
    "#encoder_file = 'models/auto/mnist/k_auto_var2-enc'\n",
    "#encoder = load_model(encoder_file + '.h5')\n",
    "#encoder.compile(loss='binary_crossentropy', optimizer=\"adam\")\n",
    "\n",
    "# encoder_output contains 3 variables: [ codings, param_0, param_1 ]\n",
    "encoder_output = encoder.predict(X_test, verbose=True)\n",
    "print(encoder_output[0].shape)"
   ]
  },
  {
   "cell_type": "code",
   "execution_count": 67,
   "metadata": {
    "ExecuteTime": {
     "end_time": "2018-08-29T00:04:32.363194Z",
     "start_time": "2018-08-29T00:04:30.581929Z"
    }
   },
   "outputs": [
    {
     "data": {
      "image/png": "[encoded data removed]",
      "text/plain": [
       "<Figure size 864x576 with 24 Axes>"
      ]
     },
     "metadata": {},
     "output_type": "display_data"
    }
   ],
   "source": [
    "X_encoded = encoder_output[0]\n",
    "showAll = True\n",
    "\n",
    "coord_indeces = np.array([\n",
    "    [ 0, 1, 2, 3, 4],\n",
    "    [ 5, 6, 7, 8, 9]\n",
    "])\n",
    "\n",
    "if showAll:\n",
    "    n_cols = 6\n",
    "    n_rows = X_encoded.shape[1] // n_cols\n",
    "else:\n",
    "    n_cols = coord_indeces.shape[1]\n",
    "    n_rows = coord_indeces.shape[0]\n",
    "\n",
    "plt.figure(figsize=(12, int(12.0/n_cols * n_rows)))\n",
    "for row in range(n_rows):\n",
    "    for col in range(n_cols):\n",
    "        i = row * n_cols + col\n",
    "        plt.subplot(n_rows, n_cols, i + 1)\n",
    "        if showAll:\n",
    "            plt.title(\"Coord \" + str(i))\n",
    "            plt.hist(X_encoded[:, i], bins=20, density=True)\n",
    "        else:\n",
    "            plt.title(\"Coord \" + str(coord_indeces[row, col]))\n",
    "            plt.hist(X_encoded[:, coord_indeces[row, col]], bins=20, density=True)\n",
    "plt.tight_layout()\n",
    "plt.show()"
   ]
  },
  {
   "cell_type": "markdown",
   "metadata": {},
   "source": [
    "### Generative"
   ]
  },
  {
   "cell_type": "code",
   "execution_count": 68,
   "metadata": {
    "ExecuteTime": {
     "end_time": "2018-08-29T00:04:32.609505Z",
     "start_time": "2018-08-29T00:04:32.365186Z"
    },
    "scrolled": true
   },
   "outputs": [
    {
     "data": {
      "image/png": "[encoded data removed]",
      "text/plain": [
       "<Figure size 864x360 with 1 Axes>"
      ]
     },
     "metadata": {},
     "output_type": "display_data"
    }
   ],
   "source": [
    "from keras.models import load_model\n",
    "\n",
    "rows = 5\n",
    "cols = 12\n",
    "n_digits = rows * cols\n",
    "\n",
    "#decoder_file = 'models/auto/mnist/k_auto_var2-dec'\n",
    "#decoder = load_model(decoder_file + '.h5')\n",
    "#decoder.compile(loss='binary_crossentropy', optimizer=\"adam\")\n",
    "n_codings = decoder.layers[0].input_shape[1]\n",
    "\n",
    "#codings_in = noise = np.random.uniform(-2, 2, n_digits * n_codings).reshape((n_digits, n_codings))\n",
    "codings_in = noise = np.random.normal(0, 1.0, n_digits * n_codings).reshape((n_digits, n_codings))\n",
    "images_out = decoder.predict(codings_in)\n",
    "\n",
    "image = combine_images(images_out, rows, cols)\n",
    "\n",
    "fig = plt.figure(figsize=(cols, rows))\n",
    "plt.imshow(image, cmap=\"Greys\", interpolation='nearest')\n",
    "plt.axis(\"off\")\n",
    "plt.show()"
   ]
  },
  {
   "cell_type": "markdown",
   "metadata": {},
   "source": [
    "## Interpolating digits"
   ]
  },
  {
   "cell_type": "code",
   "execution_count": 69,
   "metadata": {
    "ExecuteTime": {
     "end_time": "2018-08-29T00:04:32.976524Z",
     "start_time": "2018-08-29T00:04:32.610503Z"
    },
    "scrolled": true
   },
   "outputs": [
    {
     "data": {
      "image/png": "[encoded data removed]",
      "text/plain": [
       "<Figure size 921.6x403.2 with 8 Axes>"
      ]
     },
     "metadata": {},
     "output_type": "display_data"
    }
   ],
   "source": [
    "from keras.models import load_model\n",
    "\n",
    "n_digits = 16\n",
    "n_iterations = 7\n",
    "\n",
    "#decoder_file = 'models/auto/mnist/k_auto_var2-dec'\n",
    "#decoder = load_model(decoder_file + '.h5')\n",
    "#decoder.compile(loss='binary_crossentropy', optimizer=\"adam\")\n",
    "n_codings = decoder.layers[0].input_shape[1]\n",
    "\n",
    "#codings_in = noise = np.random.uniform(-2, 2, n_digits * n_codings).reshape((n_digits, n_codings))\n",
    "codings_in = noise = np.random.normal(0, 1.0, n_digits * n_codings).reshape((n_digits, n_codings))\n",
    "codings_target = target_codings = np.roll(codings_in, -1, axis=0)\n",
    "difference = codings_target - codings_in\n",
    "\n",
    "images = []\n",
    "\n",
    "for iteration in range(n_iterations + 1):\n",
    "    codings_interpolate = codings_in + difference * iteration / n_iterations\n",
    "    images_out = decoder.predict(codings_interpolate)\n",
    "    image = combine_images(images_out, rows=1, cols=n_digits)\n",
    "    images.append(image)\n",
    "\n",
    "\n",
    "fig = plt.figure(figsize=(0.8*n_digits, 0.8*n_iterations))\n",
    "for i in range(n_iterations + 1):\n",
    "    plt.subplot(n_iterations+1, 1, i+1)\n",
    "    plt.imshow(images[i], cmap=\"Greys\", interpolation='nearest')\n",
    "    plt.axis(\"off\")\n",
    "\n",
    "plt.show()"
   ]
  },
  {
   "cell_type": "code",
   "execution_count": 70,
   "metadata": {
    "ExecuteTime": {
     "end_time": "2018-08-29T00:04:33.248965Z",
     "start_time": "2018-08-29T00:04:32.979517Z"
    },
    "scrolled": true
   },
   "outputs": [
    {
     "name": "stdout",
     "output_type": "stream",
     "text": [
      "Training for 10 epochs with 600 batches of size 100"
     ]
    },
    {
     "ename": "ValueError",
     "evalue": "('Error when checking model target: expected no data, but got:', array([[[[0.],\n         [0.],\n         [0.],\n         ...,\n         [0.],\n         [0.],\n         [0.]],\n\n        [[0.],\n         [0.],\n         [0.],\n         ...,\n         [0.],\n         [0.],\n         [0.]],\n\n        [[0.],\n         [0.],\n         [0.],\n         ...,\n         [0.],\n         [0.],\n         [0.]],\n\n        ...,\n\n        [[0.],\n         [0.],\n         [0.],\n         ...,\n         [0.],\n         [0.],\n         [0.]],\n\n        [[0.],\n         [0.],\n         [0.],\n         ...,\n         [0.],\n         [0.],\n         [0.]],\n\n        [[0.],\n         [0.],\n         [0.],\n         ...,\n         [0.],\n         [0.],\n         [0.]]],\n\n\n       [[[0.],\n         [0.],\n         [0.],\n         ...,\n         [0.],\n         [0.],\n         [0.]],\n\n        [[0.],\n         [0.],\n         [0.],\n         ...,\n         [0.],\n         [0.],\n         [0.]],\n\n        [[0.],\n         [0.],\n         [0.],\n         ...,\n         [0.],\n         [0.],\n         [0.]],\n\n        ...,\n\n        [[0.],\n         [0.],\n         [0.],\n         ...,\n         [0.],\n         [0.],\n         [0.]],\n\n        [[0.],\n         [0.],\n         [0.],\n         ...,\n         [0.],\n         [0.],\n         [0.]],\n\n        [[0.],\n         [0.],\n         [0.],\n         ...,\n         [0.],\n         [0.],\n         [0.]]],\n\n\n       [[[0.],\n         [0.],\n         [0.],\n         ...,\n         [0.],\n         [0.],\n         [0.]],\n\n        [[0.],\n         [0.],\n         [0.],\n         ...,\n         [0.],\n         [0.],\n         [0.]],\n\n        [[0.],\n         [0.],\n         [0.],\n         ...,\n         [0.],\n         [0.],\n         [0.]],\n\n        ...,\n\n        [[0.],\n         [0.],\n         [0.],\n         ...,\n         [0.],\n         [0.],\n         [0.]],\n\n        [[0.],\n         [0.],\n         [0.],\n         ...,\n         [0.],\n         [0.],\n         [0.]],\n\n        [[0.],\n         [0.],\n         [0.],\n         ...,\n         [0.],\n         [0.],\n         [0.]]],\n\n\n       ...,\n\n\n       [[[0.],\n         [0.],\n         [0.],\n         ...,\n         [0.],\n         [0.],\n         [0.]],\n\n        [[0.],\n         [0.],\n         [0.],\n         ...,\n         [0.],\n         [0.],\n         [0.]],\n\n        [[0.],\n         [0.],\n         [0.],\n         ...,\n         [0.],\n         [0.],\n         [0.]],\n\n        ...,\n\n        [[0.],\n         [0.],\n         [0.],\n         ...,\n         [0.],\n         [0.],\n         [0.]],\n\n        [[0.],\n         [0.],\n         [0.],\n         ...,\n         [0.],\n         [0.],\n         [0.]],\n\n        [[0.],\n         [0.],\n         [0.],\n         ...,\n         [0.],\n         [0.],\n         [0.]]],\n\n\n       [[[0.],\n         [0.],\n         [0.],\n         ...,\n         [0.],\n         [0.],\n         [0.]],\n\n        [[0.],\n         [0.],\n         [0.],\n         ...,\n         [0.],\n         [0.],\n         [0.]],\n\n        [[0.],\n         [0.],\n         [0.],\n         ...,\n         [0.],\n         [0.],\n         [0.]],\n\n        ...,\n\n        [[0.],\n         [0.],\n         [0.],\n         ...,\n         [0.],\n         [0.],\n         [0.]],\n\n        [[0.],\n         [0.],\n         [0.],\n         ...,\n         [0.],\n         [0.],\n         [0.]],\n\n        [[0.],\n         [0.],\n         [0.],\n         ...,\n         [0.],\n         [0.],\n         [0.]]],\n\n\n       [[[0.],\n         [0.],\n         [0.],\n         ...,\n         [0.],\n         [0.],\n         [0.]],\n\n        [[0.],\n         [0.],\n         [0.],\n         ...,\n         [0.],\n         [0.],\n         [0.]],\n\n        [[0.],\n         [0.],\n         [0.],\n         ...,\n         [0.],\n         [0.],\n         [0.]],\n\n        ...,\n\n        [[0.],\n         [0.],\n         [0.],\n         ...,\n         [0.],\n         [0.],\n         [0.]],\n\n        [[0.],\n         [0.],\n         [0.],\n         ...,\n         [0.],\n         [0.],\n         [0.]],\n\n        [[0.],\n         [0.],\n         [0.],\n         ...,\n         [0.],\n         [0.],\n         [0.]]]], dtype=float32))",
     "output_type": "error",
     "traceback": [
      "\u001b[1;31m---------------------------------------------------------------------------\u001b[0m",
      "\u001b[1;31mValueError\u001b[0m                                Traceback (most recent call last)",
      "\u001b[1;32m<ipython-input-70-54ad16970578>\u001b[0m in \u001b[0;36m<module>\u001b[1;34m()\u001b[0m\n\u001b[0;32m     40\u001b[0m         \u001b[0mX_batch\u001b[0m \u001b[1;33m=\u001b[0m \u001b[0mX_train\u001b[0m\u001b[1;33m[\u001b[0m\u001b[0mrandom_indeces\u001b[0m\u001b[1;33m]\u001b[0m\u001b[1;33m\u001b[0m\u001b[0m\n\u001b[0;32m     41\u001b[0m \u001b[1;33m\u001b[0m\u001b[0m\n\u001b[1;32m---> 42\u001b[1;33m         \u001b[0mloss\u001b[0m \u001b[1;33m=\u001b[0m \u001b[0mmodel\u001b[0m\u001b[1;33m.\u001b[0m\u001b[0mtrain_on_batch\u001b[0m\u001b[1;33m(\u001b[0m\u001b[0mX_batch\u001b[0m\u001b[1;33m,\u001b[0m \u001b[0mX_batch\u001b[0m\u001b[1;33m)\u001b[0m\u001b[1;33m\u001b[0m\u001b[0m\n\u001b[0m\u001b[0;32m     43\u001b[0m         \u001b[0mlosses\u001b[0m\u001b[1;33m.\u001b[0m\u001b[0mappend\u001b[0m\u001b[1;33m(\u001b[0m\u001b[0mloss\u001b[0m\u001b[1;33m)\u001b[0m\u001b[1;33m\u001b[0m\u001b[0m\n\u001b[0;32m     44\u001b[0m \u001b[1;33m\u001b[0m\u001b[0m\n",
      "\u001b[1;32mC:\\dev\\programs\\Anaconda3\\envs\\gpu\\lib\\site-packages\\keras\\engine\\training.py\u001b[0m in \u001b[0;36mtrain_on_batch\u001b[1;34m(self, x, y, sample_weight, class_weight)\u001b[0m\n\u001b[0;32m   1207\u001b[0m             \u001b[0mx\u001b[0m\u001b[1;33m,\u001b[0m \u001b[0my\u001b[0m\u001b[1;33m,\u001b[0m\u001b[1;33m\u001b[0m\u001b[0m\n\u001b[0;32m   1208\u001b[0m             \u001b[0msample_weight\u001b[0m\u001b[1;33m=\u001b[0m\u001b[0msample_weight\u001b[0m\u001b[1;33m,\u001b[0m\u001b[1;33m\u001b[0m\u001b[0m\n\u001b[1;32m-> 1209\u001b[1;33m             class_weight=class_weight)\n\u001b[0m\u001b[0;32m   1210\u001b[0m         \u001b[1;32mif\u001b[0m \u001b[0mself\u001b[0m\u001b[1;33m.\u001b[0m\u001b[0m_uses_dynamic_learning_phase\u001b[0m\u001b[1;33m(\u001b[0m\u001b[1;33m)\u001b[0m\u001b[1;33m:\u001b[0m\u001b[1;33m\u001b[0m\u001b[0m\n\u001b[0;32m   1211\u001b[0m             \u001b[0mins\u001b[0m \u001b[1;33m=\u001b[0m \u001b[0mx\u001b[0m \u001b[1;33m+\u001b[0m \u001b[0my\u001b[0m \u001b[1;33m+\u001b[0m \u001b[0msample_weights\u001b[0m \u001b[1;33m+\u001b[0m \u001b[1;33m[\u001b[0m\u001b[1;36m1.\u001b[0m\u001b[1;33m]\u001b[0m\u001b[1;33m\u001b[0m\u001b[0m\n",
      "\u001b[1;32mC:\\dev\\programs\\Anaconda3\\envs\\gpu\\lib\\site-packages\\keras\\engine\\training.py\u001b[0m in \u001b[0;36m_standardize_user_data\u001b[1;34m(self, x, y, sample_weight, class_weight, check_array_lengths, batch_size)\u001b[0m\n\u001b[0;32m    785\u001b[0m                 \u001b[0mfeed_output_shapes\u001b[0m\u001b[1;33m,\u001b[0m\u001b[1;33m\u001b[0m\u001b[0m\n\u001b[0;32m    786\u001b[0m                 \u001b[0mcheck_batch_axis\u001b[0m\u001b[1;33m=\u001b[0m\u001b[1;32mFalse\u001b[0m\u001b[1;33m,\u001b[0m  \u001b[1;31m# Don't enforce the batch size.\u001b[0m\u001b[1;33m\u001b[0m\u001b[0m\n\u001b[1;32m--> 787\u001b[1;33m                 exception_prefix='target')\n\u001b[0m\u001b[0;32m    788\u001b[0m \u001b[1;33m\u001b[0m\u001b[0m\n\u001b[0;32m    789\u001b[0m             \u001b[1;31m# Generate sample-wise weight values given the `sample_weight` and\u001b[0m\u001b[1;33m\u001b[0m\u001b[1;33m\u001b[0m\u001b[0m\n",
      "\u001b[1;32mC:\\dev\\programs\\Anaconda3\\envs\\gpu\\lib\\site-packages\\keras\\engine\\training_utils.py\u001b[0m in \u001b[0;36mstandardize_input_data\u001b[1;34m(data, names, shapes, check_batch_axis, exception_prefix)\u001b[0m\n\u001b[0;32m     60\u001b[0m             raise ValueError('Error when checking model ' +\n\u001b[0;32m     61\u001b[0m                              \u001b[0mexception_prefix\u001b[0m \u001b[1;33m+\u001b[0m \u001b[1;34m': '\u001b[0m\u001b[1;33m\u001b[0m\u001b[0m\n\u001b[1;32m---> 62\u001b[1;33m                              'expected no data, but got:', data)\n\u001b[0m\u001b[0;32m     63\u001b[0m         \u001b[1;32mreturn\u001b[0m \u001b[1;33m[\u001b[0m\u001b[1;33m]\u001b[0m\u001b[1;33m\u001b[0m\u001b[0m\n\u001b[0;32m     64\u001b[0m     \u001b[1;32mif\u001b[0m \u001b[0mdata\u001b[0m \u001b[1;32mis\u001b[0m \u001b[1;32mNone\u001b[0m\u001b[1;33m:\u001b[0m\u001b[1;33m\u001b[0m\u001b[0m\n",
      "\u001b[1;31mValueError\u001b[0m: ('Error when checking model target: expected no data, but got:', array([[[[0.],\n         [0.],\n         [0.],\n         ...,\n         [0.],\n         [0.],\n         [0.]],\n\n        [[0.],\n         [0.],\n         [0.],\n         ...,\n         [0.],\n         [0.],\n         [0.]],\n\n        [[0.],\n         [0.],\n         [0.],\n         ...,\n         [0.],\n         [0.],\n         [0.]],\n\n        ...,\n\n        [[0.],\n         [0.],\n         [0.],\n         ...,\n         [0.],\n         [0.],\n         [0.]],\n\n        [[0.],\n         [0.],\n         [0.],\n         ...,\n         [0.],\n         [0.],\n         [0.]],\n\n        [[0.],\n         [0.],\n         [0.],\n         ...,\n         [0.],\n         [0.],\n         [0.]]],\n\n\n       [[[0.],\n         [0.],\n         [0.],\n         ...,\n         [0.],\n         [0.],\n         [0.]],\n\n        [[0.],\n         [0.],\n         [0.],\n         ...,\n         [0.],\n         [0.],\n         [0.]],\n\n        [[0.],\n         [0.],\n         [0.],\n         ...,\n         [0.],\n         [0.],\n         [0.]],\n\n        ...,\n\n        [[0.],\n         [0.],\n         [0.],\n         ...,\n         [0.],\n         [0.],\n         [0.]],\n\n        [[0.],\n         [0.],\n         [0.],\n         ...,\n         [0.],\n         [0.],\n         [0.]],\n\n        [[0.],\n         [0.],\n         [0.],\n         ...,\n         [0.],\n         [0.],\n         [0.]]],\n\n\n       [[[0.],\n         [0.],\n         [0.],\n         ...,\n         [0.],\n         [0.],\n         [0.]],\n\n        [[0.],\n         [0.],\n         [0.],\n         ...,\n         [0.],\n         [0.],\n         [0.]],\n\n        [[0.],\n         [0.],\n         [0.],\n         ...,\n         [0.],\n         [0.],\n         [0.]],\n\n        ...,\n\n        [[0.],\n         [0.],\n         [0.],\n         ...,\n         [0.],\n         [0.],\n         [0.]],\n\n        [[0.],\n         [0.],\n         [0.],\n         ...,\n         [0.],\n         [0.],\n         [0.]],\n\n        [[0.],\n         [0.],\n         [0.],\n         ...,\n         [0.],\n         [0.],\n         [0.]]],\n\n\n       ...,\n\n\n       [[[0.],\n         [0.],\n         [0.],\n         ...,\n         [0.],\n         [0.],\n         [0.]],\n\n        [[0.],\n         [0.],\n         [0.],\n         ...,\n         [0.],\n         [0.],\n         [0.]],\n\n        [[0.],\n         [0.],\n         [0.],\n         ...,\n         [0.],\n         [0.],\n         [0.]],\n\n        ...,\n\n        [[0.],\n         [0.],\n         [0.],\n         ...,\n         [0.],\n         [0.],\n         [0.]],\n\n        [[0.],\n         [0.],\n         [0.],\n         ...,\n         [0.],\n         [0.],\n         [0.]],\n\n        [[0.],\n         [0.],\n         [0.],\n         ...,\n         [0.],\n         [0.],\n         [0.]]],\n\n\n       [[[0.],\n         [0.],\n         [0.],\n         ...,\n         [0.],\n         [0.],\n         [0.]],\n\n        [[0.],\n         [0.],\n         [0.],\n         ...,\n         [0.],\n         [0.],\n         [0.]],\n\n        [[0.],\n         [0.],\n         [0.],\n         ...,\n         [0.],\n         [0.],\n         [0.]],\n\n        ...,\n\n        [[0.],\n         [0.],\n         [0.],\n         ...,\n         [0.],\n         [0.],\n         [0.]],\n\n        [[0.],\n         [0.],\n         [0.],\n         ...,\n         [0.],\n         [0.],\n         [0.]],\n\n        [[0.],\n         [0.],\n         [0.],\n         ...,\n         [0.],\n         [0.],\n         [0.]]],\n\n\n       [[[0.],\n         [0.],\n         [0.],\n         ...,\n         [0.],\n         [0.],\n         [0.]],\n\n        [[0.],\n         [0.],\n         [0.],\n         ...,\n         [0.],\n         [0.],\n         [0.]],\n\n        [[0.],\n         [0.],\n         [0.],\n         ...,\n         [0.],\n         [0.],\n         [0.]],\n\n        ...,\n\n        [[0.],\n         [0.],\n         [0.],\n         ...,\n         [0.],\n         [0.],\n         [0.]],\n\n        [[0.],\n         [0.],\n         [0.],\n         ...,\n         [0.],\n         [0.],\n         [0.]],\n\n        [[0.],\n         [0.],\n         [0.],\n         ...,\n         [0.],\n         [0.],\n         [0.]]]], dtype=float32))"
     ]
    }
   ],
   "source": [
    "start_fresh = True\n",
    "next_pid = 1\n",
    "\n",
    "n_epochs = 10\n",
    "batch_size = 100\n",
    "n_batches = X_train.shape[0] // batch_size\n",
    "\n",
    "see_changes = True #use the same noise for output images, to track changes4\n",
    "show_zero = False\n",
    "\n",
    "\n",
    "if see_changes:\n",
    "    if start_fresh:\n",
    "        #enc_const = np.random.normal(-1, 1, batch_size * n_codings).reshape((batch_size, n_codings))\n",
    "        enc_const = np.random.uniform(-1, 1, batch_size * n_codings).reshape((batch_size, n_codings))\n",
    "    else:\n",
    "        try:\n",
    "            enc_const\n",
    "        except NameError:\n",
    "            #enc_const = np.random.normal(0, 1, batch_size * n_codings).reshape((batch_size, n_codings))\n",
    "            enc_const = np.random.uniform(-1, 1, batch_size * n_codings).reshape((batch_size, n_codings))\n",
    "\n",
    "if start_fresh:\n",
    "    pic_epoch_id = 0\n",
    "else:\n",
    "    pic_epoch_id = next_pid #continue from this epoch - must be set by hand\n",
    "    encoder.load_weights(encoder_file + '.' + str(next_pid - 1))\n",
    "    decoder.load_weights(decoder_file + '.' + str(next_pid - 1))\n",
    "\n",
    "epoch = pic_epoch_id\n",
    "max_epoch = n_epochs + pic_epoch_id\n",
    "noise_zero = np.zeros((1, n_codings))\n",
    "\n",
    "print(\"Training for\", n_epochs, \"epochs with\", n_batches, \"batches of size\", batch_size, end=\"\")\n",
    "\n",
    "while epoch < max_epoch:\n",
    "    losses = []\n",
    "    for iteration in range(n_batches):\n",
    "        random_indeces = np.random.randint(0, X_train.shape[0], batch_size)\n",
    "        X_batch = X_train[random_indeces]\n",
    "        \n",
    "        loss = model.train_on_batch(X_batch, X_batch)\n",
    "        losses.append(loss)\n",
    "        \n",
    "        print(\"\\rEpoch {:3}: {:3}% | loss: {:3.4f}\".format(\n",
    "                epoch, 100 * iteration // n_batches, loss), end=\"\")\n",
    "        sys.stdout.flush()\n",
    "        \n",
    "        if show_zero:\n",
    "            image0 = combine_images(generator.predict(noise_zero), 1, 1) * 255\n",
    "            Image.fromarray(image0.astype(np.uint8)).save(\n",
    "                    save_path0 + str(epoch) + \"_\" + str(iteration) + \".png\")\n",
    "        \n",
    "        if iteration % (n_batches // 1) == 0:\n",
    "            if see_changes:\n",
    "                fake_images = generator.predict(noise_const, verbose=0)\n",
    "            image = combine_images(fake_images)\n",
    "            image = image * 255\n",
    "            Image.fromarray(image.astype(np.uint8)).save(\n",
    "                save_path + str(epoch) + \".png\")\n",
    "        \n",
    "        if iteration % (n_batches // 1) == 0:\n",
    "            generator.save_weights(gen_file + \".\" + str(epoch), True)\n",
    "            generator.save_weights(gen_file, True)\n",
    "            discriminator.save_weights(disc_file + \".\" + str(epoch), True)\n",
    "            discriminator.save_weights(disc_file, True)\n",
    "    \n",
    "    print()\n",
    "    epoch += 1\n",
    "    pic_epoch_id = epoch\n",
    "\n",
    "print(\"Training finished.\")"
   ]
  },
  {
   "cell_type": "code",
   "execution_count": null,
   "metadata": {},
   "outputs": [],
   "source": []
  }
 ],
 "metadata": {
  "kernelspec": {
   "display_name": "Python 3",
   "language": "python",
   "name": "python3"
  },
  "language_info": {
   "codemirror_mode": {
    "name": "ipython",
    "version": 3
   },
   "file_extension": ".py",
   "mimetype": "text/x-python",
   "name": "python",
   "nbconvert_exporter": "python",
   "pygments_lexer": "ipython3",
   "version": "3.6.6"
  },
  "toc": {
   "base_numbering": 1,
   "nav_menu": {},
   "number_sections": true,
   "sideBar": true,
   "skip_h1_title": false,
   "title_cell": "Table of Contents",
   "title_sidebar": "Contents",
   "toc_cell": false,
   "toc_position": {
    "height": "calc(100% - 180px)",
    "left": "10px",
    "top": "150px",
    "width": "279px"
   },
   "toc_section_display": true,
   "toc_window_display": true
  }
 },
 "nbformat": 4,
 "nbformat_minor": 2
}
